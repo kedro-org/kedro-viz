{
 "cells": [
  {
   "cell_type": "code",
   "execution_count": 43,
   "id": "001319ed-2ffb-408a-a779-71aed5ab2d8f",
   "metadata": {},
   "outputs": [],
   "source": [
    "import pandas as pd"
   ]
  },
  {
   "cell_type": "code",
   "execution_count": 44,
   "id": "400bb5d7-1326-48de-a1a2-0ce0904cfad2",
   "metadata": {},
   "outputs": [],
   "source": [
    "import datetime\n",
    "import random"
   ]
  },
  {
   "cell_type": "code",
   "execution_count": 45,
   "id": "f776dfad-c01c-411b-82d6-8046e6886a5e",
   "metadata": {},
   "outputs": [],
   "source": [
    "def randomDate(start, end, n):\n",
    "    frmt = '%d-%m-%Y %H:%M:%S'\n",
    "    stime = datetime.datetime.strptime(start, frmt)\n",
    "    etime = datetime.datetime.strptime(end, frmt)\n",
    "    td = etime - stime\n",
    "    return [random.random() * td + stime for _ in range(n)]"
   ]
  },
  {
   "cell_type": "code",
   "execution_count": 46,
   "id": "89d2f449-e152-4e25-85cd-a9b659a798e9",
   "metadata": {},
   "outputs": [],
   "source": [
    "runId = randomDate(\"01-05-2022 13:30:00\", \"23-10-2022 04:50:34\",30)\n",
    "runExtraList = [random.choice(runId) for _ in range(120)]\n",
    "runIDList = runId+ runExtraList"
   ]
  },
  {
   "cell_type": "code",
   "execution_count": 47,
   "id": "8e87b97a-fbbc-4a16-8ec6-73236a586eda",
   "metadata": {},
   "outputs": [
    {
     "data": {
      "text/plain": [
       "150"
      ]
     },
     "execution_count": 47,
     "metadata": {},
     "output_type": "execute_result"
    }
   ],
   "source": [
    "len(runList)"
   ]
  },
  {
   "cell_type": "code",
   "execution_count": 48,
   "id": "e7be3562-36db-48a4-b1fc-3d49914daba4",
   "metadata": {},
   "outputs": [],
   "source": [
    "dataset = [\"dataset_\"+ str(i) for i in range(50)]\n",
    "dataExtraList = [random.choice(dataset) for _ in range(100)]\n",
    "datasetList = dataset+ dataExtraList"
   ]
  },
  {
   "cell_type": "code",
   "execution_count": null,
   "id": "dabe9380-144c-419c-80df-fcfeab2cfaca",
   "metadata": {},
   "outputs": [],
   "source": []
  },
  {
   "cell_type": "code",
   "execution_count": null,
   "id": "9e685bd4-a55d-4190-bf2e-2992f5cfd263",
   "metadata": {},
   "outputs": [],
   "source": []
  },
  {
   "cell_type": "code",
   "execution_count": 49,
   "id": "68f867c7-8824-4ed7-94ab-c6f759e30dc1",
   "metadata": {},
   "outputs": [],
   "source": [
    "metricsList = [\"metrics\"+ str(i) for i in range(150)]"
   ]
  },
  {
   "cell_type": "code",
   "execution_count": 50,
   "id": "03a38895-3ddc-4d3c-8a2c-5cb69da83666",
   "metadata": {},
   "outputs": [],
   "source": [
    "metricsValue = [random.random() for _ in range(150)]"
   ]
  },
  {
   "cell_type": "code",
   "execution_count": 52,
   "id": "ad67651e-b94e-4b59-a001-95e254fed5d2",
   "metadata": {},
   "outputs": [],
   "source": [
    "df = pd.DataFrame({\"run_id\":runIDList,\"dataset_name\":datasetList,\"metric\":metricsList,\"value\":metricsValue})"
   ]
  },
  {
   "cell_type": "code",
   "execution_count": 57,
   "id": "2697ebef-3b71-4766-b861-bbecc47560b1",
   "metadata": {},
   "outputs": [],
   "source": [
    "df2 = df.sort_values(by=['run_id'])"
   ]
  },
  {
   "cell_type": "code",
   "execution_count": 58,
   "id": "e1dccad1-b6a7-471c-8d8a-d5a9a782fb5c",
   "metadata": {},
   "outputs": [
    {
     "data": {
      "text/html": [
       "<div>\n",
       "<style scoped>\n",
       "    .dataframe tbody tr th:only-of-type {\n",
       "        vertical-align: middle;\n",
       "    }\n",
       "\n",
       "    .dataframe tbody tr th {\n",
       "        vertical-align: top;\n",
       "    }\n",
       "\n",
       "    .dataframe thead th {\n",
       "        text-align: right;\n",
       "    }\n",
       "</style>\n",
       "<table border=\"1\" class=\"dataframe\">\n",
       "  <thead>\n",
       "    <tr style=\"text-align: right;\">\n",
       "      <th></th>\n",
       "      <th>run_id</th>\n",
       "      <th>dataset_name</th>\n",
       "      <th>metric</th>\n",
       "      <th>value</th>\n",
       "    </tr>\n",
       "  </thead>\n",
       "  <tbody>\n",
       "    <tr>\n",
       "      <th>69</th>\n",
       "      <td>2022-05-08 19:33:05.257898</td>\n",
       "      <td>dataset_41</td>\n",
       "      <td>metrics69</td>\n",
       "      <td>0.993947</td>\n",
       "    </tr>\n",
       "    <tr>\n",
       "      <th>81</th>\n",
       "      <td>2022-05-08 19:33:05.257898</td>\n",
       "      <td>dataset_15</td>\n",
       "      <td>metrics81</td>\n",
       "      <td>0.987096</td>\n",
       "    </tr>\n",
       "    <tr>\n",
       "      <th>110</th>\n",
       "      <td>2022-05-08 19:33:05.257898</td>\n",
       "      <td>dataset_3</td>\n",
       "      <td>metrics110</td>\n",
       "      <td>0.954339</td>\n",
       "    </tr>\n",
       "    <tr>\n",
       "      <th>142</th>\n",
       "      <td>2022-05-08 19:33:05.257898</td>\n",
       "      <td>dataset_15</td>\n",
       "      <td>metrics142</td>\n",
       "      <td>0.941489</td>\n",
       "    </tr>\n",
       "    <tr>\n",
       "      <th>6</th>\n",
       "      <td>2022-05-08 19:33:05.257898</td>\n",
       "      <td>dataset_6</td>\n",
       "      <td>metrics6</td>\n",
       "      <td>0.038965</td>\n",
       "    </tr>\n",
       "    <tr>\n",
       "      <th>...</th>\n",
       "      <td>...</td>\n",
       "      <td>...</td>\n",
       "      <td>...</td>\n",
       "      <td>...</td>\n",
       "    </tr>\n",
       "    <tr>\n",
       "      <th>63</th>\n",
       "      <td>2022-10-15 05:47:56.298946</td>\n",
       "      <td>dataset_30</td>\n",
       "      <td>metrics63</td>\n",
       "      <td>0.453815</td>\n",
       "    </tr>\n",
       "    <tr>\n",
       "      <th>114</th>\n",
       "      <td>2022-10-15 05:47:56.298946</td>\n",
       "      <td>dataset_46</td>\n",
       "      <td>metrics114</td>\n",
       "      <td>0.468651</td>\n",
       "    </tr>\n",
       "    <tr>\n",
       "      <th>73</th>\n",
       "      <td>2022-10-20 06:35:11.540598</td>\n",
       "      <td>dataset_22</td>\n",
       "      <td>metrics73</td>\n",
       "      <td>0.379810</td>\n",
       "    </tr>\n",
       "    <tr>\n",
       "      <th>120</th>\n",
       "      <td>2022-10-20 06:35:11.540598</td>\n",
       "      <td>dataset_16</td>\n",
       "      <td>metrics120</td>\n",
       "      <td>0.557881</td>\n",
       "    </tr>\n",
       "    <tr>\n",
       "      <th>11</th>\n",
       "      <td>2022-10-20 06:35:11.540598</td>\n",
       "      <td>dataset_11</td>\n",
       "      <td>metrics11</td>\n",
       "      <td>0.205091</td>\n",
       "    </tr>\n",
       "  </tbody>\n",
       "</table>\n",
       "<p>150 rows × 4 columns</p>\n",
       "</div>"
      ],
      "text/plain": [
       "                        run_id dataset_name      metric     value\n",
       "69  2022-05-08 19:33:05.257898   dataset_41   metrics69  0.993947\n",
       "81  2022-05-08 19:33:05.257898   dataset_15   metrics81  0.987096\n",
       "110 2022-05-08 19:33:05.257898    dataset_3  metrics110  0.954339\n",
       "142 2022-05-08 19:33:05.257898   dataset_15  metrics142  0.941489\n",
       "6   2022-05-08 19:33:05.257898    dataset_6    metrics6  0.038965\n",
       "..                         ...          ...         ...       ...\n",
       "63  2022-10-15 05:47:56.298946   dataset_30   metrics63  0.453815\n",
       "114 2022-10-15 05:47:56.298946   dataset_46  metrics114  0.468651\n",
       "73  2022-10-20 06:35:11.540598   dataset_22   metrics73  0.379810\n",
       "120 2022-10-20 06:35:11.540598   dataset_16  metrics120  0.557881\n",
       "11  2022-10-20 06:35:11.540598   dataset_11   metrics11  0.205091\n",
       "\n",
       "[150 rows x 4 columns]"
      ]
     },
     "execution_count": 58,
     "metadata": {},
     "output_type": "execute_result"
    }
   ],
   "source": [
    "df2"
   ]
  },
  {
   "cell_type": "code",
   "execution_count": 60,
   "id": "b54c2244-d56d-4ad4-bb69-4e8fc579a1ae",
   "metadata": {},
   "outputs": [],
   "source": [
    "df2.to_csv('dummy_data.csv',index=False)"
   ]
  },
  {
   "cell_type": "code",
   "execution_count": null,
   "id": "d448c19e-965a-42dd-8aac-78f5b6a87b0d",
   "metadata": {},
   "outputs": [],
   "source": []
  }
 ],
 "metadata": {
  "kernelspec": {
   "display_name": "Python 3 (ipykernel)",
   "language": "python",
   "name": "python3"
  },
  "language_info": {
   "codemirror_mode": {
    "name": "ipython",
    "version": 3
   },
   "file_extension": ".py",
   "mimetype": "text/x-python",
   "name": "python",
   "nbconvert_exporter": "python",
   "pygments_lexer": "ipython3",
   "version": "3.9.13"
  }
 },
 "nbformat": 4,
 "nbformat_minor": 5
}
