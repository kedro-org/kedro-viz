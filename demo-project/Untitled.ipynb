{
 "cells": [
  {
   "cell_type": "code",
   "execution_count": 13,
   "id": "9598f7ec-bf4a-461a-9925-953024d97996",
   "metadata": {},
   "outputs": [],
   "source": [
    "from kedro.pipeline import pipeline, node"
   ]
  },
  {
   "cell_type": "code",
   "execution_count": 14,
   "id": "50c84657-e314-47e0-854b-38d32c24727e",
   "metadata": {},
   "outputs": [],
   "source": [
    "def dummy(ds1):\n",
    "    return ds1\n",
    "n0 = node(func=dummy, inputs=\"flights\", outputs=\"processed_flights\")"
   ]
  },
  {
   "cell_type": "code",
   "execution_count": 15,
   "id": "f9b64488-4462-449b-bcb8-060606856cf0",
   "metadata": {},
   "outputs": [],
   "source": [
    "pipe = pipeline([n0])"
   ]
  },
  {
   "cell_type": "code",
   "execution_count": 16,
   "id": "d0ae936a-0665-4a48-9029-575dab0f4396",
   "metadata": {},
   "outputs": [
    {
     "data": {
      "text/html": [
       "<pre style=\"white-space:pre;overflow-x:auto;line-height:normal;font-family:Menlo,'DejaVu Sans Mono',consolas,'Courier New',monospace\"></pre>\n"
      ],
      "text/plain": []
     },
     "metadata": {},
     "output_type": "display_data"
    },
    {
     "data": {
      "text/plain": [
       "\n",
       "\u001b[1;35mPipeline\u001b[0m\u001b[1m(\u001b[0m\u001b[1m[\u001b[0m\n",
       "\u001b[1;35mNode\u001b[0m\u001b[1m(\u001b[0mdummy, \u001b[32m'flights'\u001b[0m, \u001b[32m'processed_flights'\u001b[0m, \u001b[3;35mNone\u001b[0m\u001b[1m)\u001b[0m\n",
       "\u001b[1m]\u001b[0m\u001b[1m)\u001b[0m"
      ]
     },
     "execution_count": 16,
     "metadata": {},
     "output_type": "execute_result"
    }
   ],
   "source": [
    "pipe"
   ]
  },
  {
   "cell_type": "code",
   "execution_count": 17,
   "id": "3ef26c6b-7917-41a5-9d09-b0235cc4af9d",
   "metadata": {},
   "outputs": [
    {
     "name": "stdout",
     "output_type": "stream",
     "text": [
      "The kedro.ipython extension is already loaded. To reload it, use:\n",
      "  %reload_ext kedro.ipython\n"
     ]
    }
   ],
   "source": [
    "%load_ext kedro.ipython"
   ]
  },
  {
   "cell_type": "code",
   "execution_count": 6,
   "id": "756dfac1-8f2e-497d-9a24-e54e43028d18",
   "metadata": {},
   "outputs": [],
   "source": [
    "from kedro_viz.launchers.experimental_viz import KedroVizNotebook"
   ]
  },
  {
   "cell_type": "code",
   "execution_count": 18,
   "id": "c2786e73-3cff-43d6-8b2a-81b25fc3ceaa",
   "metadata": {},
   "outputs": [
    {
     "name": "stdout",
     "output_type": "stream",
     "text": [
      "The pipeline we get:: Pipeline([\n",
      "Node(dummy, 'flights', 'processed_flights', None)\n",
      "])\n"
     ]
    },
    {
     "data": {
      "text/html": [
       "<pre style=\"white-space:pre;overflow-x:auto;line-height:normal;font-family:Menlo,'DejaVu Sans Mono',consolas,'Courier New',monospace\"></pre>\n"
      ],
      "text/plain": []
     },
     "metadata": {},
     "output_type": "display_data"
    },
    {
     "data": {
      "text/html": [
       "\n",
       "        <iframe\n",
       "            width=\"900\"\n",
       "            height=\"600\"\n",
       "            src=\"http://127.0.0.1:4144/\"\n",
       "            frameborder=\"0\"\n",
       "            allowfullscreen\n",
       "            \n",
       "        ></iframe>\n",
       "        "
      ],
      "text/plain": [
       "\u001b[1m<\u001b[0m\u001b[1;95mIPython.lib.display.IFrame\u001b[0m\u001b[39m object at \u001b[0m\u001b[1;36m0x128d20ce0\u001b[0m\u001b[1m>\u001b[0m"
      ]
     },
     "metadata": {},
     "output_type": "display_data"
    }
   ],
   "source": [
    "KedroVizNotebook().visualize(pipe)"
   ]
  },
  {
   "cell_type": "code",
   "execution_count": null,
   "id": "f9edf772-57bf-4a67-af72-e359006c32ff",
   "metadata": {},
   "outputs": [],
   "source": []
  }
 ],
 "metadata": {
  "kernelspec": {
   "display_name": "Python 3 (ipykernel)",
   "language": "python",
   "name": "python3"
  },
  "language_info": {
   "codemirror_mode": {
    "name": "ipython",
    "version": 3
   },
   "file_extension": ".py",
   "mimetype": "text/x-python",
   "name": "python",
   "nbconvert_exporter": "python",
   "pygments_lexer": "ipython3",
   "version": "3.12.8"
  }
 },
 "nbformat": 4,
 "nbformat_minor": 5
}
