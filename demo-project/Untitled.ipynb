{
 "cells": [
  {
   "cell_type": "code",
   "execution_count": null,
   "id": "d11a1eba-b2ef-40d1-a814-a7dc64f32f98",
   "metadata": {},
   "outputs": [],
   "source": []
  }
 ],
 "metadata": {
  "kernelspec": {
   "display_name": "",
   "name": ""
  },
  "language_info": {
   "name": ""
  }
 },
 "nbformat": 4,
 "nbformat_minor": 5
}
