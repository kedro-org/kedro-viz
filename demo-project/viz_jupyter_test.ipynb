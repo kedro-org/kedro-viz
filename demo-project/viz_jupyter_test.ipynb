{
 "cells": [
  {
   "cell_type": "code",
   "execution_count": 2,
   "id": "9598f7ec-bf4a-461a-9925-953024d97996",
   "metadata": {},
   "outputs": [],
   "source": [
    "from kedro.pipeline import pipeline, node"
   ]
  },
  {
   "cell_type": "code",
   "execution_count": 3,
   "id": "50c84657-e314-47e0-854b-38d32c24727e",
   "metadata": {},
   "outputs": [],
   "source": [
    "def dummy(ds1):\n",
    "    return ds1\n",
    "n0 = node(func=dummy, inputs=\"flights\", outputs=\"processed_flights\")"
   ]
  },
  {
   "cell_type": "code",
   "execution_count": 4,
   "id": "f9b64488-4462-449b-bcb8-060606856cf0",
   "metadata": {},
   "outputs": [],
   "source": [
    "pipe = pipeline([n0])"
   ]
  },
  {
   "cell_type": "code",
   "execution_count": 5,
   "id": "d0ae936a-0665-4a48-9029-575dab0f4396",
   "metadata": {},
   "outputs": [
    {
     "data": {
      "text/plain": [
       "Pipeline([\n",
       "Node(dummy, 'flights', 'processed_flights', None)\n",
       "])"
      ]
     },
     "execution_count": 5,
     "metadata": {},
     "output_type": "execute_result"
    }
   ],
   "source": [
    "pipe"
   ]
  },
  {
   "cell_type": "code",
   "execution_count": 6,
   "id": "756dfac1-8f2e-497d-9a24-e54e43028d18",
   "metadata": {},
   "outputs": [
    {
     "data": {
      "text/html": [
       "<pre style=\"white-space:pre;overflow-x:auto;line-height:normal;font-family:Menlo,'DejaVu Sans Mono',consolas,'Courier New',monospace\"><span style=\"color: #7fbfbf; text-decoration-color: #7fbfbf\">[01/23/25 17:47:08] </span><span style=\"color: #000080; text-decoration-color: #000080\">INFO    </span> Using                                                                  <a href=\"file:///Users/Ravi_Kumar_Pilla/Library/CloudStorage/OneDrive-McKinsey&Company/Documents/KedroOrg/kedro/kedro/framework/project/__init__.py\" target=\"_blank\"><span style=\"color: #7f7f7f; text-decoration-color: #7f7f7f\">__init__.py</span></a><span style=\"color: #7f7f7f; text-decoration-color: #7f7f7f\">:</span><a href=\"file:///Users/Ravi_Kumar_Pilla/Library/CloudStorage/OneDrive-McKinsey&Company/Documents/KedroOrg/kedro/kedro/framework/project/__init__.py#270\" target=\"_blank\"><span style=\"color: #7f7f7f; text-decoration-color: #7f7f7f\">270</span></a>\n",
       "<span style=\"color: #7fbfbf; text-decoration-color: #7fbfbf\">                    </span>         <span style=\"color: #008000; text-decoration-color: #008000\">'/Users/Ravi_Kumar_Pilla/Library/CloudStorage/OneDrive-McKinsey&amp;Compan</span> <span style=\"color: #7f7f7f; text-decoration-color: #7f7f7f\">               </span>\n",
       "<span style=\"color: #7fbfbf; text-decoration-color: #7fbfbf\">                    </span>         <span style=\"color: #008000; text-decoration-color: #008000\">y/Documents/KedroOrg/kedro/kedro/framework/project/rich_logging.yml'</span>   <span style=\"color: #7f7f7f; text-decoration-color: #7f7f7f\">               </span>\n",
       "<span style=\"color: #7fbfbf; text-decoration-color: #7fbfbf\">                    </span>         as logging configuration.                                              <span style=\"color: #7f7f7f; text-decoration-color: #7f7f7f\">               </span>\n",
       "</pre>\n"
      ],
      "text/plain": [
       "\u001b[2;36m[01/23/25 17:47:08]\u001b[0m\u001b[2;36m \u001b[0m\u001b[34mINFO    \u001b[0m Using                                                                  \u001b]8;id=874068;file:///Users/Ravi_Kumar_Pilla/Library/CloudStorage/OneDrive-McKinsey&Company/Documents/KedroOrg/kedro/kedro/framework/project/__init__.py\u001b\\\u001b[2m__init__.py\u001b[0m\u001b]8;;\u001b\\\u001b[2m:\u001b[0m\u001b]8;id=365112;file:///Users/Ravi_Kumar_Pilla/Library/CloudStorage/OneDrive-McKinsey&Company/Documents/KedroOrg/kedro/kedro/framework/project/__init__.py#270\u001b\\\u001b[2m270\u001b[0m\u001b]8;;\u001b\\\n",
       "\u001b[2;36m                    \u001b[0m         \u001b[32m'/Users/Ravi_Kumar_Pilla/Library/CloudStorage/OneDrive-McKinsey&Compan\u001b[0m \u001b[2m               \u001b[0m\n",
       "\u001b[2;36m                    \u001b[0m         \u001b[32my/Documents/KedroOrg/kedro/kedro/framework/project/rich_logging.yml'\u001b[0m   \u001b[2m               \u001b[0m\n",
       "\u001b[2;36m                    \u001b[0m         as logging configuration.                                              \u001b[2m               \u001b[0m\n"
      ]
     },
     "metadata": {},
     "output_type": "display_data"
    }
   ],
   "source": [
    "from kedro_viz.launchers.experimental_viz import KedroVizNotebook"
   ]
  },
  {
   "cell_type": "code",
   "execution_count": 7,
   "id": "c2786e73-3cff-43d6-8b2a-81b25fc3ceaa",
   "metadata": {},
   "outputs": [
    {
     "data": {
      "text/html": [
       "<pre style=\"white-space:pre;overflow-x:auto;line-height:normal;font-family:Menlo,'DejaVu Sans Mono',consolas,'Courier New',monospace\"></pre>\n"
      ],
      "text/plain": []
     },
     "metadata": {},
     "output_type": "display_data"
    },
    {
     "data": {
      "text/html": [
       "\n",
       "        <iframe\n",
       "            width=\"100%\"\n",
       "            height=\"600\"\n",
       "            src=\".viz/jupyter_viz_exploration.html\"\n",
       "            frameborder=\"0\"\n",
       "            allowfullscreen\n",
       "            \n",
       "        ></iframe>\n",
       "        "
      ],
      "text/plain": [
       "\u001b[1m<\u001b[0m\u001b[1;95mIPython.lib.display.IFrame\u001b[0m\u001b[39m object at \u001b[0m\u001b[1;36m0x11cd0aba0\u001b[0m\u001b[1m>\u001b[0m"
      ]
     },
     "metadata": {},
     "output_type": "display_data"
    }
   ],
   "source": [
    "KedroVizNotebook().visualize(pipe)"
   ]
  }
 ],
 "metadata": {
  "kernelspec": {
   "display_name": "kedro-py312",
   "language": "python",
   "name": "python3"
  },
  "language_info": {
   "codemirror_mode": {
    "name": "ipython",
    "version": 3
   },
   "file_extension": ".py",
   "mimetype": "text/x-python",
   "name": "python",
   "nbconvert_exporter": "python",
   "pygments_lexer": "ipython3",
   "version": "3.12.8"
  }
 },
 "nbformat": 4,
 "nbformat_minor": 5
}
