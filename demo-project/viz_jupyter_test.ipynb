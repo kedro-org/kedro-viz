{
 "cells": [
  {
   "cell_type": "code",
   "execution_count": 1,
   "id": "9598f7ec-bf4a-461a-9925-953024d97996",
   "metadata": {},
   "outputs": [],
   "source": [
    "from kedro.pipeline import pipeline, node"
   ]
  },
  {
   "cell_type": "code",
   "execution_count": 2,
   "id": "50c84657-e314-47e0-854b-38d32c24727e",
   "metadata": {},
   "outputs": [],
   "source": [
    "def dummy(ds1):\n",
    "    return ds1\n",
    "n0 = node(func=dummy, inputs=\"flights\", outputs=\"processed_flights\")"
   ]
  },
  {
   "cell_type": "code",
   "execution_count": 3,
   "id": "f9b64488-4462-449b-bcb8-060606856cf0",
   "metadata": {},
   "outputs": [],
   "source": [
    "pipe = pipeline([n0])"
   ]
  },
  {
   "cell_type": "code",
   "execution_count": 4,
   "id": "d0ae936a-0665-4a48-9029-575dab0f4396",
   "metadata": {},
   "outputs": [
    {
     "data": {
      "text/plain": [
       "Pipeline([\n",
       "Node(dummy, 'flights', 'processed_flights', None)\n",
       "])"
      ]
     },
     "execution_count": 4,
     "metadata": {},
     "output_type": "execute_result"
    }
   ],
   "source": [
    "pipe"
   ]
  },
  {
   "cell_type": "code",
   "execution_count": 7,
   "id": "f4e92e02-4e7d-4b71-80fe-ad8615ad9ab5",
   "metadata": {},
   "outputs": [
    {
     "data": {
      "text/html": [
       "<pre style=\"white-space:pre;overflow-x:auto;line-height:normal;font-family:Menlo,'DejaVu Sans Mono',consolas,'Courier New',monospace\"></pre>\n"
      ],
      "text/plain": []
     },
     "metadata": {},
     "output_type": "display_data"
    },
    {
     "data": {
      "text/html": [
       "<!DOCTYPE html>\n",
       "        <html lang='en'>\n",
       "        <head>\n",
       "            <meta charset='UTF-8'>\n",
       "            <meta name='viewport' content='width=device-width, initial-scale=1.0'>\n",
       "            <title>Kedro-Viz</title>\n",
       "        </head>\n",
       "        <body>\n",
       "            <div id='root' style='height: 600px'></div>\n",
       "            <script src='http://localhost:8012/kedroViz.bundle.min.js'></script>\n",
       "            <script>\n",
       "                window.viz_container =  document.getElementById('root');\n",
       "                \n",
       "                if (window.createRoot) {\n",
       "                    window.viz_root = window.createRoot(window.viz_container);\n",
       "                    window.viz_root && window.viz_root.render(window.React.createElement(window.KedroViz, { data: {\"nodes\": [{\"id\": \"cffa5dc2\", \"name\": \"dummy\", \"tags\": [], \"pipelines\": [\"__default__\"], \"type\": \"task\", \"modular_pipelines\": null, \"parameters\": {}}, {\"id\": \"b1538005\", \"name\": \"flights\", \"tags\": [], \"pipelines\": [\"__default__\"], \"type\": \"data\", \"modular_pipelines\": null, \"layer\": null, \"dataset_type\": \"io.memory_dataset.MemoryDataset\", \"stats\": null}, {\"id\": \"777ad629\", \"name\": \"processed_flights\", \"tags\": [], \"pipelines\": [\"__default__\"], \"type\": \"data\", \"modular_pipelines\": null, \"layer\": null, \"dataset_type\": \"io.memory_dataset.MemoryDataset\", \"stats\": null}], \"edges\": [{\"source\": \"cffa5dc2\", \"target\": \"777ad629\"}, {\"source\": \"b1538005\", \"target\": \"cffa5dc2\"}], \"layers\": [], \"tags\": [], \"pipelines\": [{\"id\": \"__default__\", \"name\": \"__default__\"}], \"modular_pipelines\": {\"__root__\": {\"id\": \"__root__\", \"name\": \"__root__\", \"inputs\": [], \"outputs\": [], \"children\": [{\"id\": \"777ad629\", \"type\": \"data\"}, {\"id\": \"cffa5dc2\", \"type\": \"task\"}, {\"id\": \"b1538005\", \"type\": \"data\"}]}}, \"selected_pipeline\": \"__default__\"}, options: {\"display\": {\"expandPipelinesBtn\": false, \"exportBtn\": false, \"globalNavigation\": false, \"labelBtn\": false, \"layerBtn\": false, \"metadataPanel\": false, \"miniMap\": false, \"sidebar\": false, \"zoomToolbar\": false}, \"expandAllPipelines\": false, \"theme\": \"dark\"} }));\n",
       "                }\n",
       "            </script>\n",
       "        </body>\n",
       "        </html>"
      ],
      "text/plain": [
       "\u001b[1m<\u001b[0m\u001b[1;95mIPython.core.display.HTML\u001b[0m\u001b[39m object\u001b[0m\u001b[1m>\u001b[0m"
      ]
     },
     "metadata": {},
     "output_type": "display_data"
    }
   ],
   "source": [
    "from kedro_viz.launchers.notebook_visualizer import KedroVizNotebook\n",
    "KedroVizNotebook().visualize(pipeline=pipe)"
   ]
  },
  {
   "cell_type": "code",
   "execution_count": null,
   "id": "b70479cc-ea4e-4a22-8170-96ce67353a8e",
   "metadata": {},
   "outputs": [],
   "source": []
  }
 ],
 "metadata": {
  "kernelspec": {
   "display_name": "Python 3 (ipykernel)",
   "language": "python",
   "name": "python3"
  },
  "language_info": {
   "codemirror_mode": {
    "name": "ipython",
    "version": 3
   },
   "file_extension": ".py",
   "mimetype": "text/x-python",
   "name": "python",
   "nbconvert_exporter": "python",
   "pygments_lexer": "ipython3",
   "version": "3.12.8"
  }
 },
 "nbformat": 4,
 "nbformat_minor": 5
}
