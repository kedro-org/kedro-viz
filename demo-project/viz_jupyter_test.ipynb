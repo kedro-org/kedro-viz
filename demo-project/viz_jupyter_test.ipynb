{
 "cells": [
  {
   "cell_type": "code",
   "execution_count": 11,
   "id": "9598f7ec-bf4a-461a-9925-953024d97996",
   "metadata": {},
   "outputs": [],
   "source": [
    "from kedro.pipeline import pipeline, node"
   ]
  },
  {
   "cell_type": "code",
   "execution_count": 12,
   "id": "50c84657-e314-47e0-854b-38d32c24727e",
   "metadata": {},
   "outputs": [],
   "source": [
    "def dummy(ds1):\n",
    "    return ds1\n",
    "n0 = node(func=dummy, inputs=\"flights\", outputs=\"processed_flights\")"
   ]
  },
  {
   "cell_type": "code",
   "execution_count": 13,
   "id": "f9b64488-4462-449b-bcb8-060606856cf0",
   "metadata": {},
   "outputs": [],
   "source": [
    "pipe = pipeline([n0])"
   ]
  },
  {
   "cell_type": "code",
   "execution_count": 14,
   "id": "d0ae936a-0665-4a48-9029-575dab0f4396",
   "metadata": {},
   "outputs": [
    {
     "data": {
      "text/html": [
       "<pre style=\"white-space:pre;overflow-x:auto;line-height:normal;font-family:Menlo,'DejaVu Sans Mono',consolas,'Courier New',monospace\"></pre>\n"
      ],
      "text/plain": []
     },
     "metadata": {},
     "output_type": "display_data"
    },
    {
     "data": {
      "text/plain": [
       "\n",
       "\u001b[1;35mPipeline\u001b[0m\u001b[1m(\u001b[0m\u001b[1m[\u001b[0m\n",
       "\u001b[1;35mNode\u001b[0m\u001b[1m(\u001b[0mdummy, \u001b[32m'flights'\u001b[0m, \u001b[32m'processed_flights'\u001b[0m, \u001b[3;35mNone\u001b[0m\u001b[1m)\u001b[0m\n",
       "\u001b[1m]\u001b[0m\u001b[1m)\u001b[0m"
      ]
     },
     "execution_count": 14,
     "metadata": {},
     "output_type": "execute_result"
    }
   ],
   "source": [
    "pipe"
   ]
  },
  {
   "cell_type": "code",
   "execution_count": 15,
   "id": "f4e92e02-4e7d-4b71-80fe-ad8615ad9ab5",
   "metadata": {},
   "outputs": [
    {
     "data": {
      "text/html": [
       "<pre style=\"white-space:pre;overflow-x:auto;line-height:normal;font-family:Menlo,'DejaVu Sans Mono',consolas,'Courier New',monospace\"></pre>\n"
      ],
      "text/plain": []
     },
     "metadata": {},
     "output_type": "display_data"
    },
    {
     "data": {
      "text/html": [
       "<!DOCTYPE html>\n",
       "        <html lang='en'>\n",
       "        <head>\n",
       "            <meta charset='UTF-8'>\n",
       "            <meta name='viewport' content='width=device-width, initial-scale=1.0'>\n",
       "            <title>Kedro-Viz</title>\n",
       "        </head>\n",
       "        <body>\n",
       "            <div id=kedro-viz-7d07afbb style='height: 600px'></div>\n",
       "            <script src=\"http://localhost:8013/kedroViz.bundle.min.js\"></script>\n",
       "            <script>\n",
       "                (function waitForBundle(maxRetries = 50, retries = 0) {\n",
       "                    if (typeof KedroVizBundle !== 'undefined') {\n",
       "                        const { KedroViz, createRoot, React } = KedroVizBundle;\n",
       "                        const viz_container = document.getElementById('kedro-viz-7d07afbb');\n",
       "                        \n",
       "                        if (createRoot && viz_container) {\n",
       "                            const viz_root = createRoot(viz_container);\n",
       "                            viz_root.render(\n",
       "                                React.createElement(KedroViz, {\n",
       "                                    data: {\"nodes\": [{\"id\": \"cffa5dc2\", \"name\": \"dummy\", \"tags\": [], \"pipelines\": [\"__default__\"], \"type\": \"task\", \"modular_pipelines\": null, \"parameters\": {}}, {\"id\": \"b1538005\", \"name\": \"flights\", \"tags\": [], \"pipelines\": [\"__default__\"], \"type\": \"data\", \"modular_pipelines\": null, \"layer\": null, \"dataset_type\": \"io.memory_dataset.MemoryDataset\", \"stats\": null}, {\"id\": \"777ad629\", \"name\": \"processed_flights\", \"tags\": [], \"pipelines\": [\"__default__\"], \"type\": \"data\", \"modular_pipelines\": null, \"layer\": null, \"dataset_type\": \"io.memory_dataset.MemoryDataset\", \"stats\": null}], \"edges\": [{\"source\": \"cffa5dc2\", \"target\": \"777ad629\"}, {\"source\": \"b1538005\", \"target\": \"cffa5dc2\"}], \"layers\": [], \"tags\": [], \"pipelines\": [{\"id\": \"__default__\", \"name\": \"__default__\"}], \"modular_pipelines\": {\"__root__\": {\"id\": \"__root__\", \"name\": \"__root__\", \"inputs\": [], \"outputs\": [], \"children\": [{\"id\": \"777ad629\", \"type\": \"data\"}, {\"id\": \"cffa5dc2\", \"type\": \"task\"}, {\"id\": \"b1538005\", \"type\": \"data\"}]}}, \"selected_pipeline\": \"__default__\"},\n",
       "                                    options: {\"display\": {\"expandPipelinesBtn\": false, \"exportBtn\": false, \"globalNavigation\": false, \"labelBtn\": false, \"layerBtn\": false, \"metadataPanel\": false, \"miniMap\": false, \"sidebar\": false, \"zoomToolbar\": false}, \"expandAllPipelines\": false, \"theme\": \"dark\"}\n",
       "                                })\n",
       "                            );\n",
       "                        }\n",
       "                    } else if (retries < maxRetries) {\n",
       "                        setTimeout(() => waitForBundle(maxRetries, retries + 1), 10);  // Retry every 10ms\n",
       "                    } else {\n",
       "                        console.error(\"Failed to load KedroVizBundle after 500ms\");\n",
       "                    }\n",
       "            })();\n",
       "            </script>\n",
       "        </body>\n",
       "        </html>"
      ],
      "text/plain": [
       "\u001b[1m<\u001b[0m\u001b[1;95mIPython.core.display.HTML\u001b[0m\u001b[39m object\u001b[0m\u001b[1m>\u001b[0m"
      ]
     },
     "metadata": {},
     "output_type": "display_data"
    }
   ],
   "source": [
    "from kedro_viz import NotebookVisualizer\n",
    "NotebookVisualizer().show(pipeline=pipe)"
   ]
  },
  {
   "cell_type": "code",
   "execution_count": 16,
   "id": "0f6716d8-91a4-47da-a662-4641ae86a112",
   "metadata": {},
   "outputs": [],
   "source": [
    "from src.demo_project.pipeline_registry import register_pipelines\n",
    "demo_pipe = register_pipelines()"
   ]
  },
  {
   "cell_type": "code",
   "execution_count": 17,
   "id": "80759a84-a065-4495-bd22-6815753dfb4a",
   "metadata": {},
   "outputs": [
    {
     "data": {
      "text/html": [
       "<pre style=\"white-space:pre;overflow-x:auto;line-height:normal;font-family:Menlo,'DejaVu Sans Mono',consolas,'Courier New',monospace\"><span style=\"color: #7fbfbf; text-decoration-color: #7fbfbf\">[01/29/25 12:19:31] </span><span style=\"color: #808000; text-decoration-color: #808000\">WARNING </span> Cannot find parameter `ingestion.typing.reviews.columns_as_floats` in the <a href=\"file:///Users/Ravi_Kumar_Pilla/Library/CloudStorage/OneDrive-McKinsey&Company/Documents/KedroOrg/kedro-viz/package/kedro_viz/models/flowchart/nodes.py\" target=\"_blank\"><span style=\"color: #7f7f7f; text-decoration-color: #7f7f7f\">nodes.py</span></a><span style=\"color: #7f7f7f; text-decoration-color: #7f7f7f\">:</span><a href=\"file:///Users/Ravi_Kumar_Pilla/Library/CloudStorage/OneDrive-McKinsey&Company/Documents/KedroOrg/kedro-viz/package/kedro_viz/models/flowchart/nodes.py#430\" target=\"_blank\"><span style=\"color: #7f7f7f; text-decoration-color: #7f7f7f\">430</span></a>\n",
       "<span style=\"color: #7fbfbf; text-decoration-color: #7fbfbf\">                    </span>         catalog.                                                                  <span style=\"color: #7f7f7f; text-decoration-color: #7f7f7f\">            </span>\n",
       "</pre>\n"
      ],
      "text/plain": [
       "\u001b[2;36m[01/29/25 12:19:31]\u001b[0m\u001b[2;36m \u001b[0m\u001b[33mWARNING \u001b[0m Cannot find parameter `ingestion.typing.reviews.columns_as_floats` in the \u001b]8;id=679527;file:///Users/Ravi_Kumar_Pilla/Library/CloudStorage/OneDrive-McKinsey&Company/Documents/KedroOrg/kedro-viz/package/kedro_viz/models/flowchart/nodes.py\u001b\\\u001b[2mnodes.py\u001b[0m\u001b]8;;\u001b\\\u001b[2m:\u001b[0m\u001b]8;id=880192;file:///Users/Ravi_Kumar_Pilla/Library/CloudStorage/OneDrive-McKinsey&Company/Documents/KedroOrg/kedro-viz/package/kedro_viz/models/flowchart/nodes.py#430\u001b\\\u001b[2m430\u001b[0m\u001b]8;;\u001b\\\n",
       "\u001b[2;36m                    \u001b[0m         catalog.                                                                  \u001b[2m            \u001b[0m\n"
      ]
     },
     "metadata": {},
     "output_type": "display_data"
    },
    {
     "data": {
      "text/html": [
       "<pre style=\"white-space:pre;overflow-x:auto;line-height:normal;font-family:Menlo,'DejaVu Sans Mono',consolas,'Courier New',monospace\"><span style=\"color: #7fbfbf; text-decoration-color: #7fbfbf\">                    </span><span style=\"color: #808000; text-decoration-color: #808000\">WARNING </span> Cannot find parameter `feature_engineering.feature.derived` in the        <a href=\"file:///Users/Ravi_Kumar_Pilla/Library/CloudStorage/OneDrive-McKinsey&Company/Documents/KedroOrg/kedro-viz/package/kedro_viz/models/flowchart/nodes.py\" target=\"_blank\"><span style=\"color: #7f7f7f; text-decoration-color: #7f7f7f\">nodes.py</span></a><span style=\"color: #7f7f7f; text-decoration-color: #7f7f7f\">:</span><a href=\"file:///Users/Ravi_Kumar_Pilla/Library/CloudStorage/OneDrive-McKinsey&Company/Documents/KedroOrg/kedro-viz/package/kedro_viz/models/flowchart/nodes.py#430\" target=\"_blank\"><span style=\"color: #7f7f7f; text-decoration-color: #7f7f7f\">430</span></a>\n",
       "<span style=\"color: #7fbfbf; text-decoration-color: #7fbfbf\">                    </span>         catalog.                                                                  <span style=\"color: #7f7f7f; text-decoration-color: #7f7f7f\">            </span>\n",
       "</pre>\n"
      ],
      "text/plain": [
       "\u001b[2;36m                   \u001b[0m\u001b[2;36m \u001b[0m\u001b[33mWARNING \u001b[0m Cannot find parameter `feature_engineering.feature.derived` in the        \u001b]8;id=921996;file:///Users/Ravi_Kumar_Pilla/Library/CloudStorage/OneDrive-McKinsey&Company/Documents/KedroOrg/kedro-viz/package/kedro_viz/models/flowchart/nodes.py\u001b\\\u001b[2mnodes.py\u001b[0m\u001b]8;;\u001b\\\u001b[2m:\u001b[0m\u001b]8;id=863428;file:///Users/Ravi_Kumar_Pilla/Library/CloudStorage/OneDrive-McKinsey&Company/Documents/KedroOrg/kedro-viz/package/kedro_viz/models/flowchart/nodes.py#430\u001b\\\u001b[2m430\u001b[0m\u001b]8;;\u001b\\\n",
       "\u001b[2;36m                    \u001b[0m         catalog.                                                                  \u001b[2m            \u001b[0m\n"
      ]
     },
     "metadata": {},
     "output_type": "display_data"
    },
    {
     "data": {
      "text/html": [
       "<pre style=\"white-space:pre;overflow-x:auto;line-height:normal;font-family:Menlo,'DejaVu Sans Mono',consolas,'Courier New',monospace\"><span style=\"color: #7fbfbf; text-decoration-color: #7fbfbf\">                    </span><span style=\"color: #808000; text-decoration-color: #808000\">WARNING </span> Cannot find parameter `feature_engineering.feature.static` in the         <a href=\"file:///Users/Ravi_Kumar_Pilla/Library/CloudStorage/OneDrive-McKinsey&Company/Documents/KedroOrg/kedro-viz/package/kedro_viz/models/flowchart/nodes.py\" target=\"_blank\"><span style=\"color: #7f7f7f; text-decoration-color: #7f7f7f\">nodes.py</span></a><span style=\"color: #7f7f7f; text-decoration-color: #7f7f7f\">:</span><a href=\"file:///Users/Ravi_Kumar_Pilla/Library/CloudStorage/OneDrive-McKinsey&Company/Documents/KedroOrg/kedro-viz/package/kedro_viz/models/flowchart/nodes.py#430\" target=\"_blank\"><span style=\"color: #7f7f7f; text-decoration-color: #7f7f7f\">430</span></a>\n",
       "<span style=\"color: #7fbfbf; text-decoration-color: #7fbfbf\">                    </span>         catalog.                                                                  <span style=\"color: #7f7f7f; text-decoration-color: #7f7f7f\">            </span>\n",
       "</pre>\n"
      ],
      "text/plain": [
       "\u001b[2;36m                   \u001b[0m\u001b[2;36m \u001b[0m\u001b[33mWARNING \u001b[0m Cannot find parameter `feature_engineering.feature.static` in the         \u001b]8;id=991480;file:///Users/Ravi_Kumar_Pilla/Library/CloudStorage/OneDrive-McKinsey&Company/Documents/KedroOrg/kedro-viz/package/kedro_viz/models/flowchart/nodes.py\u001b\\\u001b[2mnodes.py\u001b[0m\u001b]8;;\u001b\\\u001b[2m:\u001b[0m\u001b]8;id=296022;file:///Users/Ravi_Kumar_Pilla/Library/CloudStorage/OneDrive-McKinsey&Company/Documents/KedroOrg/kedro-viz/package/kedro_viz/models/flowchart/nodes.py#430\u001b\\\u001b[2m430\u001b[0m\u001b]8;;\u001b\\\n",
       "\u001b[2;36m                    \u001b[0m         catalog.                                                                  \u001b[2m            \u001b[0m\n"
      ]
     },
     "metadata": {},
     "output_type": "display_data"
    },
    {
     "data": {
      "text/html": [
       "<pre style=\"white-space:pre;overflow-x:auto;line-height:normal;font-family:Menlo,'DejaVu Sans Mono',consolas,'Courier New',monospace\"><span style=\"color: #7fbfbf; text-decoration-color: #7fbfbf\">                    </span><span style=\"color: #808000; text-decoration-color: #808000\">WARNING </span> Cannot find parameter `split_options` in the catalog.                     <a href=\"file:///Users/Ravi_Kumar_Pilla/Library/CloudStorage/OneDrive-McKinsey&Company/Documents/KedroOrg/kedro-viz/package/kedro_viz/models/flowchart/nodes.py\" target=\"_blank\"><span style=\"color: #7f7f7f; text-decoration-color: #7f7f7f\">nodes.py</span></a><span style=\"color: #7f7f7f; text-decoration-color: #7f7f7f\">:</span><a href=\"file:///Users/Ravi_Kumar_Pilla/Library/CloudStorage/OneDrive-McKinsey&Company/Documents/KedroOrg/kedro-viz/package/kedro_viz/models/flowchart/nodes.py#430\" target=\"_blank\"><span style=\"color: #7f7f7f; text-decoration-color: #7f7f7f\">430</span></a>\n",
       "</pre>\n"
      ],
      "text/plain": [
       "\u001b[2;36m                   \u001b[0m\u001b[2;36m \u001b[0m\u001b[33mWARNING \u001b[0m Cannot find parameter `split_options` in the catalog.                     \u001b]8;id=837704;file:///Users/Ravi_Kumar_Pilla/Library/CloudStorage/OneDrive-McKinsey&Company/Documents/KedroOrg/kedro-viz/package/kedro_viz/models/flowchart/nodes.py\u001b\\\u001b[2mnodes.py\u001b[0m\u001b]8;;\u001b\\\u001b[2m:\u001b[0m\u001b]8;id=208718;file:///Users/Ravi_Kumar_Pilla/Library/CloudStorage/OneDrive-McKinsey&Company/Documents/KedroOrg/kedro-viz/package/kedro_viz/models/flowchart/nodes.py#430\u001b\\\u001b[2m430\u001b[0m\u001b]8;;\u001b\\\n"
      ]
     },
     "metadata": {},
     "output_type": "display_data"
    },
    {
     "data": {
      "text/html": [
       "<pre style=\"white-space:pre;overflow-x:auto;line-height:normal;font-family:Menlo,'DejaVu Sans Mono',consolas,'Courier New',monospace\"><span style=\"color: #7fbfbf; text-decoration-color: #7fbfbf\">                    </span><span style=\"color: #808000; text-decoration-color: #808000\">WARNING </span> Cannot find parameter `train_evaluation.model_options.linear_regression`  <a href=\"file:///Users/Ravi_Kumar_Pilla/Library/CloudStorage/OneDrive-McKinsey&Company/Documents/KedroOrg/kedro-viz/package/kedro_viz/models/flowchart/nodes.py\" target=\"_blank\"><span style=\"color: #7f7f7f; text-decoration-color: #7f7f7f\">nodes.py</span></a><span style=\"color: #7f7f7f; text-decoration-color: #7f7f7f\">:</span><a href=\"file:///Users/Ravi_Kumar_Pilla/Library/CloudStorage/OneDrive-McKinsey&Company/Documents/KedroOrg/kedro-viz/package/kedro_viz/models/flowchart/nodes.py#430\" target=\"_blank\"><span style=\"color: #7f7f7f; text-decoration-color: #7f7f7f\">430</span></a>\n",
       "<span style=\"color: #7fbfbf; text-decoration-color: #7fbfbf\">                    </span>         in the catalog.                                                           <span style=\"color: #7f7f7f; text-decoration-color: #7f7f7f\">            </span>\n",
       "</pre>\n"
      ],
      "text/plain": [
       "\u001b[2;36m                   \u001b[0m\u001b[2;36m \u001b[0m\u001b[33mWARNING \u001b[0m Cannot find parameter `train_evaluation.model_options.linear_regression`  \u001b]8;id=641125;file:///Users/Ravi_Kumar_Pilla/Library/CloudStorage/OneDrive-McKinsey&Company/Documents/KedroOrg/kedro-viz/package/kedro_viz/models/flowchart/nodes.py\u001b\\\u001b[2mnodes.py\u001b[0m\u001b]8;;\u001b\\\u001b[2m:\u001b[0m\u001b]8;id=263604;file:///Users/Ravi_Kumar_Pilla/Library/CloudStorage/OneDrive-McKinsey&Company/Documents/KedroOrg/kedro-viz/package/kedro_viz/models/flowchart/nodes.py#430\u001b\\\u001b[2m430\u001b[0m\u001b]8;;\u001b\\\n",
       "\u001b[2;36m                    \u001b[0m         in the catalog.                                                           \u001b[2m            \u001b[0m\n"
      ]
     },
     "metadata": {},
     "output_type": "display_data"
    },
    {
     "data": {
      "text/html": [
       "<pre style=\"white-space:pre;overflow-x:auto;line-height:normal;font-family:Menlo,'DejaVu Sans Mono',consolas,'Courier New',monospace\"><span style=\"color: #7fbfbf; text-decoration-color: #7fbfbf\">                    </span><span style=\"color: #808000; text-decoration-color: #808000\">WARNING </span> Cannot find parameter `train_evaluation.model_options.random_forest` in   <a href=\"file:///Users/Ravi_Kumar_Pilla/Library/CloudStorage/OneDrive-McKinsey&Company/Documents/KedroOrg/kedro-viz/package/kedro_viz/models/flowchart/nodes.py\" target=\"_blank\"><span style=\"color: #7f7f7f; text-decoration-color: #7f7f7f\">nodes.py</span></a><span style=\"color: #7f7f7f; text-decoration-color: #7f7f7f\">:</span><a href=\"file:///Users/Ravi_Kumar_Pilla/Library/CloudStorage/OneDrive-McKinsey&Company/Documents/KedroOrg/kedro-viz/package/kedro_viz/models/flowchart/nodes.py#430\" target=\"_blank\"><span style=\"color: #7f7f7f; text-decoration-color: #7f7f7f\">430</span></a>\n",
       "<span style=\"color: #7fbfbf; text-decoration-color: #7fbfbf\">                    </span>         the catalog.                                                              <span style=\"color: #7f7f7f; text-decoration-color: #7f7f7f\">            </span>\n",
       "</pre>\n"
      ],
      "text/plain": [
       "\u001b[2;36m                   \u001b[0m\u001b[2;36m \u001b[0m\u001b[33mWARNING \u001b[0m Cannot find parameter `train_evaluation.model_options.random_forest` in   \u001b]8;id=806130;file:///Users/Ravi_Kumar_Pilla/Library/CloudStorage/OneDrive-McKinsey&Company/Documents/KedroOrg/kedro-viz/package/kedro_viz/models/flowchart/nodes.py\u001b\\\u001b[2mnodes.py\u001b[0m\u001b]8;;\u001b\\\u001b[2m:\u001b[0m\u001b]8;id=709746;file:///Users/Ravi_Kumar_Pilla/Library/CloudStorage/OneDrive-McKinsey&Company/Documents/KedroOrg/kedro-viz/package/kedro_viz/models/flowchart/nodes.py#430\u001b\\\u001b[2m430\u001b[0m\u001b]8;;\u001b\\\n",
       "\u001b[2;36m                    \u001b[0m         the catalog.                                                              \u001b[2m            \u001b[0m\n"
      ]
     },
     "metadata": {},
     "output_type": "display_data"
    },
    {
     "data": {
      "text/html": [
       "<pre style=\"white-space:pre;overflow-x:auto;line-height:normal;font-family:Menlo,'DejaVu Sans Mono',consolas,'Courier New',monospace\"></pre>\n"
      ],
      "text/plain": []
     },
     "metadata": {},
     "output_type": "display_data"
    },
    {
     "data": {
      "text/html": [
       "<!DOCTYPE html>\n",
       "        <html lang='en'>\n",
       "        <head>\n",
       "            <meta charset='UTF-8'>\n",
       "            <meta name='viewport' content='width=device-width, initial-scale=1.0'>\n",
       "            <title>Kedro-Viz</title>\n",
       "        </head>\n",
       "        <body>\n",
       "            <div id=kedro-viz-8e420928 style='height: 600px'></div>\n",
       "            <script src=\"http://localhost:8013/kedroViz.bundle.min.js\"></script>\n",
       "            <script>\n",
       "                (function waitForBundle(maxRetries = 50, retries = 0) {\n",
       "                    if (typeof KedroVizBundle !== 'undefined') {\n",
       "                        const { KedroViz, createRoot, React } = KedroVizBundle;\n",
       "                        const viz_container = document.getElementById('kedro-viz-8e420928');\n",
       "                        \n",
       "                        if (createRoot && viz_container) {\n",
       "                            const viz_root = createRoot(viz_container);\n",
       "                            viz_root.render(\n",
       "                                React.createElement(KedroViz, {\n",
       "                                    data: {\"nodes\": [{\"id\": \"69c523b6\", \"name\": \"apply_types_to_companies\", \"tags\": [\"companies\"], \"pipelines\": [\"__default__\"], \"type\": \"task\", \"modular_pipelines\": [\"ingestion\"], \"parameters\": {}}, {\"id\": \"aed46479\", \"name\": \"companies\", \"tags\": [\"companies\"], \"pipelines\": [\"__default__\"], \"type\": \"data\", \"modular_pipelines\": [\"ingestion\"], \"layer\": null, \"dataset_type\": \"io.memory_dataset.MemoryDataset\", \"stats\": null}, {\"id\": \"f23ad217\", \"name\": \"ingestion.int_typed_companies\", \"tags\": [\"companies\"], \"pipelines\": [\"__default__\"], \"type\": \"data\", \"modular_pipelines\": [\"ingestion\"], \"layer\": null, \"dataset_type\": \"io.memory_dataset.MemoryDataset\", \"stats\": null}, {\"id\": \"ea604da4\", \"name\": \"apply_types_to_reviews\", \"tags\": [], \"pipelines\": [\"__default__\"], \"type\": \"task\", \"modular_pipelines\": [\"ingestion\"], \"parameters\": {\"ingestion.typing.reviews.columns_as_floats\": null}}, {\"id\": \"7b2c6e04\", \"name\": \"reviews\", \"tags\": [], \"pipelines\": [\"__default__\"], \"type\": \"data\", \"modular_pipelines\": [\"ingestion\"], \"layer\": null, \"dataset_type\": \"io.memory_dataset.MemoryDataset\", \"stats\": null}, {\"id\": \"b5609df0\", \"name\": \"params:ingestion.typing.reviews.columns_as_floats\", \"tags\": [], \"pipelines\": [\"__default__\"], \"type\": \"parameters\", \"modular_pipelines\": null, \"layer\": null, \"dataset_type\": null, \"stats\": null}, {\"id\": \"4f7ffa1b\", \"name\": \"ingestion.int_typed_reviews\", \"tags\": [], \"pipelines\": [\"__default__\"], \"type\": \"data\", \"modular_pipelines\": [\"ingestion\"], \"layer\": null, \"dataset_type\": \"io.memory_dataset.MemoryDataset\", \"stats\": null}, {\"id\": \"f33b9291\", \"name\": \"apply_types_to_shuttles\", \"tags\": [\"shuttles\"], \"pipelines\": [\"__default__\"], \"type\": \"task\", \"modular_pipelines\": [\"ingestion\"], \"parameters\": {}}, {\"id\": \"f1d596c2\", \"name\": \"shuttles\", \"tags\": [\"shuttles\"], \"pipelines\": [\"__default__\"], \"type\": \"data\", \"modular_pipelines\": [\"ingestion\"], \"layer\": null, \"dataset_type\": \"io.memory_dataset.MemoryDataset\", \"stats\": null}, {\"id\": \"c0ddbcbf\", \"name\": \"ingestion.int_typed_shuttles\", \"tags\": [\"shuttles\"], \"pipelines\": [\"__default__\"], \"type\": \"data\", \"modular_pipelines\": [\"ingestion\"], \"layer\": null, \"dataset_type\": null, \"stats\": null}, {\"id\": \"8de402c1\", \"name\": \"company_agg\", \"tags\": [], \"pipelines\": [\"__default__\"], \"type\": \"task\", \"modular_pipelines\": [\"ingestion\"], \"parameters\": {}}, {\"id\": \"8f20d98e\", \"name\": \"ingestion.prm_agg_companies\", \"tags\": [], \"pipelines\": [\"__default__\"], \"type\": \"data\", \"modular_pipelines\": [\"ingestion\"], \"layer\": null, \"dataset_type\": \"io.memory_dataset.MemoryDataset\", \"stats\": null}, {\"id\": \"cb5166f3\", \"name\": \"combine_step\", \"tags\": [], \"pipelines\": [\"__default__\"], \"type\": \"task\", \"modular_pipelines\": [\"ingestion\"], \"parameters\": {}}, {\"id\": \"9f266f06\", \"name\": \"prm_shuttle_company_reviews\", \"tags\": [], \"pipelines\": [\"__default__\"], \"type\": \"data\", \"modular_pipelines\": [\"feature_engineering\", \"ingestion\", \"reporting\"], \"layer\": null, \"dataset_type\": \"io.memory_dataset.MemoryDataset\", \"stats\": null}, {\"id\": \"f063cc82\", \"name\": \"prm_spine_table\", \"tags\": [], \"pipelines\": [\"__default__\"], \"type\": \"data\", \"modular_pipelines\": [\"feature_engineering\", \"ingestion\"], \"layer\": null, \"dataset_type\": \"io.memory_dataset.MemoryDataset\", \"stats\": null}, {\"id\": \"04ba733a\", \"name\": \"create_derived_features\", \"tags\": [], \"pipelines\": [\"__default__\"], \"type\": \"task\", \"modular_pipelines\": [\"feature_engineering\"], \"parameters\": {\"feature_engineering.feature.derived\": null}}, {\"id\": \"abed6a4d\", \"name\": \"params:feature_engineering.feature.derived\", \"tags\": [], \"pipelines\": [\"__default__\"], \"type\": \"parameters\", \"modular_pipelines\": null, \"layer\": null, \"dataset_type\": null, \"stats\": null}, {\"id\": \"7c92a703\", \"name\": \"feature_engineering.feat_derived_features\", \"tags\": [], \"pipelines\": [\"__default__\"], \"type\": \"data\", \"modular_pipelines\": [\"feature_engineering\"], \"layer\": null, \"dataset_type\": \"io.memory_dataset.MemoryDataset\", \"stats\": null}, {\"id\": \"7932e672\", \"name\": \"create_feature_importance\", \"tags\": [], \"pipelines\": [\"__default__\"], \"type\": \"task\", \"modular_pipelines\": [\"feature_engineering\"], \"parameters\": {}}, {\"id\": \"1e3cc50a\", \"name\": \"feature_importance_output\", \"tags\": [], \"pipelines\": [\"__default__\"], \"type\": \"data\", \"modular_pipelines\": [\"feature_engineering\", \"reporting\"], \"layer\": null, \"dataset_type\": \"io.memory_dataset.MemoryDataset\", \"stats\": null}, {\"id\": \"e50f81b8\", \"name\": \"create_static_features\", \"tags\": [], \"pipelines\": [\"__default__\"], \"type\": \"task\", \"modular_pipelines\": [\"feature_engineering\"], \"parameters\": {\"feature_engineering.feature.static\": null}}, {\"id\": \"a3627e31\", \"name\": \"params:feature_engineering.feature.static\", \"tags\": [], \"pipelines\": [\"__default__\"], \"type\": \"parameters\", \"modular_pipelines\": null, \"layer\": null, \"dataset_type\": null, \"stats\": null}, {\"id\": \"8e4f1015\", \"name\": \"feature_engineering.feat_static_features\", \"tags\": [], \"pipelines\": [\"__default__\"], \"type\": \"data\", \"modular_pipelines\": [\"feature_engineering\"], \"layer\": null, \"dataset_type\": \"io.memory_dataset.MemoryDataset\", \"stats\": null}, {\"id\": \"9a6ef457\", \"name\": \"<lambda>\", \"tags\": [], \"pipelines\": [\"__default__\"], \"type\": \"task\", \"modular_pipelines\": [\"ingestion\"], \"parameters\": {}}, {\"id\": \"c08c7708\", \"name\": \"ingestion.prm_spine_table_clone\", \"tags\": [], \"pipelines\": [\"__default__\"], \"type\": \"data\", \"modular_pipelines\": [\"ingestion\"], \"layer\": null, \"dataset_type\": \"io.memory_dataset.MemoryDataset\", \"stats\": null}, {\"id\": \"be6b7919\", \"name\": \"create_matplotlib_chart\", \"tags\": [], \"pipelines\": [\"__default__\"], \"type\": \"task\", \"modular_pipelines\": [\"reporting\"], \"parameters\": {}}, {\"id\": \"3b199c6b\", \"name\": \"reporting.confusion_matrix\", \"tags\": [], \"pipelines\": [\"__default__\"], \"type\": \"data\", \"modular_pipelines\": [\"reporting\"], \"layer\": null, \"dataset_type\": \"io.memory_dataset.MemoryDataset\", \"stats\": null}, {\"id\": \"44ef9b48\", \"name\": \"get_top_shuttles_data\", \"tags\": [], \"pipelines\": [\"__default__\"], \"type\": \"task\", \"modular_pipelines\": [\"reporting\"], \"parameters\": {}}, {\"id\": \"c0be8342\", \"name\": \"reporting.top_shuttle_data\", \"tags\": [], \"pipelines\": [\"__default__\"], \"type\": \"data\", \"modular_pipelines\": [\"reporting\"], \"layer\": null, \"dataset_type\": \"io.memory_dataset.MemoryDataset\", \"stats\": null}, {\"id\": \"c7646ea1\", \"name\": \"make_cancel_policy_bar_chart\", \"tags\": [], \"pipelines\": [\"__default__\"], \"type\": \"task\", \"modular_pipelines\": [\"reporting\"], \"parameters\": {}}, {\"id\": \"d0e9b00f\", \"name\": \"reporting.cancellation_policy_breakdown\", \"tags\": [], \"pipelines\": [\"__default__\"], \"type\": \"data\", \"modular_pipelines\": [\"reporting\"], \"layer\": null, \"dataset_type\": \"io.memory_dataset.MemoryDataset\", \"stats\": null}, {\"id\": \"3fb71518\", \"name\": \"make_price_analysis_image\", \"tags\": [], \"pipelines\": [\"__default__\"], \"type\": \"task\", \"modular_pipelines\": [\"reporting\"], \"parameters\": {}}, {\"id\": \"8838ca1f\", \"name\": \"reporting.cancellation_policy_grid\", \"tags\": [], \"pipelines\": [\"__default__\"], \"type\": \"data\", \"modular_pipelines\": [\"reporting\"], \"layer\": null, \"dataset_type\": \"io.memory_dataset.MemoryDataset\", \"stats\": null}, {\"id\": \"40886786\", \"name\": \"make_price_histogram\", \"tags\": [], \"pipelines\": [\"__default__\"], \"type\": \"task\", \"modular_pipelines\": [\"reporting\"], \"parameters\": {}}, {\"id\": \"c6992660\", \"name\": \"reporting.price_histogram\", \"tags\": [], \"pipelines\": [\"__default__\"], \"type\": \"data\", \"modular_pipelines\": [\"reporting\"], \"layer\": null, \"dataset_type\": \"io.memory_dataset.MemoryDataset\", \"stats\": null}, {\"id\": \"6ea2ec2c\", \"name\": \"joiner\", \"tags\": [], \"pipelines\": [\"__default__\"], \"type\": \"task\", \"modular_pipelines\": [\"feature_engineering\"], \"parameters\": {}}, {\"id\": \"23c94afb\", \"name\": \"model_input_table\", \"tags\": [], \"pipelines\": [\"__default__\"], \"type\": \"data\", \"modular_pipelines\": [\"feature_engineering\"], \"layer\": null, \"dataset_type\": \"io.memory_dataset.MemoryDataset\", \"stats\": null}, {\"id\": \"4adb5c8b\", \"name\": \"create_feature_importance_plot\", \"tags\": [], \"pipelines\": [\"__default__\"], \"type\": \"task\", \"modular_pipelines\": [\"reporting\"], \"parameters\": {}}, {\"id\": \"eb7d6d28\", \"name\": \"reporting.feature_importance\", \"tags\": [], \"pipelines\": [\"__default__\"], \"type\": \"data\", \"modular_pipelines\": [\"reporting\"], \"layer\": null, \"dataset_type\": \"io.memory_dataset.MemoryDataset\", \"stats\": null}, {\"id\": \"2816ba38\", \"name\": \"split_data\", \"tags\": [], \"pipelines\": [\"__default__\"], \"type\": \"task\", \"modular_pipelines\": null, \"parameters\": {\"split_options\": null}}, {\"id\": \"22eec376\", \"name\": \"params:split_options\", \"tags\": [], \"pipelines\": [\"__default__\"], \"type\": \"parameters\", \"modular_pipelines\": null, \"layer\": null, \"dataset_type\": null, \"stats\": null}, {\"id\": \"cae2d1c7\", \"name\": \"X_train\", \"tags\": [\"train\"], \"pipelines\": [\"__default__\"], \"type\": \"data\", \"modular_pipelines\": [\"train_evaluation\", \"train_evaluation.linear_regression\", \"train_evaluation.random_forest\"], \"layer\": null, \"dataset_type\": \"io.memory_dataset.MemoryDataset\", \"stats\": null}, {\"id\": \"872981f9\", \"name\": \"X_test\", \"tags\": [\"evaluate\"], \"pipelines\": [\"__default__\"], \"type\": \"data\", \"modular_pipelines\": [\"train_evaluation\", \"train_evaluation.linear_regression\", \"train_evaluation.random_forest\"], \"layer\": null, \"dataset_type\": \"io.memory_dataset.MemoryDataset\", \"stats\": null}, {\"id\": \"9ca016a8\", \"name\": \"y_train\", \"tags\": [\"train\"], \"pipelines\": [\"__default__\"], \"type\": \"data\", \"modular_pipelines\": [\"train_evaluation\", \"train_evaluation.linear_regression\", \"train_evaluation.random_forest\"], \"layer\": null, \"dataset_type\": \"io.memory_dataset.MemoryDataset\", \"stats\": null}, {\"id\": \"f6d9538c\", \"name\": \"y_test\", \"tags\": [\"evaluate\"], \"pipelines\": [\"__default__\"], \"type\": \"data\", \"modular_pipelines\": [\"train_evaluation\", \"train_evaluation.linear_regression\", \"train_evaluation.random_forest\"], \"layer\": null, \"dataset_type\": \"io.memory_dataset.MemoryDataset\", \"stats\": null}, {\"id\": \"af9a43c8\", \"name\": \"train_model\", \"tags\": [\"train\"], \"pipelines\": [\"__default__\"], \"type\": \"task\", \"modular_pipelines\": [\"train_evaluation.linear_regression\"], \"parameters\": {\"train_evaluation.model_options.linear_regression\": null}}, {\"id\": \"98eb115e\", \"name\": \"params:train_evaluation.model_options.linear_regression\", \"tags\": [\"train\"], \"pipelines\": [\"__default__\"], \"type\": \"parameters\", \"modular_pipelines\": null, \"layer\": null, \"dataset_type\": null, \"stats\": null}, {\"id\": \"10e51dea\", \"name\": \"train_evaluation.linear_regression.regressor\", \"tags\": [\"evaluate\", \"train\"], \"pipelines\": [\"__default__\"], \"type\": \"data\", \"modular_pipelines\": [\"train_evaluation.linear_regression\"], \"layer\": null, \"dataset_type\": \"io.memory_dataset.MemoryDataset\", \"stats\": null}, {\"id\": \"b701864d\", \"name\": \"train_evaluation.linear_regression.experiment_params\", \"tags\": [\"train\"], \"pipelines\": [\"__default__\"], \"type\": \"data\", \"modular_pipelines\": [\"train_evaluation\", \"train_evaluation.linear_regression\"], \"layer\": null, \"dataset_type\": \"io.memory_dataset.MemoryDataset\", \"stats\": null}, {\"id\": \"038647c7\", \"name\": \"train_model\", \"tags\": [\"train\"], \"pipelines\": [\"__default__\"], \"type\": \"task\", \"modular_pipelines\": [\"train_evaluation.random_forest\"], \"parameters\": {\"train_evaluation.model_options.random_forest\": null}}, {\"id\": \"72baf5c6\", \"name\": \"params:train_evaluation.model_options.random_forest\", \"tags\": [\"train\"], \"pipelines\": [\"__default__\"], \"type\": \"parameters\", \"modular_pipelines\": null, \"layer\": null, \"dataset_type\": null, \"stats\": null}, {\"id\": \"01675921\", \"name\": \"train_evaluation.random_forest.regressor\", \"tags\": [\"evaluate\", \"train\"], \"pipelines\": [\"__default__\"], \"type\": \"data\", \"modular_pipelines\": [\"train_evaluation.random_forest\"], \"layer\": null, \"dataset_type\": \"io.memory_dataset.MemoryDataset\", \"stats\": null}, {\"id\": \"4f79de77\", \"name\": \"train_evaluation.random_forest.experiment_params\", \"tags\": [\"train\"], \"pipelines\": [\"__default__\"], \"type\": \"data\", \"modular_pipelines\": [\"train_evaluation\", \"train_evaluation.random_forest\"], \"layer\": null, \"dataset_type\": \"io.memory_dataset.MemoryDataset\", \"stats\": null}, {\"id\": \"d2885635\", \"name\": \"evaluate_model\", \"tags\": [\"evaluate\"], \"pipelines\": [\"__default__\"], \"type\": \"task\", \"modular_pipelines\": [\"train_evaluation.linear_regression\"], \"parameters\": {}}, {\"id\": \"495a0bbc\", \"name\": \"train_evaluation.linear_regression.r2_score\", \"tags\": [\"evaluate\"], \"pipelines\": [\"__default__\"], \"type\": \"data\", \"modular_pipelines\": [\"train_evaluation\", \"train_evaluation.linear_regression\"], \"layer\": null, \"dataset_type\": \"io.memory_dataset.MemoryDataset\", \"stats\": null}, {\"id\": \"bf8530bc\", \"name\": \"evaluate_model\", \"tags\": [\"evaluate\"], \"pipelines\": [\"__default__\"], \"type\": \"task\", \"modular_pipelines\": [\"train_evaluation.random_forest\"], \"parameters\": {}}, {\"id\": \"b16095d0\", \"name\": \"train_evaluation.random_forest.r2_score\", \"tags\": [\"evaluate\"], \"pipelines\": [\"__default__\"], \"type\": \"data\", \"modular_pipelines\": [\"train_evaluation\", \"train_evaluation.random_forest\"], \"layer\": null, \"dataset_type\": \"io.memory_dataset.MemoryDataset\", \"stats\": null}, {\"id\": \"feature_engineering\", \"name\": \"feature_engineering\", \"tags\": [], \"pipelines\": [\"__default__\"], \"type\": \"modularPipeline\", \"modular_pipelines\": null, \"layer\": null, \"dataset_type\": null, \"stats\": null}, {\"id\": \"ingestion\", \"name\": \"ingestion\", \"tags\": [\"shuttles\", \"companies\"], \"pipelines\": [\"__default__\"], \"type\": \"modularPipeline\", \"modular_pipelines\": null, \"layer\": null, \"dataset_type\": null, \"stats\": null}, {\"id\": \"reporting\", \"name\": \"reporting\", \"tags\": [], \"pipelines\": [\"__default__\"], \"type\": \"modularPipeline\", \"modular_pipelines\": null, \"layer\": null, \"dataset_type\": null, \"stats\": null}, {\"id\": \"train_evaluation\", \"name\": \"train_evaluation\", \"tags\": [\"evaluate\", \"train\"], \"pipelines\": [\"__default__\"], \"type\": \"modularPipeline\", \"modular_pipelines\": null, \"layer\": null, \"dataset_type\": null, \"stats\": null}, {\"id\": \"train_evaluation.linear_regression\", \"name\": \"train_evaluation.linear_regression\", \"tags\": [\"evaluate\", \"train\"], \"pipelines\": [\"__default__\"], \"type\": \"modularPipeline\", \"modular_pipelines\": null, \"layer\": null, \"dataset_type\": null, \"stats\": null}, {\"id\": \"train_evaluation.random_forest\", \"name\": \"train_evaluation.random_forest\", \"tags\": [\"evaluate\", \"train\"], \"pipelines\": [\"__default__\"], \"type\": \"modularPipeline\", \"modular_pipelines\": null, \"layer\": null, \"dataset_type\": null, \"stats\": null}], \"edges\": [{\"source\": \"reporting\", \"target\": \"8838ca1f\"}, {\"source\": \"69c523b6\", \"target\": \"f23ad217\"}, {\"source\": \"f6d9538c\", \"target\": \"train_evaluation.linear_regression\"}, {\"source\": \"7932e672\", \"target\": \"1e3cc50a\"}, {\"source\": \"8f20d98e\", \"target\": \"cb5166f3\"}, {\"source\": \"9f266f06\", \"target\": \"feature_engineering\"}, {\"source\": \"2816ba38\", \"target\": \"872981f9\"}, {\"source\": \"b5609df0\", \"target\": \"ea604da4\"}, {\"source\": \"3fb71518\", \"target\": \"8838ca1f\"}, {\"source\": \"f063cc82\", \"target\": \"6ea2ec2c\"}, {\"source\": \"f6d9538c\", \"target\": \"train_evaluation\"}, {\"source\": \"01675921\", \"target\": \"bf8530bc\"}, {\"source\": \"train_evaluation.linear_regression\", \"target\": \"b701864d\"}, {\"source\": \"cae2d1c7\", \"target\": \"train_evaluation.linear_regression\"}, {\"source\": \"ingestion\", \"target\": \"9f266f06\"}, {\"source\": \"aed46479\", \"target\": \"69c523b6\"}, {\"source\": \"f1d596c2\", \"target\": \"f33b9291\"}, {\"source\": \"23c94afb\", \"target\": \"2816ba38\"}, {\"source\": \"9f266f06\", \"target\": \"3fb71518\"}, {\"source\": \"train_evaluation.random_forest\", \"target\": \"b16095d0\"}, {\"source\": \"e50f81b8\", \"target\": \"8e4f1015\"}, {\"source\": \"f6d9538c\", \"target\": \"train_evaluation.random_forest\"}, {\"source\": \"2816ba38\", \"target\": \"f6d9538c\"}, {\"source\": \"af9a43c8\", \"target\": \"10e51dea\"}, {\"source\": \"7b2c6e04\", \"target\": \"ingestion\"}, {\"source\": \"cae2d1c7\", \"target\": \"train_evaluation\"}, {\"source\": \"be6b7919\", \"target\": \"3b199c6b\"}, {\"source\": \"reporting\", \"target\": \"3b199c6b\"}, {\"source\": \"train_evaluation\", \"target\": \"b16095d0\"}, {\"source\": \"c7646ea1\", \"target\": \"d0e9b00f\"}, {\"source\": \"cae2d1c7\", \"target\": \"af9a43c8\"}, {\"source\": \"9f266f06\", \"target\": \"c7646ea1\"}, {\"source\": \"f6d9538c\", \"target\": \"bf8530bc\"}, {\"source\": \"abed6a4d\", \"target\": \"04ba733a\"}, {\"source\": \"038647c7\", \"target\": \"4f79de77\"}, {\"source\": \"cae2d1c7\", \"target\": \"train_evaluation.random_forest\"}, {\"source\": \"c0ddbcbf\", \"target\": \"cb5166f3\"}, {\"source\": \"f23ad217\", \"target\": \"8de402c1\"}, {\"source\": \"9a6ef457\", \"target\": \"c08c7708\"}, {\"source\": \"feature_engineering\", \"target\": \"23c94afb\"}, {\"source\": \"8de402c1\", \"target\": \"8f20d98e\"}, {\"source\": \"cb5166f3\", \"target\": \"f063cc82\"}, {\"source\": \"f063cc82\", \"target\": \"7932e672\"}, {\"source\": \"4f7ffa1b\", \"target\": \"cb5166f3\"}, {\"source\": \"b5609df0\", \"target\": \"ingestion\"}, {\"source\": \"8e4f1015\", \"target\": \"6ea2ec2c\"}, {\"source\": \"cae2d1c7\", \"target\": \"038647c7\"}, {\"source\": \"872981f9\", \"target\": \"train_evaluation\"}, {\"source\": \"bf8530bc\", \"target\": \"b16095d0\"}, {\"source\": \"train_evaluation\", \"target\": \"b701864d\"}, {\"source\": \"40886786\", \"target\": \"c6992660\"}, {\"source\": \"cb5166f3\", \"target\": \"9f266f06\"}, {\"source\": \"train_evaluation\", \"target\": \"495a0bbc\"}, {\"source\": \"f063cc82\", \"target\": \"9a6ef457\"}, {\"source\": \"train_evaluation.random_forest\", \"target\": \"4f79de77\"}, {\"source\": \"abed6a4d\", \"target\": \"feature_engineering\"}, {\"source\": \"9ca016a8\", \"target\": \"train_evaluation.linear_regression\"}, {\"source\": \"aed46479\", \"target\": \"ingestion\"}, {\"source\": \"038647c7\", \"target\": \"01675921\"}, {\"source\": \"a3627e31\", \"target\": \"feature_engineering\"}, {\"source\": \"feature_engineering\", \"target\": \"1e3cc50a\"}, {\"source\": \"train_evaluation\", \"target\": \"4f79de77\"}, {\"source\": \"9ca016a8\", \"target\": \"038647c7\"}, {\"source\": \"10e51dea\", \"target\": \"d2885635\"}, {\"source\": \"72baf5c6\", \"target\": \"038647c7\"}, {\"source\": \"reporting\", \"target\": \"c0be8342\"}, {\"source\": \"872981f9\", \"target\": \"train_evaluation.linear_regression\"}, {\"source\": \"f6d9538c\", \"target\": \"d2885635\"}, {\"source\": \"reporting\", \"target\": \"eb7d6d28\"}, {\"source\": \"9ca016a8\", \"target\": \"train_evaluation\"}, {\"source\": \"72baf5c6\", \"target\": \"train_evaluation\"}, {\"source\": \"f33b9291\", \"target\": \"c0ddbcbf\"}, {\"source\": \"9f266f06\", \"target\": \"e50f81b8\"}, {\"source\": \"d2885635\", \"target\": \"495a0bbc\"}, {\"source\": \"9ca016a8\", \"target\": \"af9a43c8\"}, {\"source\": \"4adb5c8b\", \"target\": \"eb7d6d28\"}, {\"source\": \"ingestion\", \"target\": \"f063cc82\"}, {\"source\": \"f063cc82\", \"target\": \"04ba733a\"}, {\"source\": \"9f266f06\", \"target\": \"reporting\"}, {\"source\": \"98eb115e\", \"target\": \"train_evaluation.linear_regression\"}, {\"source\": \"9ca016a8\", \"target\": \"train_evaluation.random_forest\"}, {\"source\": \"72baf5c6\", \"target\": \"train_evaluation.random_forest\"}, {\"source\": \"22eec376\", \"target\": \"2816ba38\"}, {\"source\": \"04ba733a\", \"target\": \"7c92a703\"}, {\"source\": \"9f266f06\", \"target\": \"04ba733a\"}, {\"source\": \"872981f9\", \"target\": \"train_evaluation.random_forest\"}, {\"source\": \"98eb115e\", \"target\": \"train_evaluation\"}, {\"source\": \"ingestion\", \"target\": \"c08c7708\"}, {\"source\": \"7c92a703\", \"target\": \"6ea2ec2c\"}, {\"source\": \"98eb115e\", \"target\": \"af9a43c8\"}, {\"source\": \"2816ba38\", \"target\": \"cae2d1c7\"}, {\"source\": \"44ef9b48\", \"target\": \"c0be8342\"}, {\"source\": \"872981f9\", \"target\": \"bf8530bc\"}, {\"source\": \"1e3cc50a\", \"target\": \"4adb5c8b\"}, {\"source\": \"2816ba38\", \"target\": \"9ca016a8\"}, {\"source\": \"9f266f06\", \"target\": \"44ef9b48\"}, {\"source\": \"6ea2ec2c\", \"target\": \"23c94afb\"}, {\"source\": \"reporting\", \"target\": \"d0e9b00f\"}, {\"source\": \"7b2c6e04\", \"target\": \"ea604da4\"}, {\"source\": \"a3627e31\", \"target\": \"e50f81b8\"}, {\"source\": \"train_evaluation.linear_regression\", \"target\": \"495a0bbc\"}, {\"source\": \"9f266f06\", \"target\": \"be6b7919\"}, {\"source\": \"1e3cc50a\", \"target\": \"reporting\"}, {\"source\": \"872981f9\", \"target\": \"d2885635\"}, {\"source\": \"ea604da4\", \"target\": \"4f7ffa1b\"}, {\"source\": \"9f266f06\", \"target\": \"40886786\"}, {\"source\": \"reporting\", \"target\": \"c6992660\"}, {\"source\": \"f1d596c2\", \"target\": \"ingestion\"}, {\"source\": \"af9a43c8\", \"target\": \"b701864d\"}, {\"source\": \"f063cc82\", \"target\": \"feature_engineering\"}], \"layers\": [], \"tags\": [{\"id\": \"companies\", \"name\": \"companies\"}, {\"id\": \"evaluate\", \"name\": \"evaluate\"}, {\"id\": \"shuttles\", \"name\": \"shuttles\"}, {\"id\": \"train\", \"name\": \"train\"}], \"pipelines\": [{\"id\": \"__default__\", \"name\": \"__default__\"}], \"modular_pipelines\": {\"__root__\": {\"id\": \"__root__\", \"name\": \"__root__\", \"inputs\": [], \"outputs\": [], \"children\": [{\"id\": \"eb7d6d28\", \"type\": \"data\"}, {\"id\": \"c0be8342\", \"type\": \"data\"}, {\"id\": \"c08c7708\", \"type\": \"data\"}, {\"id\": \"aed46479\", \"type\": \"data\"}, {\"id\": \"ingestion\", \"type\": \"modularPipeline\"}, {\"id\": \"872981f9\", \"type\": \"data\"}, {\"id\": \"b5609df0\", \"type\": \"parameters\"}, {\"id\": \"cae2d1c7\", \"type\": \"data\"}, {\"id\": \"reporting\", \"type\": \"modularPipeline\"}, {\"id\": \"b701864d\", \"type\": \"data\"}, {\"id\": \"98eb115e\", \"type\": \"parameters\"}, {\"id\": \"f063cc82\", \"type\": \"data\"}, {\"id\": \"c6992660\", \"type\": \"data\"}, {\"id\": \"2816ba38\", \"type\": \"task\"}, {\"id\": \"8838ca1f\", \"type\": \"data\"}, {\"id\": \"abed6a4d\", \"type\": \"parameters\"}, {\"id\": \"7b2c6e04\", \"type\": \"data\"}, {\"id\": \"d0e9b00f\", \"type\": \"data\"}, {\"id\": \"23c94afb\", \"type\": \"data\"}, {\"id\": \"a3627e31\", \"type\": \"parameters\"}, {\"id\": \"1e3cc50a\", \"type\": \"data\"}, {\"id\": \"f1d596c2\", \"type\": \"data\"}, {\"id\": \"3b199c6b\", \"type\": \"data\"}, {\"id\": \"train_evaluation\", \"type\": \"modularPipeline\"}, {\"id\": \"9f266f06\", \"type\": \"data\"}, {\"id\": \"495a0bbc\", \"type\": \"data\"}, {\"id\": \"feature_engineering\", \"type\": \"modularPipeline\"}, {\"id\": \"b16095d0\", \"type\": \"data\"}, {\"id\": \"f6d9538c\", \"type\": \"data\"}, {\"id\": \"22eec376\", \"type\": \"parameters\"}, {\"id\": \"4f79de77\", \"type\": \"data\"}, {\"id\": \"72baf5c6\", \"type\": \"parameters\"}, {\"id\": \"22eec376\", \"type\": \"data\"}, {\"id\": \"9ca016a8\", \"type\": \"data\"}]}, \"feature_engineering\": {\"id\": \"feature_engineering\", \"name\": \"feature_engineering\", \"inputs\": [\"abed6a4d\", \"9f266f06\", \"f063cc82\", \"a3627e31\"], \"outputs\": [\"23c94afb\", \"1e3cc50a\"], \"children\": [{\"id\": \"04ba733a\", \"type\": \"task\"}, {\"id\": \"7932e672\", \"type\": \"task\"}, {\"id\": \"e50f81b8\", \"type\": \"task\"}, {\"id\": \"7c92a703\", \"type\": \"data\"}, {\"id\": \"8e4f1015\", \"type\": \"data\"}, {\"id\": \"6ea2ec2c\", \"type\": \"task\"}]}, \"ingestion\": {\"id\": \"ingestion\", \"name\": \"ingestion\", \"inputs\": [\"b5609df0\", \"7b2c6e04\", \"f1d596c2\", \"aed46479\"], \"outputs\": [\"9f266f06\", \"c08c7708\", \"f063cc82\"], \"children\": [{\"id\": \"69c523b6\", \"type\": \"task\"}, {\"id\": \"cb5166f3\", \"type\": \"task\"}, {\"id\": \"c0ddbcbf\", \"type\": \"data\"}, {\"id\": \"8f20d98e\", \"type\": \"data\"}, {\"id\": \"f23ad217\", \"type\": \"data\"}, {\"id\": \"9a6ef457\", \"type\": \"task\"}, {\"id\": \"8de402c1\", \"type\": \"task\"}, {\"id\": \"f33b9291\", \"type\": \"task\"}, {\"id\": \"ea604da4\", \"type\": \"task\"}, {\"id\": \"4f7ffa1b\", \"type\": \"data\"}]}, \"reporting\": {\"id\": \"reporting\", \"name\": \"reporting\", \"inputs\": [\"9f266f06\", \"1e3cc50a\"], \"outputs\": [\"eb7d6d28\", \"d0e9b00f\", \"8838ca1f\", \"c6992660\", \"c0be8342\", \"3b199c6b\"], \"children\": [{\"id\": \"40886786\", \"type\": \"task\"}, {\"id\": \"be6b7919\", \"type\": \"task\"}, {\"id\": \"44ef9b48\", \"type\": \"task\"}, {\"id\": \"c7646ea1\", \"type\": \"task\"}, {\"id\": \"4adb5c8b\", \"type\": \"task\"}, {\"id\": \"3fb71518\", \"type\": \"task\"}]}, \"train_evaluation\": {\"id\": \"train_evaluation\", \"name\": \"train_evaluation\", \"inputs\": [\"cae2d1c7\", \"872981f9\", \"72baf5c6\", \"9ca016a8\", \"f6d9538c\", \"98eb115e\"], \"outputs\": [\"b701864d\", \"4f79de77\", \"495a0bbc\", \"b16095d0\"], \"children\": [{\"id\": \"train_evaluation.linear_regression\", \"type\": \"modularPipeline\"}, {\"id\": \"train_evaluation.random_forest\", \"type\": \"modularPipeline\"}]}, \"train_evaluation.linear_regression\": {\"id\": \"train_evaluation.linear_regression\", \"name\": \"train_evaluation.linear_regression\", \"inputs\": [\"cae2d1c7\", \"872981f9\", \"9ca016a8\", \"f6d9538c\", \"98eb115e\"], \"outputs\": [\"b701864d\", \"495a0bbc\"], \"children\": [{\"id\": \"af9a43c8\", \"type\": \"task\"}, {\"id\": \"10e51dea\", \"type\": \"data\"}, {\"id\": \"d2885635\", \"type\": \"task\"}]}, \"train_evaluation.random_forest\": {\"id\": \"train_evaluation.random_forest\", \"name\": \"train_evaluation.random_forest\", \"inputs\": [\"cae2d1c7\", \"872981f9\", \"72baf5c6\", \"9ca016a8\", \"f6d9538c\"], \"outputs\": [\"4f79de77\", \"b16095d0\"], \"children\": [{\"id\": \"01675921\", \"type\": \"data\"}, {\"id\": \"038647c7\", \"type\": \"task\"}, {\"id\": \"bf8530bc\", \"type\": \"task\"}]}}, \"selected_pipeline\": \"__default__\"},\n",
       "                                    options: {\"display\": {\"expandPipelinesBtn\": false, \"exportBtn\": false, \"globalNavigation\": false, \"labelBtn\": false, \"layerBtn\": false, \"metadataPanel\": false, \"miniMap\": false, \"sidebar\": false, \"zoomToolbar\": false}, \"expandAllPipelines\": false, \"theme\": \"dark\", \"tag\": {\"enabled\": {}}}\n",
       "                                })\n",
       "                            );\n",
       "                        }\n",
       "                    } else if (retries < maxRetries) {\n",
       "                        setTimeout(() => waitForBundle(maxRetries, retries + 1), 10);  // Retry every 10ms\n",
       "                    } else {\n",
       "                        console.error(\"Failed to load KedroVizBundle after 500ms\");\n",
       "                    }\n",
       "            })();\n",
       "            </script>\n",
       "        </body>\n",
       "        </html>"
      ],
      "text/plain": [
       "\u001b[1m<\u001b[0m\u001b[1;95mIPython.core.display.HTML\u001b[0m\u001b[39m object\u001b[0m\u001b[1m>\u001b[0m"
      ]
     },
     "metadata": {},
     "output_type": "display_data"
    }
   ],
   "source": [
    "from kedro_viz import NotebookVisualizer\n",
    "NotebookVisualizer().show(pipeline=demo_pipe[\"__default__\"], options={ \"display\": {\n",
    "                \"expandPipelinesBtn\": False,\n",
    "                \"exportBtn\": False,\n",
    "                \"globalNavigation\": False,\n",
    "                \"labelBtn\": False,\n",
    "                \"layerBtn\": False,\n",
    "                \"metadataPanel\": False,\n",
    "                \"miniMap\": False,\n",
    "                \"sidebar\": False,\n",
    "                \"zoomToolbar\": False,\n",
    "            },\n",
    "            \"tag\": {\n",
    "                \"enabled\": {}\n",
    "            },\n",
    "            \"expandAllPipelines\": False,\n",
    "            \"theme\": \"dark\"})"
   ]
  },
  {
   "cell_type": "code",
   "execution_count": null,
   "id": "d7e5fd39-ec28-4080-9ee6-e59a335582d3",
   "metadata": {},
   "outputs": [],
   "source": []
  }
 ],
 "metadata": {
  "kernelspec": {
   "display_name": "Python 3 (ipykernel)",
   "language": "python",
   "name": "python3"
  },
  "language_info": {
   "codemirror_mode": {
    "name": "ipython",
    "version": 3
   },
   "file_extension": ".py",
   "mimetype": "text/x-python",
   "name": "python",
   "nbconvert_exporter": "python",
   "pygments_lexer": "ipython3",
   "version": "3.12.8"
  }
 },
 "nbformat": 4,
 "nbformat_minor": 5
}
