{
 "cells": [
  {
   "cell_type": "code",
   "execution_count": 1,
   "id": "9598f7ec-bf4a-461a-9925-953024d97996",
   "metadata": {},
   "outputs": [],
   "source": [
    "from kedro.pipeline import pipeline, node"
   ]
  },
  {
   "cell_type": "code",
   "execution_count": 2,
   "id": "50c84657-e314-47e0-854b-38d32c24727e",
   "metadata": {},
   "outputs": [],
   "source": [
    "def dummy(ds1):\n",
    "    return ds1\n",
    "n0 = node(func=dummy, inputs=\"flights\", outputs=\"processed_flights\")"
   ]
  },
  {
   "cell_type": "code",
   "execution_count": 3,
   "id": "f9b64488-4462-449b-bcb8-060606856cf0",
   "metadata": {},
   "outputs": [],
   "source": [
    "pipe = pipeline([n0])"
   ]
  },
  {
   "cell_type": "code",
   "execution_count": 4,
   "id": "d0ae936a-0665-4a48-9029-575dab0f4396",
   "metadata": {},
   "outputs": [
    {
     "data": {
      "text/plain": [
       "Pipeline([\n",
       "Node(dummy, 'flights', 'processed_flights', None)\n",
       "])"
      ]
     },
     "execution_count": 4,
     "metadata": {},
     "output_type": "execute_result"
    }
   ],
   "source": [
    "pipe"
   ]
  },
  {
   "cell_type": "code",
   "execution_count": 5,
   "id": "3abd3ec8-f4a6-4742-b937-9a45fa061ca0",
   "metadata": {},
   "outputs": [
    {
     "data": {
      "text/html": [
       "<pre style=\"white-space:pre;overflow-x:auto;line-height:normal;font-family:Menlo,'DejaVu Sans Mono',consolas,'Courier New',monospace\"><span style=\"color: #7fbfbf; text-decoration-color: #7fbfbf\">[01/31/25 14:45:50] </span><span style=\"color: #000080; text-decoration-color: #000080\">INFO    </span> Using                                                                  <a href=\"file:///Users/Ravi_Kumar_Pilla/Library/CloudStorage/OneDrive-McKinsey&Company/Documents/KedroOrg/kedro/kedro/framework/project/__init__.py\" target=\"_blank\"><span style=\"color: #7f7f7f; text-decoration-color: #7f7f7f\">__init__.py</span></a><span style=\"color: #7f7f7f; text-decoration-color: #7f7f7f\">:</span><a href=\"file:///Users/Ravi_Kumar_Pilla/Library/CloudStorage/OneDrive-McKinsey&Company/Documents/KedroOrg/kedro/kedro/framework/project/__init__.py#270\" target=\"_blank\"><span style=\"color: #7f7f7f; text-decoration-color: #7f7f7f\">270</span></a>\n",
       "<span style=\"color: #7fbfbf; text-decoration-color: #7fbfbf\">                    </span>         <span style=\"color: #008000; text-decoration-color: #008000\">'/Users/Ravi_Kumar_Pilla/Library/CloudStorage/OneDrive-McKinsey&amp;Compan</span> <span style=\"color: #7f7f7f; text-decoration-color: #7f7f7f\">               </span>\n",
       "<span style=\"color: #7fbfbf; text-decoration-color: #7fbfbf\">                    </span>         <span style=\"color: #008000; text-decoration-color: #008000\">y/Documents/KedroOrg/kedro/kedro/framework/project/rich_logging.yml'</span>   <span style=\"color: #7f7f7f; text-decoration-color: #7f7f7f\">               </span>\n",
       "<span style=\"color: #7fbfbf; text-decoration-color: #7fbfbf\">                    </span>         as logging configuration.                                              <span style=\"color: #7f7f7f; text-decoration-color: #7f7f7f\">               </span>\n",
       "</pre>\n"
      ],
      "text/plain": [
       "\u001b[2;36m[01/31/25 14:45:50]\u001b[0m\u001b[2;36m \u001b[0m\u001b[34mINFO    \u001b[0m Using                                                                  \u001b]8;id=280160;file:///Users/Ravi_Kumar_Pilla/Library/CloudStorage/OneDrive-McKinsey&Company/Documents/KedroOrg/kedro/kedro/framework/project/__init__.py\u001b\\\u001b[2m__init__.py\u001b[0m\u001b]8;;\u001b\\\u001b[2m:\u001b[0m\u001b]8;id=45352;file:///Users/Ravi_Kumar_Pilla/Library/CloudStorage/OneDrive-McKinsey&Company/Documents/KedroOrg/kedro/kedro/framework/project/__init__.py#270\u001b\\\u001b[2m270\u001b[0m\u001b]8;;\u001b\\\n",
       "\u001b[2;36m                    \u001b[0m         \u001b[32m'/Users/Ravi_Kumar_Pilla/Library/CloudStorage/OneDrive-McKinsey&Compan\u001b[0m \u001b[2m               \u001b[0m\n",
       "\u001b[2;36m                    \u001b[0m         \u001b[32my/Documents/KedroOrg/kedro/kedro/framework/project/rich_logging.yml'\u001b[0m   \u001b[2m               \u001b[0m\n",
       "\u001b[2;36m                    \u001b[0m         as logging configuration.                                              \u001b[2m               \u001b[0m\n"
      ]
     },
     "metadata": {},
     "output_type": "display_data"
    }
   ],
   "source": [
    "from kedro_viz import NotebookVisualizer"
   ]
  },
  {
   "cell_type": "code",
   "execution_count": 6,
   "id": "f036843d-ac1b-40cc-b9a7-7910b18020d0",
   "metadata": {},
   "outputs": [
    {
     "data": {
      "text/html": [
       "<pre style=\"white-space:pre;overflow-x:auto;line-height:normal;font-family:Menlo,'DejaVu Sans Mono',consolas,'Courier New',monospace\"><span style=\"color: #7fbfbf; text-decoration-color: #7fbfbf\">[01/31/25 14:45:51] </span><span style=\"color: #808000; text-decoration-color: #808000\">WARNING </span> <span style=\"color: #800080; text-decoration-color: #800080\">/opt/miniconda3/envs/kedro-py312/lib/python3.12/site-packages/IPython/</span> <a href=\"file:///opt/miniconda3/envs/kedro-py312/lib/python3.12/warnings.py\" target=\"_blank\"><span style=\"color: #7f7f7f; text-decoration-color: #7f7f7f\">warnings.py</span></a><span style=\"color: #7f7f7f; text-decoration-color: #7f7f7f\">:</span><a href=\"file:///opt/miniconda3/envs/kedro-py312/lib/python3.12/warnings.py#112\" target=\"_blank\"><span style=\"color: #7f7f7f; text-decoration-color: #7f7f7f\">112</span></a>\n",
       "<span style=\"color: #7fbfbf; text-decoration-color: #7fbfbf\">                    </span>         <span style=\"color: #800080; text-decoration-color: #800080\">core/</span><span style=\"color: #ff00ff; text-decoration-color: #ff00ff\">display.py</span>:<span style=\"color: #008080; text-decoration-color: #008080; font-weight: bold\">475</span>: UserWarning: Consider using                       <span style=\"color: #7f7f7f; text-decoration-color: #7f7f7f\">               </span>\n",
       "<span style=\"color: #7fbfbf; text-decoration-color: #7fbfbf\">                    </span>         IPython.display.IFrame instead                                         <span style=\"color: #7f7f7f; text-decoration-color: #7f7f7f\">               </span>\n",
       "<span style=\"color: #7fbfbf; text-decoration-color: #7fbfbf\">                    </span>           <span style=\"color: #800080; text-decoration-color: #800080; font-weight: bold\">warnings.warn</span><span style=\"font-weight: bold\">(</span><span style=\"color: #008000; text-decoration-color: #008000\">\"Consider using IPython.display.IFrame instead\"</span><span style=\"font-weight: bold\">)</span>       <span style=\"color: #7f7f7f; text-decoration-color: #7f7f7f\">               </span>\n",
       "<span style=\"color: #7fbfbf; text-decoration-color: #7fbfbf\">                    </span>                                                                                <span style=\"color: #7f7f7f; text-decoration-color: #7f7f7f\">               </span>\n",
       "</pre>\n"
      ],
      "text/plain": [
       "\u001b[2;36m[01/31/25 14:45:51]\u001b[0m\u001b[2;36m \u001b[0m\u001b[33mWARNING \u001b[0m \u001b[35m/opt/miniconda3/envs/kedro-py312/lib/python3.12/site-packages/IPython/\u001b[0m \u001b]8;id=272757;file:///opt/miniconda3/envs/kedro-py312/lib/python3.12/warnings.py\u001b\\\u001b[2mwarnings.py\u001b[0m\u001b]8;;\u001b\\\u001b[2m:\u001b[0m\u001b]8;id=456923;file:///opt/miniconda3/envs/kedro-py312/lib/python3.12/warnings.py#112\u001b\\\u001b[2m112\u001b[0m\u001b]8;;\u001b\\\n",
       "\u001b[2;36m                    \u001b[0m         \u001b[35mcore/\u001b[0m\u001b[95mdisplay.py\u001b[0m:\u001b[1;36m475\u001b[0m: UserWarning: Consider using                       \u001b[2m               \u001b[0m\n",
       "\u001b[2;36m                    \u001b[0m         IPython.display.IFrame instead                                         \u001b[2m               \u001b[0m\n",
       "\u001b[2;36m                    \u001b[0m           \u001b[1;35mwarnings.warn\u001b[0m\u001b[1m(\u001b[0m\u001b[32m\"Consider using IPython.display.IFrame instead\"\u001b[0m\u001b[1m)\u001b[0m       \u001b[2m               \u001b[0m\n",
       "\u001b[2;36m                    \u001b[0m                                                                                \u001b[2m               \u001b[0m\n"
      ]
     },
     "metadata": {},
     "output_type": "display_data"
    },
    {
     "data": {
      "text/html": [
       "<pre style=\"white-space:pre;overflow-x:auto;line-height:normal;font-family:Menlo,'DejaVu Sans Mono',consolas,'Courier New',monospace\"></pre>\n"
      ],
      "text/plain": []
     },
     "metadata": {},
     "output_type": "display_data"
    },
    {
     "data": {
      "text/html": [
       "<iframe srcdoc=\"<!DOCTYPE html>\n",
       "        <html lang='en'>\n",
       "        <head>\n",
       "            <meta charset='UTF-8'>\n",
       "            <meta name='viewport' content='width=device-width, initial-scale=1.0'>\n",
       "            <title>Kedro-Viz</title>\n",
       "        </head>\n",
       "        <body>\n",
       "            <div id=kedro-viz-090656d2 style='height: 600px'></div>\n",
       "            <script src=&quot;http://localhost:8020/vendors.production.min.js&quot;></script>\n",
       "            <script src=&quot;http://localhost:8020/kedro-viz.production.min.js&quot;></script>\n",
       "            <script>\n",
       "                (function waitForBundle(maxRetries = 50, retries = 0) {\n",
       "                    if (typeof KedroVizBundle !== 'undefined') {\n",
       "                        const { KedroViz, createRoot, React } = KedroVizBundle;\n",
       "                        const viz_container = document.getElementById('kedro-viz-090656d2');\n",
       "                        \n",
       "                        if (createRoot && viz_container) {\n",
       "                            const viz_root = createRoot(viz_container);\n",
       "                            viz_root.render(\n",
       "                                React.createElement(KedroViz, {\n",
       "                                    data: {&quot;nodes&quot;: [{&quot;id&quot;: &quot;cffa5dc2&quot;, &quot;name&quot;: &quot;dummy&quot;, &quot;tags&quot;: [], &quot;pipelines&quot;: [&quot;__default__&quot;], &quot;type&quot;: &quot;task&quot;, &quot;modular_pipelines&quot;: null, &quot;parameters&quot;: {}}, {&quot;id&quot;: &quot;b1538005&quot;, &quot;name&quot;: &quot;flights&quot;, &quot;tags&quot;: [], &quot;pipelines&quot;: [&quot;__default__&quot;], &quot;type&quot;: &quot;data&quot;, &quot;modular_pipelines&quot;: null, &quot;layer&quot;: null, &quot;dataset_type&quot;: &quot;io.memory_dataset.MemoryDataset&quot;, &quot;stats&quot;: null}, {&quot;id&quot;: &quot;777ad629&quot;, &quot;name&quot;: &quot;processed_flights&quot;, &quot;tags&quot;: [], &quot;pipelines&quot;: [&quot;__default__&quot;], &quot;type&quot;: &quot;data&quot;, &quot;modular_pipelines&quot;: null, &quot;layer&quot;: null, &quot;dataset_type&quot;: &quot;io.memory_dataset.MemoryDataset&quot;, &quot;stats&quot;: null}], &quot;edges&quot;: [{&quot;source&quot;: &quot;cffa5dc2&quot;, &quot;target&quot;: &quot;777ad629&quot;}, {&quot;source&quot;: &quot;b1538005&quot;, &quot;target&quot;: &quot;cffa5dc2&quot;}], &quot;layers&quot;: [], &quot;tags&quot;: [], &quot;pipelines&quot;: [{&quot;id&quot;: &quot;__default__&quot;, &quot;name&quot;: &quot;__default__&quot;}], &quot;modular_pipelines&quot;: {&quot;__root__&quot;: {&quot;id&quot;: &quot;__root__&quot;, &quot;name&quot;: &quot;__root__&quot;, &quot;inputs&quot;: [], &quot;outputs&quot;: [], &quot;children&quot;: [{&quot;id&quot;: &quot;777ad629&quot;, &quot;type&quot;: &quot;data&quot;}, {&quot;id&quot;: &quot;b1538005&quot;, &quot;type&quot;: &quot;data&quot;}, {&quot;id&quot;: &quot;cffa5dc2&quot;, &quot;type&quot;: &quot;task&quot;}]}}, &quot;selected_pipeline&quot;: &quot;__default__&quot;},\n",
       "                                    options: {&quot;display&quot;: {&quot;expandPipelinesBtn&quot;: false, &quot;exportBtn&quot;: false, &quot;globalNavigation&quot;: false, &quot;labelBtn&quot;: false, &quot;layerBtn&quot;: false, &quot;metadataPanel&quot;: false, &quot;miniMap&quot;: false, &quot;sidebar&quot;: false, &quot;zoomToolbar&quot;: false}, &quot;expandAllPipelines&quot;: false, &quot;behaviour&quot;: {&quot;reFocus&quot;: false}, &quot;theme&quot;: &quot;dark&quot;}\n",
       "                                })\n",
       "                            );\n",
       "                        }\n",
       "                    } else if (retries < maxRetries) {\n",
       "                        setTimeout(() => waitForBundle(maxRetries, retries + 1), 10);  // Retry every 10ms\n",
       "                    } else {\n",
       "                        console.error(&quot;Failed to load KedroVizBundle after 500ms&quot;);\n",
       "                    }\n",
       "            })();\n",
       "            </script>\n",
       "        </body>\n",
       "        </html>\"  style=\"width:100%; height:600px; border:none;\" sandbox=\"allow-scripts\"></iframe>"
      ],
      "text/plain": [
       "\u001b[1m<\u001b[0m\u001b[1;95mIPython.core.display.HTML\u001b[0m\u001b[39m object\u001b[0m\u001b[1m>\u001b[0m"
      ]
     },
     "metadata": {},
     "output_type": "display_data"
    }
   ],
   "source": [
    "NotebookVisualizer().show(pipeline=pipe)"
   ]
  },
  {
   "cell_type": "code",
   "execution_count": 7,
   "id": "883d473c-39d2-4cca-b545-6cb2f55846d0",
   "metadata": {},
   "outputs": [],
   "source": [
    "from src.demo_project.pipeline_registry import register_pipelines\n",
    "demo_pipe = register_pipelines()"
   ]
  },
  {
   "cell_type": "code",
   "execution_count": 8,
   "id": "68836dfc-12b4-42ee-84ff-e8fa7019aee3",
   "metadata": {},
   "outputs": [
    {
     "data": {
      "text/html": [
       "<pre style=\"white-space:pre;overflow-x:auto;line-height:normal;font-family:Menlo,'DejaVu Sans Mono',consolas,'Courier New',monospace\"><span style=\"color: #7fbfbf; text-decoration-color: #7fbfbf\">[01/31/25 14:45:52] </span><span style=\"color: #808000; text-decoration-color: #808000\">WARNING </span> Cannot find parameter `ingestion.typing.reviews.columns_as_floats` in the <a href=\"file:///Users/Ravi_Kumar_Pilla/Library/CloudStorage/OneDrive-McKinsey&Company/Documents/KedroOrg/kedro-viz/package/kedro_viz/models/flowchart/nodes.py\" target=\"_blank\"><span style=\"color: #7f7f7f; text-decoration-color: #7f7f7f\">nodes.py</span></a><span style=\"color: #7f7f7f; text-decoration-color: #7f7f7f\">:</span><a href=\"file:///Users/Ravi_Kumar_Pilla/Library/CloudStorage/OneDrive-McKinsey&Company/Documents/KedroOrg/kedro-viz/package/kedro_viz/models/flowchart/nodes.py#430\" target=\"_blank\"><span style=\"color: #7f7f7f; text-decoration-color: #7f7f7f\">430</span></a>\n",
       "<span style=\"color: #7fbfbf; text-decoration-color: #7fbfbf\">                    </span>         catalog.                                                                  <span style=\"color: #7f7f7f; text-decoration-color: #7f7f7f\">            </span>\n",
       "</pre>\n"
      ],
      "text/plain": [
       "\u001b[2;36m[01/31/25 14:45:52]\u001b[0m\u001b[2;36m \u001b[0m\u001b[33mWARNING \u001b[0m Cannot find parameter `ingestion.typing.reviews.columns_as_floats` in the \u001b]8;id=568889;file:///Users/Ravi_Kumar_Pilla/Library/CloudStorage/OneDrive-McKinsey&Company/Documents/KedroOrg/kedro-viz/package/kedro_viz/models/flowchart/nodes.py\u001b\\\u001b[2mnodes.py\u001b[0m\u001b]8;;\u001b\\\u001b[2m:\u001b[0m\u001b]8;id=756020;file:///Users/Ravi_Kumar_Pilla/Library/CloudStorage/OneDrive-McKinsey&Company/Documents/KedroOrg/kedro-viz/package/kedro_viz/models/flowchart/nodes.py#430\u001b\\\u001b[2m430\u001b[0m\u001b]8;;\u001b\\\n",
       "\u001b[2;36m                    \u001b[0m         catalog.                                                                  \u001b[2m            \u001b[0m\n"
      ]
     },
     "metadata": {},
     "output_type": "display_data"
    },
    {
     "data": {
      "text/html": [
       "<pre style=\"white-space:pre;overflow-x:auto;line-height:normal;font-family:Menlo,'DejaVu Sans Mono',consolas,'Courier New',monospace\"><span style=\"color: #7fbfbf; text-decoration-color: #7fbfbf\">                    </span><span style=\"color: #808000; text-decoration-color: #808000\">WARNING </span> Cannot find parameter `feature_engineering.feature.derived` in the        <a href=\"file:///Users/Ravi_Kumar_Pilla/Library/CloudStorage/OneDrive-McKinsey&Company/Documents/KedroOrg/kedro-viz/package/kedro_viz/models/flowchart/nodes.py\" target=\"_blank\"><span style=\"color: #7f7f7f; text-decoration-color: #7f7f7f\">nodes.py</span></a><span style=\"color: #7f7f7f; text-decoration-color: #7f7f7f\">:</span><a href=\"file:///Users/Ravi_Kumar_Pilla/Library/CloudStorage/OneDrive-McKinsey&Company/Documents/KedroOrg/kedro-viz/package/kedro_viz/models/flowchart/nodes.py#430\" target=\"_blank\"><span style=\"color: #7f7f7f; text-decoration-color: #7f7f7f\">430</span></a>\n",
       "<span style=\"color: #7fbfbf; text-decoration-color: #7fbfbf\">                    </span>         catalog.                                                                  <span style=\"color: #7f7f7f; text-decoration-color: #7f7f7f\">            </span>\n",
       "</pre>\n"
      ],
      "text/plain": [
       "\u001b[2;36m                   \u001b[0m\u001b[2;36m \u001b[0m\u001b[33mWARNING \u001b[0m Cannot find parameter `feature_engineering.feature.derived` in the        \u001b]8;id=664336;file:///Users/Ravi_Kumar_Pilla/Library/CloudStorage/OneDrive-McKinsey&Company/Documents/KedroOrg/kedro-viz/package/kedro_viz/models/flowchart/nodes.py\u001b\\\u001b[2mnodes.py\u001b[0m\u001b]8;;\u001b\\\u001b[2m:\u001b[0m\u001b]8;id=698698;file:///Users/Ravi_Kumar_Pilla/Library/CloudStorage/OneDrive-McKinsey&Company/Documents/KedroOrg/kedro-viz/package/kedro_viz/models/flowchart/nodes.py#430\u001b\\\u001b[2m430\u001b[0m\u001b]8;;\u001b\\\n",
       "\u001b[2;36m                    \u001b[0m         catalog.                                                                  \u001b[2m            \u001b[0m\n"
      ]
     },
     "metadata": {},
     "output_type": "display_data"
    },
    {
     "data": {
      "text/html": [
       "<pre style=\"white-space:pre;overflow-x:auto;line-height:normal;font-family:Menlo,'DejaVu Sans Mono',consolas,'Courier New',monospace\"><span style=\"color: #7fbfbf; text-decoration-color: #7fbfbf\">                    </span><span style=\"color: #808000; text-decoration-color: #808000\">WARNING </span> Cannot find parameter `feature_engineering.feature.static` in the         <a href=\"file:///Users/Ravi_Kumar_Pilla/Library/CloudStorage/OneDrive-McKinsey&Company/Documents/KedroOrg/kedro-viz/package/kedro_viz/models/flowchart/nodes.py\" target=\"_blank\"><span style=\"color: #7f7f7f; text-decoration-color: #7f7f7f\">nodes.py</span></a><span style=\"color: #7f7f7f; text-decoration-color: #7f7f7f\">:</span><a href=\"file:///Users/Ravi_Kumar_Pilla/Library/CloudStorage/OneDrive-McKinsey&Company/Documents/KedroOrg/kedro-viz/package/kedro_viz/models/flowchart/nodes.py#430\" target=\"_blank\"><span style=\"color: #7f7f7f; text-decoration-color: #7f7f7f\">430</span></a>\n",
       "<span style=\"color: #7fbfbf; text-decoration-color: #7fbfbf\">                    </span>         catalog.                                                                  <span style=\"color: #7f7f7f; text-decoration-color: #7f7f7f\">            </span>\n",
       "</pre>\n"
      ],
      "text/plain": [
       "\u001b[2;36m                   \u001b[0m\u001b[2;36m \u001b[0m\u001b[33mWARNING \u001b[0m Cannot find parameter `feature_engineering.feature.static` in the         \u001b]8;id=22663;file:///Users/Ravi_Kumar_Pilla/Library/CloudStorage/OneDrive-McKinsey&Company/Documents/KedroOrg/kedro-viz/package/kedro_viz/models/flowchart/nodes.py\u001b\\\u001b[2mnodes.py\u001b[0m\u001b]8;;\u001b\\\u001b[2m:\u001b[0m\u001b]8;id=709252;file:///Users/Ravi_Kumar_Pilla/Library/CloudStorage/OneDrive-McKinsey&Company/Documents/KedroOrg/kedro-viz/package/kedro_viz/models/flowchart/nodes.py#430\u001b\\\u001b[2m430\u001b[0m\u001b]8;;\u001b\\\n",
       "\u001b[2;36m                    \u001b[0m         catalog.                                                                  \u001b[2m            \u001b[0m\n"
      ]
     },
     "metadata": {},
     "output_type": "display_data"
    },
    {
     "data": {
      "text/html": [
       "<pre style=\"white-space:pre;overflow-x:auto;line-height:normal;font-family:Menlo,'DejaVu Sans Mono',consolas,'Courier New',monospace\"><span style=\"color: #7fbfbf; text-decoration-color: #7fbfbf\">                    </span><span style=\"color: #808000; text-decoration-color: #808000\">WARNING </span> Cannot find parameter `split_options` in the catalog.                     <a href=\"file:///Users/Ravi_Kumar_Pilla/Library/CloudStorage/OneDrive-McKinsey&Company/Documents/KedroOrg/kedro-viz/package/kedro_viz/models/flowchart/nodes.py\" target=\"_blank\"><span style=\"color: #7f7f7f; text-decoration-color: #7f7f7f\">nodes.py</span></a><span style=\"color: #7f7f7f; text-decoration-color: #7f7f7f\">:</span><a href=\"file:///Users/Ravi_Kumar_Pilla/Library/CloudStorage/OneDrive-McKinsey&Company/Documents/KedroOrg/kedro-viz/package/kedro_viz/models/flowchart/nodes.py#430\" target=\"_blank\"><span style=\"color: #7f7f7f; text-decoration-color: #7f7f7f\">430</span></a>\n",
       "</pre>\n"
      ],
      "text/plain": [
       "\u001b[2;36m                   \u001b[0m\u001b[2;36m \u001b[0m\u001b[33mWARNING \u001b[0m Cannot find parameter `split_options` in the catalog.                     \u001b]8;id=816930;file:///Users/Ravi_Kumar_Pilla/Library/CloudStorage/OneDrive-McKinsey&Company/Documents/KedroOrg/kedro-viz/package/kedro_viz/models/flowchart/nodes.py\u001b\\\u001b[2mnodes.py\u001b[0m\u001b]8;;\u001b\\\u001b[2m:\u001b[0m\u001b]8;id=156484;file:///Users/Ravi_Kumar_Pilla/Library/CloudStorage/OneDrive-McKinsey&Company/Documents/KedroOrg/kedro-viz/package/kedro_viz/models/flowchart/nodes.py#430\u001b\\\u001b[2m430\u001b[0m\u001b]8;;\u001b\\\n"
      ]
     },
     "metadata": {},
     "output_type": "display_data"
    },
    {
     "data": {
      "text/html": [
       "<pre style=\"white-space:pre;overflow-x:auto;line-height:normal;font-family:Menlo,'DejaVu Sans Mono',consolas,'Courier New',monospace\"><span style=\"color: #7fbfbf; text-decoration-color: #7fbfbf\">                    </span><span style=\"color: #808000; text-decoration-color: #808000\">WARNING </span> Cannot find parameter `train_evaluation.model_options.linear_regression`  <a href=\"file:///Users/Ravi_Kumar_Pilla/Library/CloudStorage/OneDrive-McKinsey&Company/Documents/KedroOrg/kedro-viz/package/kedro_viz/models/flowchart/nodes.py\" target=\"_blank\"><span style=\"color: #7f7f7f; text-decoration-color: #7f7f7f\">nodes.py</span></a><span style=\"color: #7f7f7f; text-decoration-color: #7f7f7f\">:</span><a href=\"file:///Users/Ravi_Kumar_Pilla/Library/CloudStorage/OneDrive-McKinsey&Company/Documents/KedroOrg/kedro-viz/package/kedro_viz/models/flowchart/nodes.py#430\" target=\"_blank\"><span style=\"color: #7f7f7f; text-decoration-color: #7f7f7f\">430</span></a>\n",
       "<span style=\"color: #7fbfbf; text-decoration-color: #7fbfbf\">                    </span>         in the catalog.                                                           <span style=\"color: #7f7f7f; text-decoration-color: #7f7f7f\">            </span>\n",
       "</pre>\n"
      ],
      "text/plain": [
       "\u001b[2;36m                   \u001b[0m\u001b[2;36m \u001b[0m\u001b[33mWARNING \u001b[0m Cannot find parameter `train_evaluation.model_options.linear_regression`  \u001b]8;id=870343;file:///Users/Ravi_Kumar_Pilla/Library/CloudStorage/OneDrive-McKinsey&Company/Documents/KedroOrg/kedro-viz/package/kedro_viz/models/flowchart/nodes.py\u001b\\\u001b[2mnodes.py\u001b[0m\u001b]8;;\u001b\\\u001b[2m:\u001b[0m\u001b]8;id=607224;file:///Users/Ravi_Kumar_Pilla/Library/CloudStorage/OneDrive-McKinsey&Company/Documents/KedroOrg/kedro-viz/package/kedro_viz/models/flowchart/nodes.py#430\u001b\\\u001b[2m430\u001b[0m\u001b]8;;\u001b\\\n",
       "\u001b[2;36m                    \u001b[0m         in the catalog.                                                           \u001b[2m            \u001b[0m\n"
      ]
     },
     "metadata": {},
     "output_type": "display_data"
    },
    {
     "data": {
      "text/html": [
       "<pre style=\"white-space:pre;overflow-x:auto;line-height:normal;font-family:Menlo,'DejaVu Sans Mono',consolas,'Courier New',monospace\"><span style=\"color: #7fbfbf; text-decoration-color: #7fbfbf\">                    </span><span style=\"color: #808000; text-decoration-color: #808000\">WARNING </span> Cannot find parameter `train_evaluation.model_options.random_forest` in   <a href=\"file:///Users/Ravi_Kumar_Pilla/Library/CloudStorage/OneDrive-McKinsey&Company/Documents/KedroOrg/kedro-viz/package/kedro_viz/models/flowchart/nodes.py\" target=\"_blank\"><span style=\"color: #7f7f7f; text-decoration-color: #7f7f7f\">nodes.py</span></a><span style=\"color: #7f7f7f; text-decoration-color: #7f7f7f\">:</span><a href=\"file:///Users/Ravi_Kumar_Pilla/Library/CloudStorage/OneDrive-McKinsey&Company/Documents/KedroOrg/kedro-viz/package/kedro_viz/models/flowchart/nodes.py#430\" target=\"_blank\"><span style=\"color: #7f7f7f; text-decoration-color: #7f7f7f\">430</span></a>\n",
       "<span style=\"color: #7fbfbf; text-decoration-color: #7fbfbf\">                    </span>         the catalog.                                                              <span style=\"color: #7f7f7f; text-decoration-color: #7f7f7f\">            </span>\n",
       "</pre>\n"
      ],
      "text/plain": [
       "\u001b[2;36m                   \u001b[0m\u001b[2;36m \u001b[0m\u001b[33mWARNING \u001b[0m Cannot find parameter `train_evaluation.model_options.random_forest` in   \u001b]8;id=583500;file:///Users/Ravi_Kumar_Pilla/Library/CloudStorage/OneDrive-McKinsey&Company/Documents/KedroOrg/kedro-viz/package/kedro_viz/models/flowchart/nodes.py\u001b\\\u001b[2mnodes.py\u001b[0m\u001b]8;;\u001b\\\u001b[2m:\u001b[0m\u001b]8;id=41014;file:///Users/Ravi_Kumar_Pilla/Library/CloudStorage/OneDrive-McKinsey&Company/Documents/KedroOrg/kedro-viz/package/kedro_viz/models/flowchart/nodes.py#430\u001b\\\u001b[2m430\u001b[0m\u001b]8;;\u001b\\\n",
       "\u001b[2;36m                    \u001b[0m         the catalog.                                                              \u001b[2m            \u001b[0m\n"
      ]
     },
     "metadata": {},
     "output_type": "display_data"
    },
    {
     "data": {
      "text/html": [
       "<pre style=\"white-space:pre;overflow-x:auto;line-height:normal;font-family:Menlo,'DejaVu Sans Mono',consolas,'Courier New',monospace\"><span style=\"color: #7fbfbf; text-decoration-color: #7fbfbf\">                    </span><span style=\"color: #808000; text-decoration-color: #808000\">WARNING </span> <span style=\"color: #800080; text-decoration-color: #800080\">/opt/miniconda3/envs/kedro-py312/lib/python3.12/site-packages/IPython/</span> <a href=\"file:///opt/miniconda3/envs/kedro-py312/lib/python3.12/warnings.py\" target=\"_blank\"><span style=\"color: #7f7f7f; text-decoration-color: #7f7f7f\">warnings.py</span></a><span style=\"color: #7f7f7f; text-decoration-color: #7f7f7f\">:</span><a href=\"file:///opt/miniconda3/envs/kedro-py312/lib/python3.12/warnings.py#112\" target=\"_blank\"><span style=\"color: #7f7f7f; text-decoration-color: #7f7f7f\">112</span></a>\n",
       "<span style=\"color: #7fbfbf; text-decoration-color: #7fbfbf\">                    </span>         <span style=\"color: #800080; text-decoration-color: #800080\">core/</span><span style=\"color: #ff00ff; text-decoration-color: #ff00ff\">display.py</span>:<span style=\"color: #008080; text-decoration-color: #008080; font-weight: bold\">475</span>: UserWarning: Consider using                       <span style=\"color: #7f7f7f; text-decoration-color: #7f7f7f\">               </span>\n",
       "<span style=\"color: #7fbfbf; text-decoration-color: #7fbfbf\">                    </span>         IPython.display.IFrame instead                                         <span style=\"color: #7f7f7f; text-decoration-color: #7f7f7f\">               </span>\n",
       "<span style=\"color: #7fbfbf; text-decoration-color: #7fbfbf\">                    </span>           <span style=\"color: #800080; text-decoration-color: #800080; font-weight: bold\">warnings.warn</span><span style=\"font-weight: bold\">(</span><span style=\"color: #008000; text-decoration-color: #008000\">\"Consider using IPython.display.IFrame instead\"</span><span style=\"font-weight: bold\">)</span>       <span style=\"color: #7f7f7f; text-decoration-color: #7f7f7f\">               </span>\n",
       "<span style=\"color: #7fbfbf; text-decoration-color: #7fbfbf\">                    </span>                                                                                <span style=\"color: #7f7f7f; text-decoration-color: #7f7f7f\">               </span>\n",
       "</pre>\n"
      ],
      "text/plain": [
       "\u001b[2;36m                   \u001b[0m\u001b[2;36m \u001b[0m\u001b[33mWARNING \u001b[0m \u001b[35m/opt/miniconda3/envs/kedro-py312/lib/python3.12/site-packages/IPython/\u001b[0m \u001b]8;id=885075;file:///opt/miniconda3/envs/kedro-py312/lib/python3.12/warnings.py\u001b\\\u001b[2mwarnings.py\u001b[0m\u001b]8;;\u001b\\\u001b[2m:\u001b[0m\u001b]8;id=232391;file:///opt/miniconda3/envs/kedro-py312/lib/python3.12/warnings.py#112\u001b\\\u001b[2m112\u001b[0m\u001b]8;;\u001b\\\n",
       "\u001b[2;36m                    \u001b[0m         \u001b[35mcore/\u001b[0m\u001b[95mdisplay.py\u001b[0m:\u001b[1;36m475\u001b[0m: UserWarning: Consider using                       \u001b[2m               \u001b[0m\n",
       "\u001b[2;36m                    \u001b[0m         IPython.display.IFrame instead                                         \u001b[2m               \u001b[0m\n",
       "\u001b[2;36m                    \u001b[0m           \u001b[1;35mwarnings.warn\u001b[0m\u001b[1m(\u001b[0m\u001b[32m\"Consider using IPython.display.IFrame instead\"\u001b[0m\u001b[1m)\u001b[0m       \u001b[2m               \u001b[0m\n",
       "\u001b[2;36m                    \u001b[0m                                                                                \u001b[2m               \u001b[0m\n"
      ]
     },
     "metadata": {},
     "output_type": "display_data"
    },
    {
     "data": {
      "text/html": [
       "<pre style=\"white-space:pre;overflow-x:auto;line-height:normal;font-family:Menlo,'DejaVu Sans Mono',consolas,'Courier New',monospace\"></pre>\n"
      ],
      "text/plain": []
     },
     "metadata": {},
     "output_type": "display_data"
    },
    {
     "data": {
      "text/html": [
       "<iframe srcdoc=\"<!DOCTYPE html>\n",
       "        <html lang='en'>\n",
       "        <head>\n",
       "            <meta charset='UTF-8'>\n",
       "            <meta name='viewport' content='width=device-width, initial-scale=1.0'>\n",
       "            <title>Kedro-Viz</title>\n",
       "        </head>\n",
       "        <body>\n",
       "            <div id=kedro-viz-f39216de style='height: 600px'></div>\n",
       "            <script src=&quot;http://localhost:8020/vendors.production.min.js&quot;></script>\n",
       "            <script src=&quot;http://localhost:8020/kedro-viz.production.min.js&quot;></script>\n",
       "            <script>\n",
       "                (function waitForBundle(maxRetries = 50, retries = 0) {\n",
       "                    if (typeof KedroVizBundle !== 'undefined') {\n",
       "                        const { KedroViz, createRoot, React } = KedroVizBundle;\n",
       "                        const viz_container = document.getElementById('kedro-viz-f39216de');\n",
       "                        \n",
       "                        if (createRoot && viz_container) {\n",
       "                            const viz_root = createRoot(viz_container);\n",
       "                            viz_root.render(\n",
       "                                React.createElement(KedroViz, {\n",
       "                                    data: {&quot;nodes&quot;: [{&quot;id&quot;: &quot;69c523b6&quot;, &quot;name&quot;: &quot;apply_types_to_companies&quot;, &quot;tags&quot;: [&quot;companies&quot;], &quot;pipelines&quot;: [&quot;__default__&quot;], &quot;type&quot;: &quot;task&quot;, &quot;modular_pipelines&quot;: [&quot;ingestion&quot;], &quot;parameters&quot;: {}}, {&quot;id&quot;: &quot;aed46479&quot;, &quot;name&quot;: &quot;companies&quot;, &quot;tags&quot;: [&quot;companies&quot;], &quot;pipelines&quot;: [&quot;__default__&quot;], &quot;type&quot;: &quot;data&quot;, &quot;modular_pipelines&quot;: [&quot;ingestion&quot;], &quot;layer&quot;: null, &quot;dataset_type&quot;: &quot;io.memory_dataset.MemoryDataset&quot;, &quot;stats&quot;: null}, {&quot;id&quot;: &quot;f23ad217&quot;, &quot;name&quot;: &quot;ingestion.int_typed_companies&quot;, &quot;tags&quot;: [&quot;companies&quot;], &quot;pipelines&quot;: [&quot;__default__&quot;], &quot;type&quot;: &quot;data&quot;, &quot;modular_pipelines&quot;: [&quot;ingestion&quot;], &quot;layer&quot;: null, &quot;dataset_type&quot;: &quot;io.memory_dataset.MemoryDataset&quot;, &quot;stats&quot;: null}, {&quot;id&quot;: &quot;ea604da4&quot;, &quot;name&quot;: &quot;apply_types_to_reviews&quot;, &quot;tags&quot;: [], &quot;pipelines&quot;: [&quot;__default__&quot;], &quot;type&quot;: &quot;task&quot;, &quot;modular_pipelines&quot;: [&quot;ingestion&quot;], &quot;parameters&quot;: {&quot;ingestion.typing.reviews.columns_as_floats&quot;: null}}, {&quot;id&quot;: &quot;7b2c6e04&quot;, &quot;name&quot;: &quot;reviews&quot;, &quot;tags&quot;: [], &quot;pipelines&quot;: [&quot;__default__&quot;], &quot;type&quot;: &quot;data&quot;, &quot;modular_pipelines&quot;: [&quot;ingestion&quot;], &quot;layer&quot;: null, &quot;dataset_type&quot;: &quot;io.memory_dataset.MemoryDataset&quot;, &quot;stats&quot;: null}, {&quot;id&quot;: &quot;b5609df0&quot;, &quot;name&quot;: &quot;params:ingestion.typing.reviews.columns_as_floats&quot;, &quot;tags&quot;: [], &quot;pipelines&quot;: [&quot;__default__&quot;], &quot;type&quot;: &quot;parameters&quot;, &quot;modular_pipelines&quot;: null, &quot;layer&quot;: null, &quot;dataset_type&quot;: null, &quot;stats&quot;: null}, {&quot;id&quot;: &quot;4f7ffa1b&quot;, &quot;name&quot;: &quot;ingestion.int_typed_reviews&quot;, &quot;tags&quot;: [], &quot;pipelines&quot;: [&quot;__default__&quot;], &quot;type&quot;: &quot;data&quot;, &quot;modular_pipelines&quot;: [&quot;ingestion&quot;], &quot;layer&quot;: null, &quot;dataset_type&quot;: &quot;io.memory_dataset.MemoryDataset&quot;, &quot;stats&quot;: null}, {&quot;id&quot;: &quot;f33b9291&quot;, &quot;name&quot;: &quot;apply_types_to_shuttles&quot;, &quot;tags&quot;: [&quot;shuttles&quot;], &quot;pipelines&quot;: [&quot;__default__&quot;], &quot;type&quot;: &quot;task&quot;, &quot;modular_pipelines&quot;: [&quot;ingestion&quot;], &quot;parameters&quot;: {}}, {&quot;id&quot;: &quot;f1d596c2&quot;, &quot;name&quot;: &quot;shuttles&quot;, &quot;tags&quot;: [&quot;shuttles&quot;], &quot;pipelines&quot;: [&quot;__default__&quot;], &quot;type&quot;: &quot;data&quot;, &quot;modular_pipelines&quot;: [&quot;ingestion&quot;], &quot;layer&quot;: null, &quot;dataset_type&quot;: &quot;io.memory_dataset.MemoryDataset&quot;, &quot;stats&quot;: null}, {&quot;id&quot;: &quot;c0ddbcbf&quot;, &quot;name&quot;: &quot;ingestion.int_typed_shuttles&quot;, &quot;tags&quot;: [&quot;shuttles&quot;], &quot;pipelines&quot;: [&quot;__default__&quot;], &quot;type&quot;: &quot;data&quot;, &quot;modular_pipelines&quot;: [&quot;ingestion&quot;], &quot;layer&quot;: null, &quot;dataset_type&quot;: null, &quot;stats&quot;: null}, {&quot;id&quot;: &quot;8de402c1&quot;, &quot;name&quot;: &quot;company_agg&quot;, &quot;tags&quot;: [], &quot;pipelines&quot;: [&quot;__default__&quot;], &quot;type&quot;: &quot;task&quot;, &quot;modular_pipelines&quot;: [&quot;ingestion&quot;], &quot;parameters&quot;: {}}, {&quot;id&quot;: &quot;8f20d98e&quot;, &quot;name&quot;: &quot;ingestion.prm_agg_companies&quot;, &quot;tags&quot;: [], &quot;pipelines&quot;: [&quot;__default__&quot;], &quot;type&quot;: &quot;data&quot;, &quot;modular_pipelines&quot;: [&quot;ingestion&quot;], &quot;layer&quot;: null, &quot;dataset_type&quot;: &quot;io.memory_dataset.MemoryDataset&quot;, &quot;stats&quot;: null}, {&quot;id&quot;: &quot;cb5166f3&quot;, &quot;name&quot;: &quot;combine_step&quot;, &quot;tags&quot;: [], &quot;pipelines&quot;: [&quot;__default__&quot;], &quot;type&quot;: &quot;task&quot;, &quot;modular_pipelines&quot;: [&quot;ingestion&quot;], &quot;parameters&quot;: {}}, {&quot;id&quot;: &quot;9f266f06&quot;, &quot;name&quot;: &quot;prm_shuttle_company_reviews&quot;, &quot;tags&quot;: [], &quot;pipelines&quot;: [&quot;__default__&quot;], &quot;type&quot;: &quot;data&quot;, &quot;modular_pipelines&quot;: [&quot;ingestion&quot;, &quot;reporting&quot;, &quot;feature_engineering&quot;], &quot;layer&quot;: null, &quot;dataset_type&quot;: &quot;io.memory_dataset.MemoryDataset&quot;, &quot;stats&quot;: null}, {&quot;id&quot;: &quot;f063cc82&quot;, &quot;name&quot;: &quot;prm_spine_table&quot;, &quot;tags&quot;: [], &quot;pipelines&quot;: [&quot;__default__&quot;], &quot;type&quot;: &quot;data&quot;, &quot;modular_pipelines&quot;: [&quot;ingestion&quot;, &quot;feature_engineering&quot;], &quot;layer&quot;: null, &quot;dataset_type&quot;: &quot;io.memory_dataset.MemoryDataset&quot;, &quot;stats&quot;: null}, {&quot;id&quot;: &quot;04ba733a&quot;, &quot;name&quot;: &quot;create_derived_features&quot;, &quot;tags&quot;: [], &quot;pipelines&quot;: [&quot;__default__&quot;], &quot;type&quot;: &quot;task&quot;, &quot;modular_pipelines&quot;: [&quot;feature_engineering&quot;], &quot;parameters&quot;: {&quot;feature_engineering.feature.derived&quot;: null}}, {&quot;id&quot;: &quot;abed6a4d&quot;, &quot;name&quot;: &quot;params:feature_engineering.feature.derived&quot;, &quot;tags&quot;: [], &quot;pipelines&quot;: [&quot;__default__&quot;], &quot;type&quot;: &quot;parameters&quot;, &quot;modular_pipelines&quot;: null, &quot;layer&quot;: null, &quot;dataset_type&quot;: null, &quot;stats&quot;: null}, {&quot;id&quot;: &quot;7c92a703&quot;, &quot;name&quot;: &quot;feature_engineering.feat_derived_features&quot;, &quot;tags&quot;: [], &quot;pipelines&quot;: [&quot;__default__&quot;], &quot;type&quot;: &quot;data&quot;, &quot;modular_pipelines&quot;: [&quot;feature_engineering&quot;], &quot;layer&quot;: null, &quot;dataset_type&quot;: &quot;io.memory_dataset.MemoryDataset&quot;, &quot;stats&quot;: null}, {&quot;id&quot;: &quot;7932e672&quot;, &quot;name&quot;: &quot;create_feature_importance&quot;, &quot;tags&quot;: [], &quot;pipelines&quot;: [&quot;__default__&quot;], &quot;type&quot;: &quot;task&quot;, &quot;modular_pipelines&quot;: [&quot;feature_engineering&quot;], &quot;parameters&quot;: {}}, {&quot;id&quot;: &quot;1e3cc50a&quot;, &quot;name&quot;: &quot;feature_importance_output&quot;, &quot;tags&quot;: [], &quot;pipelines&quot;: [&quot;__default__&quot;], &quot;type&quot;: &quot;data&quot;, &quot;modular_pipelines&quot;: [&quot;reporting&quot;, &quot;feature_engineering&quot;], &quot;layer&quot;: null, &quot;dataset_type&quot;: &quot;io.memory_dataset.MemoryDataset&quot;, &quot;stats&quot;: null}, {&quot;id&quot;: &quot;e50f81b8&quot;, &quot;name&quot;: &quot;create_static_features&quot;, &quot;tags&quot;: [], &quot;pipelines&quot;: [&quot;__default__&quot;], &quot;type&quot;: &quot;task&quot;, &quot;modular_pipelines&quot;: [&quot;feature_engineering&quot;], &quot;parameters&quot;: {&quot;feature_engineering.feature.static&quot;: null}}, {&quot;id&quot;: &quot;a3627e31&quot;, &quot;name&quot;: &quot;params:feature_engineering.feature.static&quot;, &quot;tags&quot;: [], &quot;pipelines&quot;: [&quot;__default__&quot;], &quot;type&quot;: &quot;parameters&quot;, &quot;modular_pipelines&quot;: null, &quot;layer&quot;: null, &quot;dataset_type&quot;: null, &quot;stats&quot;: null}, {&quot;id&quot;: &quot;8e4f1015&quot;, &quot;name&quot;: &quot;feature_engineering.feat_static_features&quot;, &quot;tags&quot;: [], &quot;pipelines&quot;: [&quot;__default__&quot;], &quot;type&quot;: &quot;data&quot;, &quot;modular_pipelines&quot;: [&quot;feature_engineering&quot;], &quot;layer&quot;: null, &quot;dataset_type&quot;: &quot;io.memory_dataset.MemoryDataset&quot;, &quot;stats&quot;: null}, {&quot;id&quot;: &quot;9a6ef457&quot;, &quot;name&quot;: &quot;<lambda>&quot;, &quot;tags&quot;: [], &quot;pipelines&quot;: [&quot;__default__&quot;], &quot;type&quot;: &quot;task&quot;, &quot;modular_pipelines&quot;: [&quot;ingestion&quot;], &quot;parameters&quot;: {}}, {&quot;id&quot;: &quot;c08c7708&quot;, &quot;name&quot;: &quot;ingestion.prm_spine_table_clone&quot;, &quot;tags&quot;: [], &quot;pipelines&quot;: [&quot;__default__&quot;], &quot;type&quot;: &quot;data&quot;, &quot;modular_pipelines&quot;: [&quot;ingestion&quot;], &quot;layer&quot;: null, &quot;dataset_type&quot;: &quot;io.memory_dataset.MemoryDataset&quot;, &quot;stats&quot;: null}, {&quot;id&quot;: &quot;be6b7919&quot;, &quot;name&quot;: &quot;create_matplotlib_chart&quot;, &quot;tags&quot;: [], &quot;pipelines&quot;: [&quot;__default__&quot;], &quot;type&quot;: &quot;task&quot;, &quot;modular_pipelines&quot;: [&quot;reporting&quot;], &quot;parameters&quot;: {}}, {&quot;id&quot;: &quot;3b199c6b&quot;, &quot;name&quot;: &quot;reporting.confusion_matrix&quot;, &quot;tags&quot;: [], &quot;pipelines&quot;: [&quot;__default__&quot;], &quot;type&quot;: &quot;data&quot;, &quot;modular_pipelines&quot;: [&quot;reporting&quot;], &quot;layer&quot;: null, &quot;dataset_type&quot;: &quot;io.memory_dataset.MemoryDataset&quot;, &quot;stats&quot;: null}, {&quot;id&quot;: &quot;44ef9b48&quot;, &quot;name&quot;: &quot;get_top_shuttles_data&quot;, &quot;tags&quot;: [], &quot;pipelines&quot;: [&quot;__default__&quot;], &quot;type&quot;: &quot;task&quot;, &quot;modular_pipelines&quot;: [&quot;reporting&quot;], &quot;parameters&quot;: {}}, {&quot;id&quot;: &quot;c0be8342&quot;, &quot;name&quot;: &quot;reporting.top_shuttle_data&quot;, &quot;tags&quot;: [], &quot;pipelines&quot;: [&quot;__default__&quot;], &quot;type&quot;: &quot;data&quot;, &quot;modular_pipelines&quot;: [&quot;reporting&quot;], &quot;layer&quot;: null, &quot;dataset_type&quot;: &quot;io.memory_dataset.MemoryDataset&quot;, &quot;stats&quot;: null}, {&quot;id&quot;: &quot;c7646ea1&quot;, &quot;name&quot;: &quot;make_cancel_policy_bar_chart&quot;, &quot;tags&quot;: [], &quot;pipelines&quot;: [&quot;__default__&quot;], &quot;type&quot;: &quot;task&quot;, &quot;modular_pipelines&quot;: [&quot;reporting&quot;], &quot;parameters&quot;: {}}, {&quot;id&quot;: &quot;d0e9b00f&quot;, &quot;name&quot;: &quot;reporting.cancellation_policy_breakdown&quot;, &quot;tags&quot;: [], &quot;pipelines&quot;: [&quot;__default__&quot;], &quot;type&quot;: &quot;data&quot;, &quot;modular_pipelines&quot;: [&quot;reporting&quot;], &quot;layer&quot;: null, &quot;dataset_type&quot;: &quot;io.memory_dataset.MemoryDataset&quot;, &quot;stats&quot;: null}, {&quot;id&quot;: &quot;3fb71518&quot;, &quot;name&quot;: &quot;make_price_analysis_image&quot;, &quot;tags&quot;: [], &quot;pipelines&quot;: [&quot;__default__&quot;], &quot;type&quot;: &quot;task&quot;, &quot;modular_pipelines&quot;: [&quot;reporting&quot;], &quot;parameters&quot;: {}}, {&quot;id&quot;: &quot;8838ca1f&quot;, &quot;name&quot;: &quot;reporting.cancellation_policy_grid&quot;, &quot;tags&quot;: [], &quot;pipelines&quot;: [&quot;__default__&quot;], &quot;type&quot;: &quot;data&quot;, &quot;modular_pipelines&quot;: [&quot;reporting&quot;], &quot;layer&quot;: null, &quot;dataset_type&quot;: &quot;io.memory_dataset.MemoryDataset&quot;, &quot;stats&quot;: null}, {&quot;id&quot;: &quot;40886786&quot;, &quot;name&quot;: &quot;make_price_histogram&quot;, &quot;tags&quot;: [], &quot;pipelines&quot;: [&quot;__default__&quot;], &quot;type&quot;: &quot;task&quot;, &quot;modular_pipelines&quot;: [&quot;reporting&quot;], &quot;parameters&quot;: {}}, {&quot;id&quot;: &quot;c6992660&quot;, &quot;name&quot;: &quot;reporting.price_histogram&quot;, &quot;tags&quot;: [], &quot;pipelines&quot;: [&quot;__default__&quot;], &quot;type&quot;: &quot;data&quot;, &quot;modular_pipelines&quot;: [&quot;reporting&quot;], &quot;layer&quot;: null, &quot;dataset_type&quot;: &quot;io.memory_dataset.MemoryDataset&quot;, &quot;stats&quot;: null}, {&quot;id&quot;: &quot;6ea2ec2c&quot;, &quot;name&quot;: &quot;joiner&quot;, &quot;tags&quot;: [], &quot;pipelines&quot;: [&quot;__default__&quot;], &quot;type&quot;: &quot;task&quot;, &quot;modular_pipelines&quot;: [&quot;feature_engineering&quot;], &quot;parameters&quot;: {}}, {&quot;id&quot;: &quot;23c94afb&quot;, &quot;name&quot;: &quot;model_input_table&quot;, &quot;tags&quot;: [], &quot;pipelines&quot;: [&quot;__default__&quot;], &quot;type&quot;: &quot;data&quot;, &quot;modular_pipelines&quot;: [&quot;feature_engineering&quot;], &quot;layer&quot;: null, &quot;dataset_type&quot;: &quot;io.memory_dataset.MemoryDataset&quot;, &quot;stats&quot;: null}, {&quot;id&quot;: &quot;4adb5c8b&quot;, &quot;name&quot;: &quot;create_feature_importance_plot&quot;, &quot;tags&quot;: [], &quot;pipelines&quot;: [&quot;__default__&quot;], &quot;type&quot;: &quot;task&quot;, &quot;modular_pipelines&quot;: [&quot;reporting&quot;], &quot;parameters&quot;: {}}, {&quot;id&quot;: &quot;eb7d6d28&quot;, &quot;name&quot;: &quot;reporting.feature_importance&quot;, &quot;tags&quot;: [], &quot;pipelines&quot;: [&quot;__default__&quot;], &quot;type&quot;: &quot;data&quot;, &quot;modular_pipelines&quot;: [&quot;reporting&quot;], &quot;layer&quot;: null, &quot;dataset_type&quot;: &quot;io.memory_dataset.MemoryDataset&quot;, &quot;stats&quot;: null}, {&quot;id&quot;: &quot;2816ba38&quot;, &quot;name&quot;: &quot;split_data&quot;, &quot;tags&quot;: [], &quot;pipelines&quot;: [&quot;__default__&quot;], &quot;type&quot;: &quot;task&quot;, &quot;modular_pipelines&quot;: null, &quot;parameters&quot;: {&quot;split_options&quot;: null}}, {&quot;id&quot;: &quot;22eec376&quot;, &quot;name&quot;: &quot;params:split_options&quot;, &quot;tags&quot;: [], &quot;pipelines&quot;: [&quot;__default__&quot;], &quot;type&quot;: &quot;parameters&quot;, &quot;modular_pipelines&quot;: null, &quot;layer&quot;: null, &quot;dataset_type&quot;: null, &quot;stats&quot;: null}, {&quot;id&quot;: &quot;cae2d1c7&quot;, &quot;name&quot;: &quot;X_train&quot;, &quot;tags&quot;: [&quot;train&quot;], &quot;pipelines&quot;: [&quot;__default__&quot;], &quot;type&quot;: &quot;data&quot;, &quot;modular_pipelines&quot;: [&quot;train_evaluation&quot;, &quot;train_evaluation.random_forest&quot;, &quot;train_evaluation.linear_regression&quot;], &quot;layer&quot;: null, &quot;dataset_type&quot;: &quot;io.memory_dataset.MemoryDataset&quot;, &quot;stats&quot;: null}, {&quot;id&quot;: &quot;872981f9&quot;, &quot;name&quot;: &quot;X_test&quot;, &quot;tags&quot;: [&quot;evaluate&quot;], &quot;pipelines&quot;: [&quot;__default__&quot;], &quot;type&quot;: &quot;data&quot;, &quot;modular_pipelines&quot;: [&quot;train_evaluation&quot;, &quot;train_evaluation.random_forest&quot;, &quot;train_evaluation.linear_regression&quot;], &quot;layer&quot;: null, &quot;dataset_type&quot;: &quot;io.memory_dataset.MemoryDataset&quot;, &quot;stats&quot;: null}, {&quot;id&quot;: &quot;9ca016a8&quot;, &quot;name&quot;: &quot;y_train&quot;, &quot;tags&quot;: [&quot;train&quot;], &quot;pipelines&quot;: [&quot;__default__&quot;], &quot;type&quot;: &quot;data&quot;, &quot;modular_pipelines&quot;: [&quot;train_evaluation&quot;, &quot;train_evaluation.random_forest&quot;, &quot;train_evaluation.linear_regression&quot;], &quot;layer&quot;: null, &quot;dataset_type&quot;: &quot;io.memory_dataset.MemoryDataset&quot;, &quot;stats&quot;: null}, {&quot;id&quot;: &quot;f6d9538c&quot;, &quot;name&quot;: &quot;y_test&quot;, &quot;tags&quot;: [&quot;evaluate&quot;], &quot;pipelines&quot;: [&quot;__default__&quot;], &quot;type&quot;: &quot;data&quot;, &quot;modular_pipelines&quot;: [&quot;train_evaluation&quot;, &quot;train_evaluation.random_forest&quot;, &quot;train_evaluation.linear_regression&quot;], &quot;layer&quot;: null, &quot;dataset_type&quot;: &quot;io.memory_dataset.MemoryDataset&quot;, &quot;stats&quot;: null}, {&quot;id&quot;: &quot;af9a43c8&quot;, &quot;name&quot;: &quot;train_model&quot;, &quot;tags&quot;: [&quot;train&quot;], &quot;pipelines&quot;: [&quot;__default__&quot;], &quot;type&quot;: &quot;task&quot;, &quot;modular_pipelines&quot;: [&quot;train_evaluation.linear_regression&quot;], &quot;parameters&quot;: {&quot;train_evaluation.model_options.linear_regression&quot;: null}}, {&quot;id&quot;: &quot;98eb115e&quot;, &quot;name&quot;: &quot;params:train_evaluation.model_options.linear_regression&quot;, &quot;tags&quot;: [&quot;train&quot;], &quot;pipelines&quot;: [&quot;__default__&quot;], &quot;type&quot;: &quot;parameters&quot;, &quot;modular_pipelines&quot;: null, &quot;layer&quot;: null, &quot;dataset_type&quot;: null, &quot;stats&quot;: null}, {&quot;id&quot;: &quot;10e51dea&quot;, &quot;name&quot;: &quot;train_evaluation.linear_regression.regressor&quot;, &quot;tags&quot;: [&quot;evaluate&quot;, &quot;train&quot;], &quot;pipelines&quot;: [&quot;__default__&quot;], &quot;type&quot;: &quot;data&quot;, &quot;modular_pipelines&quot;: [&quot;train_evaluation.linear_regression&quot;], &quot;layer&quot;: null, &quot;dataset_type&quot;: &quot;io.memory_dataset.MemoryDataset&quot;, &quot;stats&quot;: null}, {&quot;id&quot;: &quot;b701864d&quot;, &quot;name&quot;: &quot;train_evaluation.linear_regression.experiment_params&quot;, &quot;tags&quot;: [&quot;train&quot;], &quot;pipelines&quot;: [&quot;__default__&quot;], &quot;type&quot;: &quot;data&quot;, &quot;modular_pipelines&quot;: [&quot;train_evaluation&quot;, &quot;train_evaluation.linear_regression&quot;], &quot;layer&quot;: null, &quot;dataset_type&quot;: &quot;io.memory_dataset.MemoryDataset&quot;, &quot;stats&quot;: null}, {&quot;id&quot;: &quot;038647c7&quot;, &quot;name&quot;: &quot;train_model&quot;, &quot;tags&quot;: [&quot;train&quot;], &quot;pipelines&quot;: [&quot;__default__&quot;], &quot;type&quot;: &quot;task&quot;, &quot;modular_pipelines&quot;: [&quot;train_evaluation.random_forest&quot;], &quot;parameters&quot;: {&quot;train_evaluation.model_options.random_forest&quot;: null}}, {&quot;id&quot;: &quot;72baf5c6&quot;, &quot;name&quot;: &quot;params:train_evaluation.model_options.random_forest&quot;, &quot;tags&quot;: [&quot;train&quot;], &quot;pipelines&quot;: [&quot;__default__&quot;], &quot;type&quot;: &quot;parameters&quot;, &quot;modular_pipelines&quot;: null, &quot;layer&quot;: null, &quot;dataset_type&quot;: null, &quot;stats&quot;: null}, {&quot;id&quot;: &quot;01675921&quot;, &quot;name&quot;: &quot;train_evaluation.random_forest.regressor&quot;, &quot;tags&quot;: [&quot;evaluate&quot;, &quot;train&quot;], &quot;pipelines&quot;: [&quot;__default__&quot;], &quot;type&quot;: &quot;data&quot;, &quot;modular_pipelines&quot;: [&quot;train_evaluation.random_forest&quot;], &quot;layer&quot;: null, &quot;dataset_type&quot;: &quot;io.memory_dataset.MemoryDataset&quot;, &quot;stats&quot;: null}, {&quot;id&quot;: &quot;4f79de77&quot;, &quot;name&quot;: &quot;train_evaluation.random_forest.experiment_params&quot;, &quot;tags&quot;: [&quot;train&quot;], &quot;pipelines&quot;: [&quot;__default__&quot;], &quot;type&quot;: &quot;data&quot;, &quot;modular_pipelines&quot;: [&quot;train_evaluation&quot;, &quot;train_evaluation.random_forest&quot;], &quot;layer&quot;: null, &quot;dataset_type&quot;: &quot;io.memory_dataset.MemoryDataset&quot;, &quot;stats&quot;: null}, {&quot;id&quot;: &quot;d2885635&quot;, &quot;name&quot;: &quot;evaluate_model&quot;, &quot;tags&quot;: [&quot;evaluate&quot;], &quot;pipelines&quot;: [&quot;__default__&quot;], &quot;type&quot;: &quot;task&quot;, &quot;modular_pipelines&quot;: [&quot;train_evaluation.linear_regression&quot;], &quot;parameters&quot;: {}}, {&quot;id&quot;: &quot;495a0bbc&quot;, &quot;name&quot;: &quot;train_evaluation.linear_regression.r2_score&quot;, &quot;tags&quot;: [&quot;evaluate&quot;], &quot;pipelines&quot;: [&quot;__default__&quot;], &quot;type&quot;: &quot;data&quot;, &quot;modular_pipelines&quot;: [&quot;train_evaluation&quot;, &quot;train_evaluation.linear_regression&quot;], &quot;layer&quot;: null, &quot;dataset_type&quot;: &quot;io.memory_dataset.MemoryDataset&quot;, &quot;stats&quot;: null}, {&quot;id&quot;: &quot;bf8530bc&quot;, &quot;name&quot;: &quot;evaluate_model&quot;, &quot;tags&quot;: [&quot;evaluate&quot;], &quot;pipelines&quot;: [&quot;__default__&quot;], &quot;type&quot;: &quot;task&quot;, &quot;modular_pipelines&quot;: [&quot;train_evaluation.random_forest&quot;], &quot;parameters&quot;: {}}, {&quot;id&quot;: &quot;b16095d0&quot;, &quot;name&quot;: &quot;train_evaluation.random_forest.r2_score&quot;, &quot;tags&quot;: [&quot;evaluate&quot;], &quot;pipelines&quot;: [&quot;__default__&quot;], &quot;type&quot;: &quot;data&quot;, &quot;modular_pipelines&quot;: [&quot;train_evaluation&quot;, &quot;train_evaluation.random_forest&quot;], &quot;layer&quot;: null, &quot;dataset_type&quot;: &quot;io.memory_dataset.MemoryDataset&quot;, &quot;stats&quot;: null}, {&quot;id&quot;: &quot;feature_engineering&quot;, &quot;name&quot;: &quot;feature_engineering&quot;, &quot;tags&quot;: [], &quot;pipelines&quot;: [&quot;__default__&quot;], &quot;type&quot;: &quot;modularPipeline&quot;, &quot;modular_pipelines&quot;: null, &quot;layer&quot;: null, &quot;dataset_type&quot;: null, &quot;stats&quot;: null}, {&quot;id&quot;: &quot;ingestion&quot;, &quot;name&quot;: &quot;ingestion&quot;, &quot;tags&quot;: [&quot;companies&quot;, &quot;shuttles&quot;], &quot;pipelines&quot;: [&quot;__default__&quot;], &quot;type&quot;: &quot;modularPipeline&quot;, &quot;modular_pipelines&quot;: null, &quot;layer&quot;: null, &quot;dataset_type&quot;: null, &quot;stats&quot;: null}, {&quot;id&quot;: &quot;reporting&quot;, &quot;name&quot;: &quot;reporting&quot;, &quot;tags&quot;: [], &quot;pipelines&quot;: [&quot;__default__&quot;], &quot;type&quot;: &quot;modularPipeline&quot;, &quot;modular_pipelines&quot;: null, &quot;layer&quot;: null, &quot;dataset_type&quot;: null, &quot;stats&quot;: null}, {&quot;id&quot;: &quot;train_evaluation&quot;, &quot;name&quot;: &quot;train_evaluation&quot;, &quot;tags&quot;: [&quot;evaluate&quot;, &quot;train&quot;], &quot;pipelines&quot;: [&quot;__default__&quot;], &quot;type&quot;: &quot;modularPipeline&quot;, &quot;modular_pipelines&quot;: null, &quot;layer&quot;: null, &quot;dataset_type&quot;: null, &quot;stats&quot;: null}, {&quot;id&quot;: &quot;train_evaluation.linear_regression&quot;, &quot;name&quot;: &quot;train_evaluation.linear_regression&quot;, &quot;tags&quot;: [&quot;evaluate&quot;, &quot;train&quot;], &quot;pipelines&quot;: [&quot;__default__&quot;], &quot;type&quot;: &quot;modularPipeline&quot;, &quot;modular_pipelines&quot;: null, &quot;layer&quot;: null, &quot;dataset_type&quot;: null, &quot;stats&quot;: null}, {&quot;id&quot;: &quot;train_evaluation.random_forest&quot;, &quot;name&quot;: &quot;train_evaluation.random_forest&quot;, &quot;tags&quot;: [&quot;evaluate&quot;, &quot;train&quot;], &quot;pipelines&quot;: [&quot;__default__&quot;], &quot;type&quot;: &quot;modularPipeline&quot;, &quot;modular_pipelines&quot;: null, &quot;layer&quot;: null, &quot;dataset_type&quot;: null, &quot;stats&quot;: null}], &quot;edges&quot;: [{&quot;source&quot;: &quot;1e3cc50a&quot;, &quot;target&quot;: &quot;reporting&quot;}, {&quot;source&quot;: &quot;72baf5c6&quot;, &quot;target&quot;: &quot;train_evaluation.random_forest&quot;}, {&quot;source&quot;: &quot;cae2d1c7&quot;, &quot;target&quot;: &quot;af9a43c8&quot;}, {&quot;source&quot;: &quot;reporting&quot;, &quot;target&quot;: &quot;3b199c6b&quot;}, {&quot;source&quot;: &quot;8f20d98e&quot;, &quot;target&quot;: &quot;cb5166f3&quot;}, {&quot;source&quot;: &quot;7932e672&quot;, &quot;target&quot;: &quot;1e3cc50a&quot;}, {&quot;source&quot;: &quot;9ca016a8&quot;, &quot;target&quot;: &quot;train_evaluation.random_forest&quot;}, {&quot;source&quot;: &quot;f6d9538c&quot;, &quot;target&quot;: &quot;train_evaluation.linear_regression&quot;}, {&quot;source&quot;: &quot;872981f9&quot;, &quot;target&quot;: &quot;train_evaluation.linear_regression&quot;}, {&quot;source&quot;: &quot;train_evaluation.random_forest&quot;, &quot;target&quot;: &quot;b16095d0&quot;}, {&quot;source&quot;: &quot;038647c7&quot;, &quot;target&quot;: &quot;4f79de77&quot;}, {&quot;source&quot;: &quot;cae2d1c7&quot;, &quot;target&quot;: &quot;train_evaluation.linear_regression&quot;}, {&quot;source&quot;: &quot;9ca016a8&quot;, &quot;target&quot;: &quot;af9a43c8&quot;}, {&quot;source&quot;: &quot;44ef9b48&quot;, &quot;target&quot;: &quot;c0be8342&quot;}, {&quot;source&quot;: &quot;reporting&quot;, &quot;target&quot;: &quot;d0e9b00f&quot;}, {&quot;source&quot;: &quot;98eb115e&quot;, &quot;target&quot;: &quot;train_evaluation.linear_regression&quot;}, {&quot;source&quot;: &quot;bf8530bc&quot;, &quot;target&quot;: &quot;b16095d0&quot;}, {&quot;source&quot;: &quot;a3627e31&quot;, &quot;target&quot;: &quot;feature_engineering&quot;}, {&quot;source&quot;: &quot;22eec376&quot;, &quot;target&quot;: &quot;2816ba38&quot;}, {&quot;source&quot;: &quot;9ca016a8&quot;, &quot;target&quot;: &quot;train_evaluation.linear_regression&quot;}, {&quot;source&quot;: &quot;9f266f06&quot;, &quot;target&quot;: &quot;feature_engineering&quot;}, {&quot;source&quot;: &quot;feature_engineering&quot;, &quot;target&quot;: &quot;23c94afb&quot;}, {&quot;source&quot;: &quot;9f266f06&quot;, &quot;target&quot;: &quot;44ef9b48&quot;}, {&quot;source&quot;: &quot;ingestion&quot;, &quot;target&quot;: &quot;9f266f06&quot;}, {&quot;source&quot;: &quot;2816ba38&quot;, &quot;target&quot;: &quot;872981f9&quot;}, {&quot;source&quot;: &quot;abed6a4d&quot;, &quot;target&quot;: &quot;04ba733a&quot;}, {&quot;source&quot;: &quot;c0ddbcbf&quot;, &quot;target&quot;: &quot;cb5166f3&quot;}, {&quot;source&quot;: &quot;23c94afb&quot;, &quot;target&quot;: &quot;2816ba38&quot;}, {&quot;source&quot;: &quot;a3627e31&quot;, &quot;target&quot;: &quot;e50f81b8&quot;}, {&quot;source&quot;: &quot;8e4f1015&quot;, &quot;target&quot;: &quot;6ea2ec2c&quot;}, {&quot;source&quot;: &quot;9f266f06&quot;, &quot;target&quot;: &quot;3fb71518&quot;}, {&quot;source&quot;: &quot;train_evaluation.linear_regression&quot;, &quot;target&quot;: &quot;b701864d&quot;}, {&quot;source&quot;: &quot;9f266f06&quot;, &quot;target&quot;: &quot;be6b7919&quot;}, {&quot;source&quot;: &quot;b5609df0&quot;, &quot;target&quot;: &quot;ingestion&quot;}, {&quot;source&quot;: &quot;3fb71518&quot;, &quot;target&quot;: &quot;8838ca1f&quot;}, {&quot;source&quot;: &quot;c7646ea1&quot;, &quot;target&quot;: &quot;d0e9b00f&quot;}, {&quot;source&quot;: &quot;872981f9&quot;, &quot;target&quot;: &quot;train_evaluation&quot;}, {&quot;source&quot;: &quot;98eb115e&quot;, &quot;target&quot;: &quot;af9a43c8&quot;}, {&quot;source&quot;: &quot;cae2d1c7&quot;, &quot;target&quot;: &quot;train_evaluation&quot;}, {&quot;source&quot;: &quot;4adb5c8b&quot;, &quot;target&quot;: &quot;eb7d6d28&quot;}, {&quot;source&quot;: &quot;4f7ffa1b&quot;, &quot;target&quot;: &quot;cb5166f3&quot;}, {&quot;source&quot;: &quot;ingestion&quot;, &quot;target&quot;: &quot;f063cc82&quot;}, {&quot;source&quot;: &quot;b5609df0&quot;, &quot;target&quot;: &quot;ea604da4&quot;}, {&quot;source&quot;: &quot;872981f9&quot;, &quot;target&quot;: &quot;bf8530bc&quot;}, {&quot;source&quot;: &quot;1e3cc50a&quot;, &quot;target&quot;: &quot;4adb5c8b&quot;}, {&quot;source&quot;: &quot;cae2d1c7&quot;, &quot;target&quot;: &quot;038647c7&quot;}, {&quot;source&quot;: &quot;2816ba38&quot;, &quot;target&quot;: &quot;9ca016a8&quot;}, {&quot;source&quot;: &quot;9ca016a8&quot;, &quot;target&quot;: &quot;train_evaluation&quot;}, {&quot;source&quot;: &quot;train_evaluation&quot;, &quot;target&quot;: &quot;4f79de77&quot;}, {&quot;source&quot;: &quot;af9a43c8&quot;, &quot;target&quot;: &quot;b701864d&quot;}, {&quot;source&quot;: &quot;train_evaluation&quot;, &quot;target&quot;: &quot;b701864d&quot;}, {&quot;source&quot;: &quot;e50f81b8&quot;, &quot;target&quot;: &quot;8e4f1015&quot;}, {&quot;source&quot;: &quot;f1d596c2&quot;, &quot;target&quot;: &quot;f33b9291&quot;}, {&quot;source&quot;: &quot;f063cc82&quot;, &quot;target&quot;: &quot;7932e672&quot;}, {&quot;source&quot;: &quot;9f266f06&quot;, &quot;target&quot;: &quot;e50f81b8&quot;}, {&quot;source&quot;: &quot;cb5166f3&quot;, &quot;target&quot;: &quot;9f266f06&quot;}, {&quot;source&quot;: &quot;abed6a4d&quot;, &quot;target&quot;: &quot;feature_engineering&quot;}, {&quot;source&quot;: &quot;reporting&quot;, &quot;target&quot;: &quot;eb7d6d28&quot;}, {&quot;source&quot;: &quot;f6d9538c&quot;, &quot;target&quot;: &quot;train_evaluation&quot;}, {&quot;source&quot;: &quot;872981f9&quot;, &quot;target&quot;: &quot;d2885635&quot;}, {&quot;source&quot;: &quot;f063cc82&quot;, &quot;target&quot;: &quot;04ba733a&quot;}, {&quot;source&quot;: &quot;train_evaluation.linear_regression&quot;, &quot;target&quot;: &quot;495a0bbc&quot;}, {&quot;source&quot;: &quot;reporting&quot;, &quot;target&quot;: &quot;8838ca1f&quot;}, {&quot;source&quot;: &quot;reporting&quot;, &quot;target&quot;: &quot;c6992660&quot;}, {&quot;source&quot;: &quot;72baf5c6&quot;, &quot;target&quot;: &quot;train_evaluation&quot;}, {&quot;source&quot;: &quot;f6d9538c&quot;, &quot;target&quot;: &quot;bf8530bc&quot;}, {&quot;source&quot;: &quot;98eb115e&quot;, &quot;target&quot;: &quot;train_evaluation&quot;}, {&quot;source&quot;: &quot;8de402c1&quot;, &quot;target&quot;: &quot;8f20d98e&quot;}, {&quot;source&quot;: &quot;9a6ef457&quot;, &quot;target&quot;: &quot;c08c7708&quot;}, {&quot;source&quot;: &quot;2816ba38&quot;, &quot;target&quot;: &quot;cae2d1c7&quot;}, {&quot;source&quot;: &quot;7b2c6e04&quot;, &quot;target&quot;: &quot;ea604da4&quot;}, {&quot;source&quot;: &quot;aed46479&quot;, &quot;target&quot;: &quot;ingestion&quot;}, {&quot;source&quot;: &quot;72baf5c6&quot;, &quot;target&quot;: &quot;038647c7&quot;}, {&quot;source&quot;: &quot;872981f9&quot;, &quot;target&quot;: &quot;train_evaluation.random_forest&quot;}, {&quot;source&quot;: &quot;cae2d1c7&quot;, &quot;target&quot;: &quot;train_evaluation.random_forest&quot;}, {&quot;source&quot;: &quot;6ea2ec2c&quot;, &quot;target&quot;: &quot;23c94afb&quot;}, {&quot;source&quot;: &quot;cb5166f3&quot;, &quot;target&quot;: &quot;f063cc82&quot;}, {&quot;source&quot;: &quot;f23ad217&quot;, &quot;target&quot;: &quot;8de402c1&quot;}, {&quot;source&quot;: &quot;9ca016a8&quot;, &quot;target&quot;: &quot;038647c7&quot;}, {&quot;source&quot;: &quot;train_evaluation.random_forest&quot;, &quot;target&quot;: &quot;4f79de77&quot;}, {&quot;source&quot;: &quot;ea604da4&quot;, &quot;target&quot;: &quot;4f7ffa1b&quot;}, {&quot;source&quot;: &quot;train_evaluation&quot;, &quot;target&quot;: &quot;b16095d0&quot;}, {&quot;source&quot;: &quot;f063cc82&quot;, &quot;target&quot;: &quot;9a6ef457&quot;}, {&quot;source&quot;: &quot;be6b7919&quot;, &quot;target&quot;: &quot;3b199c6b&quot;}, {&quot;source&quot;: &quot;9f266f06&quot;, &quot;target&quot;: &quot;40886786&quot;}, {&quot;source&quot;: &quot;aed46479&quot;, &quot;target&quot;: &quot;69c523b6&quot;}, {&quot;source&quot;: &quot;feature_engineering&quot;, &quot;target&quot;: &quot;1e3cc50a&quot;}, {&quot;source&quot;: &quot;038647c7&quot;, &quot;target&quot;: &quot;01675921&quot;}, {&quot;source&quot;: &quot;f063cc82&quot;, &quot;target&quot;: &quot;6ea2ec2c&quot;}, {&quot;source&quot;: &quot;train_evaluation&quot;, &quot;target&quot;: &quot;495a0bbc&quot;}, {&quot;source&quot;: &quot;9f266f06&quot;, &quot;target&quot;: &quot;04ba733a&quot;}, {&quot;source&quot;: &quot;d2885635&quot;, &quot;target&quot;: &quot;495a0bbc&quot;}, {&quot;source&quot;: &quot;10e51dea&quot;, &quot;target&quot;: &quot;d2885635&quot;}, {&quot;source&quot;: &quot;f6d9538c&quot;, &quot;target&quot;: &quot;d2885635&quot;}, {&quot;source&quot;: &quot;7b2c6e04&quot;, &quot;target&quot;: &quot;ingestion&quot;}, {&quot;source&quot;: &quot;7c92a703&quot;, &quot;target&quot;: &quot;6ea2ec2c&quot;}, {&quot;source&quot;: &quot;9f266f06&quot;, &quot;target&quot;: &quot;reporting&quot;}, {&quot;source&quot;: &quot;reporting&quot;, &quot;target&quot;: &quot;c0be8342&quot;}, {&quot;source&quot;: &quot;01675921&quot;, &quot;target&quot;: &quot;bf8530bc&quot;}, {&quot;source&quot;: &quot;ingestion&quot;, &quot;target&quot;: &quot;c08c7708&quot;}, {&quot;source&quot;: &quot;40886786&quot;, &quot;target&quot;: &quot;c6992660&quot;}, {&quot;source&quot;: &quot;af9a43c8&quot;, &quot;target&quot;: &quot;10e51dea&quot;}, {&quot;source&quot;: &quot;f1d596c2&quot;, &quot;target&quot;: &quot;ingestion&quot;}, {&quot;source&quot;: &quot;69c523b6&quot;, &quot;target&quot;: &quot;f23ad217&quot;}, {&quot;source&quot;: &quot;04ba733a&quot;, &quot;target&quot;: &quot;7c92a703&quot;}, {&quot;source&quot;: &quot;2816ba38&quot;, &quot;target&quot;: &quot;f6d9538c&quot;}, {&quot;source&quot;: &quot;f063cc82&quot;, &quot;target&quot;: &quot;feature_engineering&quot;}, {&quot;source&quot;: &quot;9f266f06&quot;, &quot;target&quot;: &quot;c7646ea1&quot;}, {&quot;source&quot;: &quot;f6d9538c&quot;, &quot;target&quot;: &quot;train_evaluation.random_forest&quot;}, {&quot;source&quot;: &quot;f33b9291&quot;, &quot;target&quot;: &quot;c0ddbcbf&quot;}], &quot;layers&quot;: [], &quot;tags&quot;: [{&quot;id&quot;: &quot;companies&quot;, &quot;name&quot;: &quot;companies&quot;}, {&quot;id&quot;: &quot;evaluate&quot;, &quot;name&quot;: &quot;evaluate&quot;}, {&quot;id&quot;: &quot;shuttles&quot;, &quot;name&quot;: &quot;shuttles&quot;}, {&quot;id&quot;: &quot;train&quot;, &quot;name&quot;: &quot;train&quot;}], &quot;pipelines&quot;: [{&quot;id&quot;: &quot;__default__&quot;, &quot;name&quot;: &quot;__default__&quot;}], &quot;modular_pipelines&quot;: {&quot;__root__&quot;: {&quot;id&quot;: &quot;__root__&quot;, &quot;name&quot;: &quot;__root__&quot;, &quot;inputs&quot;: [], &quot;outputs&quot;: [], &quot;children&quot;: [{&quot;id&quot;: &quot;b701864d&quot;, &quot;type&quot;: &quot;data&quot;}, {&quot;id&quot;: &quot;4f79de77&quot;, &quot;type&quot;: &quot;data&quot;}, {&quot;id&quot;: &quot;9f266f06&quot;, &quot;type&quot;: &quot;data&quot;}, {&quot;id&quot;: &quot;c6992660&quot;, &quot;type&quot;: &quot;data&quot;}, {&quot;id&quot;: &quot;9ca016a8&quot;, &quot;type&quot;: &quot;data&quot;}, {&quot;id&quot;: &quot;ingestion&quot;, &quot;type&quot;: &quot;modularPipeline&quot;}, {&quot;id&quot;: &quot;f063cc82&quot;, &quot;type&quot;: &quot;data&quot;}, {&quot;id&quot;: &quot;495a0bbc&quot;, &quot;type&quot;: &quot;data&quot;}, {&quot;id&quot;: &quot;b16095d0&quot;, &quot;type&quot;: &quot;data&quot;}, {&quot;id&quot;: &quot;eb7d6d28&quot;, &quot;type&quot;: &quot;data&quot;}, {&quot;id&quot;: &quot;abed6a4d&quot;, &quot;type&quot;: &quot;parameters&quot;}, {&quot;id&quot;: &quot;8838ca1f&quot;, &quot;type&quot;: &quot;data&quot;}, {&quot;id&quot;: &quot;train_evaluation&quot;, &quot;type&quot;: &quot;modularPipeline&quot;}, {&quot;id&quot;: &quot;22eec376&quot;, &quot;type&quot;: &quot;parameters&quot;}, {&quot;id&quot;: &quot;d0e9b00f&quot;, &quot;type&quot;: &quot;data&quot;}, {&quot;id&quot;: &quot;3b199c6b&quot;, &quot;type&quot;: &quot;data&quot;}, {&quot;id&quot;: &quot;a3627e31&quot;, &quot;type&quot;: &quot;parameters&quot;}, {&quot;id&quot;: &quot;1e3cc50a&quot;, &quot;type&quot;: &quot;data&quot;}, {&quot;id&quot;: &quot;feature_engineering&quot;, &quot;type&quot;: &quot;modularPipeline&quot;}, {&quot;id&quot;: &quot;c0be8342&quot;, &quot;type&quot;: &quot;data&quot;}, {&quot;id&quot;: &quot;7b2c6e04&quot;, &quot;type&quot;: &quot;data&quot;}, {&quot;id&quot;: &quot;72baf5c6&quot;, &quot;type&quot;: &quot;parameters&quot;}, {&quot;id&quot;: &quot;98eb115e&quot;, &quot;type&quot;: &quot;parameters&quot;}, {&quot;id&quot;: &quot;22eec376&quot;, &quot;type&quot;: &quot;data&quot;}, {&quot;id&quot;: &quot;872981f9&quot;, &quot;type&quot;: &quot;data&quot;}, {&quot;id&quot;: &quot;f6d9538c&quot;, &quot;type&quot;: &quot;data&quot;}, {&quot;id&quot;: &quot;reporting&quot;, &quot;type&quot;: &quot;modularPipeline&quot;}, {&quot;id&quot;: &quot;cae2d1c7&quot;, &quot;type&quot;: &quot;data&quot;}, {&quot;id&quot;: &quot;f1d596c2&quot;, &quot;type&quot;: &quot;data&quot;}, {&quot;id&quot;: &quot;2816ba38&quot;, &quot;type&quot;: &quot;task&quot;}, {&quot;id&quot;: &quot;c08c7708&quot;, &quot;type&quot;: &quot;data&quot;}, {&quot;id&quot;: &quot;23c94afb&quot;, &quot;type&quot;: &quot;data&quot;}, {&quot;id&quot;: &quot;aed46479&quot;, &quot;type&quot;: &quot;data&quot;}, {&quot;id&quot;: &quot;b5609df0&quot;, &quot;type&quot;: &quot;parameters&quot;}]}, &quot;feature_engineering&quot;: {&quot;id&quot;: &quot;feature_engineering&quot;, &quot;name&quot;: &quot;feature_engineering&quot;, &quot;inputs&quot;: [&quot;9f266f06&quot;, &quot;a3627e31&quot;, &quot;abed6a4d&quot;, &quot;f063cc82&quot;], &quot;outputs&quot;: [&quot;1e3cc50a&quot;, &quot;23c94afb&quot;], &quot;children&quot;: [{&quot;id&quot;: &quot;8e4f1015&quot;, &quot;type&quot;: &quot;data&quot;}, {&quot;id&quot;: &quot;7c92a703&quot;, &quot;type&quot;: &quot;data&quot;}, {&quot;id&quot;: &quot;6ea2ec2c&quot;, &quot;type&quot;: &quot;task&quot;}, {&quot;id&quot;: &quot;04ba733a&quot;, &quot;type&quot;: &quot;task&quot;}, {&quot;id&quot;: &quot;e50f81b8&quot;, &quot;type&quot;: &quot;task&quot;}, {&quot;id&quot;: &quot;7932e672&quot;, &quot;type&quot;: &quot;task&quot;}]}, &quot;ingestion&quot;: {&quot;id&quot;: &quot;ingestion&quot;, &quot;name&quot;: &quot;ingestion&quot;, &quot;inputs&quot;: [&quot;b5609df0&quot;, &quot;7b2c6e04&quot;, &quot;aed46479&quot;, &quot;f1d596c2&quot;], &quot;outputs&quot;: [&quot;9f266f06&quot;, &quot;f063cc82&quot;, &quot;c08c7708&quot;], &quot;children&quot;: [{&quot;id&quot;: &quot;cb5166f3&quot;, &quot;type&quot;: &quot;task&quot;}, {&quot;id&quot;: &quot;4f7ffa1b&quot;, &quot;type&quot;: &quot;data&quot;}, {&quot;id&quot;: &quot;f33b9291&quot;, &quot;type&quot;: &quot;task&quot;}, {&quot;id&quot;: &quot;f23ad217&quot;, &quot;type&quot;: &quot;data&quot;}, {&quot;id&quot;: &quot;8de402c1&quot;, &quot;type&quot;: &quot;task&quot;}, {&quot;id&quot;: &quot;69c523b6&quot;, &quot;type&quot;: &quot;task&quot;}, {&quot;id&quot;: &quot;ea604da4&quot;, &quot;type&quot;: &quot;task&quot;}, {&quot;id&quot;: &quot;8f20d98e&quot;, &quot;type&quot;: &quot;data&quot;}, {&quot;id&quot;: &quot;9a6ef457&quot;, &quot;type&quot;: &quot;task&quot;}, {&quot;id&quot;: &quot;c0ddbcbf&quot;, &quot;type&quot;: &quot;data&quot;}]}, &quot;reporting&quot;: {&quot;id&quot;: &quot;reporting&quot;, &quot;name&quot;: &quot;reporting&quot;, &quot;inputs&quot;: [&quot;1e3cc50a&quot;, &quot;9f266f06&quot;], &quot;outputs&quot;: [&quot;c6992660&quot;, &quot;3b199c6b&quot;, &quot;eb7d6d28&quot;, &quot;c0be8342&quot;, &quot;d0e9b00f&quot;, &quot;8838ca1f&quot;], &quot;children&quot;: [{&quot;id&quot;: &quot;4adb5c8b&quot;, &quot;type&quot;: &quot;task&quot;}, {&quot;id&quot;: &quot;40886786&quot;, &quot;type&quot;: &quot;task&quot;}, {&quot;id&quot;: &quot;44ef9b48&quot;, &quot;type&quot;: &quot;task&quot;}, {&quot;id&quot;: &quot;3fb71518&quot;, &quot;type&quot;: &quot;task&quot;}, {&quot;id&quot;: &quot;be6b7919&quot;, &quot;type&quot;: &quot;task&quot;}, {&quot;id&quot;: &quot;c7646ea1&quot;, &quot;type&quot;: &quot;task&quot;}]}, &quot;train_evaluation&quot;: {&quot;id&quot;: &quot;train_evaluation&quot;, &quot;name&quot;: &quot;train_evaluation&quot;, &quot;inputs&quot;: [&quot;72baf5c6&quot;, &quot;cae2d1c7&quot;, &quot;872981f9&quot;, &quot;f6d9538c&quot;, &quot;9ca016a8&quot;, &quot;98eb115e&quot;], &quot;outputs&quot;: [&quot;b16095d0&quot;, &quot;4f79de77&quot;, &quot;495a0bbc&quot;, &quot;b701864d&quot;], &quot;children&quot;: [{&quot;id&quot;: &quot;train_evaluation.linear_regression&quot;, &quot;type&quot;: &quot;modularPipeline&quot;}, {&quot;id&quot;: &quot;train_evaluation.random_forest&quot;, &quot;type&quot;: &quot;modularPipeline&quot;}]}, &quot;train_evaluation.linear_regression&quot;: {&quot;id&quot;: &quot;train_evaluation.linear_regression&quot;, &quot;name&quot;: &quot;train_evaluation.linear_regression&quot;, &quot;inputs&quot;: [&quot;cae2d1c7&quot;, &quot;872981f9&quot;, &quot;f6d9538c&quot;, &quot;9ca016a8&quot;, &quot;98eb115e&quot;], &quot;outputs&quot;: [&quot;495a0bbc&quot;, &quot;b701864d&quot;], &quot;children&quot;: [{&quot;id&quot;: &quot;d2885635&quot;, &quot;type&quot;: &quot;task&quot;}, {&quot;id&quot;: &quot;af9a43c8&quot;, &quot;type&quot;: &quot;task&quot;}, {&quot;id&quot;: &quot;10e51dea&quot;, &quot;type&quot;: &quot;data&quot;}]}, &quot;train_evaluation.random_forest&quot;: {&quot;id&quot;: &quot;train_evaluation.random_forest&quot;, &quot;name&quot;: &quot;train_evaluation.random_forest&quot;, &quot;inputs&quot;: [&quot;72baf5c6&quot;, &quot;cae2d1c7&quot;, &quot;872981f9&quot;, &quot;f6d9538c&quot;, &quot;9ca016a8&quot;], &quot;outputs&quot;: [&quot;4f79de77&quot;, &quot;b16095d0&quot;], &quot;children&quot;: [{&quot;id&quot;: &quot;bf8530bc&quot;, &quot;type&quot;: &quot;task&quot;}, {&quot;id&quot;: &quot;038647c7&quot;, &quot;type&quot;: &quot;task&quot;}, {&quot;id&quot;: &quot;01675921&quot;, &quot;type&quot;: &quot;data&quot;}]}}, &quot;selected_pipeline&quot;: &quot;__default__&quot;},\n",
       "                                    options: {&quot;display&quot;: {&quot;expandPipelinesBtn&quot;: false, &quot;exportBtn&quot;: false, &quot;globalNavigation&quot;: false, &quot;labelBtn&quot;: false, &quot;layerBtn&quot;: false, &quot;metadataPanel&quot;: true, &quot;miniMap&quot;: false, &quot;sidebar&quot;: false, &quot;zoomToolbar&quot;: false}, &quot;expandAllPipelines&quot;: false, &quot;behaviour&quot;: {&quot;reFocus&quot;: false}, &quot;theme&quot;: &quot;dark&quot;}\n",
       "                                })\n",
       "                            );\n",
       "                        }\n",
       "                    } else if (retries < maxRetries) {\n",
       "                        setTimeout(() => waitForBundle(maxRetries, retries + 1), 10);  // Retry every 10ms\n",
       "                    } else {\n",
       "                        console.error(&quot;Failed to load KedroVizBundle after 500ms&quot;);\n",
       "                    }\n",
       "            })();\n",
       "            </script>\n",
       "        </body>\n",
       "        </html>\"  style=\"width:100%; height:600px; border:none;\" sandbox=\"allow-scripts\"></iframe>"
      ],
      "text/plain": [
       "\u001b[1m<\u001b[0m\u001b[1;95mIPython.core.display.HTML\u001b[0m\u001b[39m object\u001b[0m\u001b[1m>\u001b[0m"
      ]
     },
     "metadata": {},
     "output_type": "display_data"
    }
   ],
   "source": [
    "NotebookVisualizer().show(pipeline=demo_pipe, options={ \"display\": {\n",
    "                \"expandPipelinesBtn\": False,\n",
    "                \"exportBtn\": False,\n",
    "                \"globalNavigation\": False,\n",
    "                \"labelBtn\": False,\n",
    "                \"layerBtn\": False,\n",
    "                \"metadataPanel\": True,\n",
    "                \"miniMap\": False,\n",
    "                \"sidebar\": False,\n",
    "                \"zoomToolbar\": False,\n",
    "            },\n",
    "            \"expandAllPipelines\": False,\n",
    "            \"behaviour\": { \n",
    "                \"reFocus\": False,\n",
    "            },\n",
    "            \"theme\": \"dark\"})"
   ]
  },
  {
   "cell_type": "code",
   "execution_count": null,
   "id": "e84f7642-76b6-4844-a2a1-876fbae7ca8f",
   "metadata": {},
   "outputs": [],
   "source": []
  }
 ],
 "metadata": {
  "kernelspec": {
   "display_name": "Python 3 (ipykernel)",
   "language": "python",
   "name": "python3"
  },
  "language_info": {
   "codemirror_mode": {
    "name": "ipython",
    "version": 3
   },
   "file_extension": ".py",
   "mimetype": "text/x-python",
   "name": "python",
   "nbconvert_exporter": "python",
   "pygments_lexer": "ipython3",
   "version": "3.12.8"
  }
 },
 "nbformat": 4,
 "nbformat_minor": 5
}
