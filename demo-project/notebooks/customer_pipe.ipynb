{
 "cells": [
  {
   "cell_type": "code",
   "execution_count": null,
   "id": "8b864c18-440b-403e-9f51-ffb8fca2f02d",
   "metadata": {},
   "outputs": [],
   "source": [
    "# Step 1: Load Raw Customer Data\n",
    "# Content: We start by creating a simple node that loads raw customer data.\n",
    "\n",
    "from kedro.pipeline import pipeline, node \n",
    "from kedro_viz.integrations.notebook import NotebookVisualizer \n",
    "\n",
    "def load_customers():\n",
    "    return [{\"id\": 1, \"name\": \"Alice\"}, {\"id\": 2, \"name\": \"Bob\"}, {\"id\": 3}]\n",
    "\n",
    "load_customers_pipeline = pipeline([\n",
    "    node(load_customers, None, \"raw_customers\", name=\"load_customers\"),\n",
    "])\n",
    "\n",
    "NotebookVisualizer(load_customers_pipeline).show()"
   ]
  },
  {
   "cell_type": "code",
   "execution_count": null,
   "id": "dc278890-a2f9-4a91-9d4a-7b92b4ca2392",
   "metadata": {},
   "outputs": [],
   "source": [
    "# Step 2: Clean Customer Data\n",
    "# Content: Now we add a node to clean the data (e.g., remove missing names).\n",
    "\n",
    "def clean_customers(data):\n",
    "    return [c for c in data if c[\"name\"]]\n",
    "\n",
    "clean_customers_pipeline = load_customers_pipeline + pipeline([node(clean_customers, \"raw_customers\", \"cleaned_customers\", name=\"clean_customers\"),])\n",
    "\n",
    "NotebookVisualizer(clean_customers_pipeline).show()\n"
   ]
  },
  {
   "cell_type": "code",
   "execution_count": null,
   "id": "05256220-c829-4b1a-873e-9d2bcb75ec6b",
   "metadata": {},
   "outputs": [],
   "source": [
    "# Step 3: Enrich Customers with Geolocation\n",
    "# Content: We simulate loading geolocation info and enrich customer records using it.\n",
    "\n",
    "def enrich_customers(customers, geo_data):\n",
    "    for c in customers:\n",
    "        c[\"location\"] = geo_data.get(c[\"id\"], \"Unknown\")\n",
    "    return customers\n",
    "\n",
    "def load_geo_data():\n",
    "    return {1: \"NY\", 2: \"CA\"}\n",
    "\n",
    "enrich_customers_pipeline = clean_customers_pipeline + pipeline([\n",
    "    node(load_geo_data, None, \"geo_data\", name=\"load_geo_data\"),\n",
    "    node(enrich_customers, [\"cleaned_customers\", \"geo_data\"], \"enriched_customers\", name=\"enrich_customers\"),\n",
    "])\n",
    "\n",
    "NotebookVisualizer(enrich_customers_pipeline).show()"
   ]
  },
  {
   "cell_type": "code",
   "execution_count": null,
   "id": "253b693b-58a5-4fca-940d-d216d997f000",
   "metadata": {},
   "outputs": [],
   "source": [
    "# Step 4: Compute Summary Statistics\n",
    "# Content: We compute simple stats on the enriched dataset.\n",
    "\n",
    "def compute_stats(data):\n",
    "    return {\"count\": len(data)}\n",
    "\n",
    "compute_stats_pipeline = enrich_customers_pipeline + pipeline([node(compute_stats, \"enriched_customers\", \"customer_stats\", name=\"compute_stats\")])\n",
    "\n",
    "NotebookVisualizer(compute_stats_pipeline).show()"
   ]
  },
  {
   "cell_type": "code",
   "execution_count": null,
   "id": "adf2f3e3-53a5-4f03-995c-0176f07b57a6",
   "metadata": {},
   "outputs": [],
   "source": [
    "# Step 5: Generate a Report\n",
    "# Content: The final node turns stats into a human-readable report.\n",
    "\n",
    "def generate_report(stats):\n",
    "    return f\"Report: Total customers = {stats['count']}\"\n",
    "\n",
    "reporting_pipeline = compute_stats_pipeline + pipeline([node(generate_report, \"customer_stats\", \"report\", name=\"generate_report\")])\n",
    "\n",
    "NotebookVisualizer(reporting_pipeline, options={\n",
    "        \"display\": {\n",
    "            \"expandPipelinesBtn\": True,\n",
    "            \"exportBtn\": True,\n",
    "            \"labelBtn\": True,\n",
    "            \"layerBtn\": True,\n",
    "            \"miniMap\": True,\n",
    "            \"sidebar\": True,\n",
    "            \"zoomToolbar\": True,\n",
    "        },\n",
    "        \"expandAllPipelines\": True,\n",
    "        \"behaviour\": { \n",
    "            \"reFocus\": False,\n",
    "        },\n",
    "        \"theme\": \"dark\",\n",
    "        \"width\": \"100%\",\n",
    "        \"height\": \"600px\",   \n",
    "    }).show()\n"
   ]
  },
  {
   "cell_type": "code",
   "execution_count": null,
   "id": "ffebcc68-3ef1-4cd0-9f20-bb0d8a5c63cb",
   "metadata": {},
   "outputs": [],
   "source": [
    "%load_ext kedro"
   ]
  },
  {
   "cell_type": "code",
   "execution_count": null,
   "id": "5b304a5a-c3ec-4097-966c-bf74a8a8296b",
   "metadata": {},
   "outputs": [],
   "source": [
    "pipelines"
   ]
  },
  {
   "cell_type": "code",
   "execution_count": null,
   "id": "077411a9-0360-408b-b133-d066a846e3ed",
   "metadata": {},
   "outputs": [],
   "source": [
    "NotebookVisualizer(pipelines['__default__']).show()"
   ]
  }
 ],
 "metadata": {
  "kernelspec": {
   "display_name": "Python 3 (ipykernel)",
   "language": "python",
   "name": "python3"
  },
  "language_info": {
   "codemirror_mode": {
    "name": "ipython",
    "version": 3
   },
   "file_extension": ".py",
   "mimetype": "text/x-python",
   "name": "python",
   "nbconvert_exporter": "python",
   "pygments_lexer": "ipython3",
   "version": "3.12.8"
  }
 },
 "nbformat": 4,
 "nbformat_minor": 5
}
