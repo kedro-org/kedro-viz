{
 "cells": [
  {
   "cell_type": "code",
   "execution_count": 5,
   "id": "8b864c18-440b-403e-9f51-ffb8fca2f02d",
   "metadata": {},
   "outputs": [
    {
     "name": "stdout",
     "output_type": "stream",
     "text": [
      "                        "
     ]
    },
    {
     "data": {
      "text/html": [
       "<pre style=\"white-space:pre;overflow-x:auto;line-height:normal;font-family:Menlo,'DejaVu Sans Mono',consolas,'Courier New',monospace\"></pre>\n"
      ],
      "text/plain": []
     },
     "metadata": {},
     "output_type": "display_data"
    },
    {
     "data": {
      "text/html": [
       "<iframe srcdoc=\"<!DOCTYPE html>\n",
       "        <html lang='en'>\n",
       "        <head>\n",
       "            <meta charset='UTF-8'>\n",
       "            <meta name='viewport' content='width=device-width, initial-scale=1.0'>\n",
       "            <title>Kedro-Viz</title>\n",
       "        </head>\n",
       "        <body>\n",
       "            <div id=kedro-viz-25675de8 style='height: 600px'></div>\n",
       "            <script type=&quot;module&quot;>\n",
       "                import { KedroViz, React, createRoot } from 'https://cdn.jsdelivr.net/gh/kedro-org/kedro-viz@main/esm/kedro-viz.production.mjs';\n",
       "                const viz_container = document.getElementById('kedro-viz-25675de8');\n",
       "\n",
       "                if (createRoot && viz_container) {\n",
       "                    const viz_root = createRoot(viz_container);\n",
       "                    viz_root.render(\n",
       "                        React.createElement(KedroViz, {\n",
       "                            data: {&quot;nodes&quot;: [{&quot;id&quot;: &quot;7075a106&quot;, &quot;name&quot;: &quot;load_customers&quot;, &quot;tags&quot;: [], &quot;pipelines&quot;: [&quot;__default__&quot;], &quot;type&quot;: &quot;task&quot;, &quot;modular_pipelines&quot;: null, &quot;parameters&quot;: {}}, {&quot;id&quot;: &quot;bd9bb7fc&quot;, &quot;name&quot;: &quot;raw_customers&quot;, &quot;tags&quot;: [], &quot;pipelines&quot;: [&quot;__default__&quot;], &quot;type&quot;: &quot;data&quot;, &quot;modular_pipelines&quot;: null, &quot;layer&quot;: null, &quot;dataset_type&quot;: &quot;io.memory_dataset.MemoryDataset&quot;, &quot;stats&quot;: null}], &quot;edges&quot;: [{&quot;source&quot;: &quot;7075a106&quot;, &quot;target&quot;: &quot;bd9bb7fc&quot;}], &quot;layers&quot;: [], &quot;tags&quot;: [], &quot;pipelines&quot;: [{&quot;id&quot;: &quot;__default__&quot;, &quot;name&quot;: &quot;__default__&quot;}], &quot;modular_pipelines&quot;: {&quot;__root__&quot;: {&quot;id&quot;: &quot;__root__&quot;, &quot;name&quot;: &quot;__root__&quot;, &quot;inputs&quot;: [], &quot;outputs&quot;: [], &quot;children&quot;: [{&quot;id&quot;: &quot;7075a106&quot;, &quot;type&quot;: &quot;task&quot;}, {&quot;id&quot;: &quot;bd9bb7fc&quot;, &quot;type&quot;: &quot;data&quot;}]}}, &quot;selected_pipeline&quot;: &quot;__default__&quot;},\n",
       "                            options: {&quot;display&quot;: {&quot;expandPipelinesBtn&quot;: false, &quot;globalNavigation&quot;: false, &quot;exportBtn&quot;: false, &quot;labelBtn&quot;: false, &quot;layerBtn&quot;: false, &quot;metadataPanel&quot;: false, &quot;miniMap&quot;: false, &quot;sidebar&quot;: false, &quot;zoomToolbar&quot;: false}, &quot;expandAllPipelines&quot;: false, &quot;behaviour&quot;: {&quot;reFocus&quot;: false}, &quot;theme&quot;: &quot;dark&quot;, &quot;width&quot;: &quot;100%&quot;, &quot;height&quot;: &quot;600px&quot;}\n",
       "                        })\n",
       "                    );\n",
       "                }\n",
       "            </script>\n",
       "        </body>\n",
       "        </html>\"  style=\"width:100%; height:600px; border:none;\" sandbox=\"allow-scripts\"></iframe>"
      ],
      "text/plain": [
       "\u001b[1m<\u001b[0m\u001b[1;95mIPython.core.display.HTML\u001b[0m\u001b[39m object\u001b[0m\u001b[1m>\u001b[0m"
      ]
     },
     "metadata": {},
     "output_type": "display_data"
    }
   ],
   "source": [
    "# Step 1: Load Raw Customer Data\n",
    "# Content: We start by creating a simple node that loads raw customer data.\n",
    "\n",
    "from kedro.pipeline import pipeline, node \n",
    "from kedro_viz.integrations.notebook import NotebookVisualizer \n",
    "\n",
    "def load_customers():\n",
    "    return [{\"id\": 1, \"name\": \"Alice\"}, {\"id\": 2, \"name\": \"Bob\"}, {\"id\": 3}]\n",
    "\n",
    "pipeline_1 = pipeline([\n",
    "    node(load_customers, None, \"raw_customers\", name=\"load_customers\"),\n",
    "])\n",
    "\n",
    "NotebookVisualizer(pipeline_1).show()"
   ]
  },
  {
   "cell_type": "code",
   "execution_count": 7,
   "id": "dc278890-a2f9-4a91-9d4a-7b92b4ca2392",
   "metadata": {},
   "outputs": [
    {
     "name": "stdout",
     "output_type": "stream",
     "text": [
      "                        "
     ]
    },
    {
     "data": {
      "text/html": [
       "<pre style=\"white-space:pre;overflow-x:auto;line-height:normal;font-family:Menlo,'DejaVu Sans Mono',consolas,'Courier New',monospace\"></pre>\n"
      ],
      "text/plain": []
     },
     "metadata": {},
     "output_type": "display_data"
    },
    {
     "data": {
      "text/html": [
       "<iframe srcdoc=\"<!DOCTYPE html>\n",
       "        <html lang='en'>\n",
       "        <head>\n",
       "            <meta charset='UTF-8'>\n",
       "            <meta name='viewport' content='width=device-width, initial-scale=1.0'>\n",
       "            <title>Kedro-Viz</title>\n",
       "        </head>\n",
       "        <body>\n",
       "            <div id=kedro-viz-ad652b5b style='height: 600px'></div>\n",
       "            <script type=&quot;module&quot;>\n",
       "                import { KedroViz, React, createRoot } from 'https://cdn.jsdelivr.net/gh/kedro-org/kedro-viz@main/esm/kedro-viz.production.mjs';\n",
       "                const viz_container = document.getElementById('kedro-viz-ad652b5b');\n",
       "\n",
       "                if (createRoot && viz_container) {\n",
       "                    const viz_root = createRoot(viz_container);\n",
       "                    viz_root.render(\n",
       "                        React.createElement(KedroViz, {\n",
       "                            data: {&quot;nodes&quot;: [{&quot;id&quot;: &quot;7075a106&quot;, &quot;name&quot;: &quot;load_customers&quot;, &quot;tags&quot;: [], &quot;pipelines&quot;: [&quot;__default__&quot;], &quot;type&quot;: &quot;task&quot;, &quot;modular_pipelines&quot;: null, &quot;parameters&quot;: {}}, {&quot;id&quot;: &quot;bd9bb7fc&quot;, &quot;name&quot;: &quot;raw_customers&quot;, &quot;tags&quot;: [], &quot;pipelines&quot;: [&quot;__default__&quot;], &quot;type&quot;: &quot;data&quot;, &quot;modular_pipelines&quot;: null, &quot;layer&quot;: null, &quot;dataset_type&quot;: &quot;io.memory_dataset.MemoryDataset&quot;, &quot;stats&quot;: null}, {&quot;id&quot;: &quot;cfba0875&quot;, &quot;name&quot;: &quot;clean_customers&quot;, &quot;tags&quot;: [], &quot;pipelines&quot;: [&quot;__default__&quot;], &quot;type&quot;: &quot;task&quot;, &quot;modular_pipelines&quot;: null, &quot;parameters&quot;: {}}, {&quot;id&quot;: &quot;0b43e5e7&quot;, &quot;name&quot;: &quot;cleaned_customers&quot;, &quot;tags&quot;: [], &quot;pipelines&quot;: [&quot;__default__&quot;], &quot;type&quot;: &quot;data&quot;, &quot;modular_pipelines&quot;: null, &quot;layer&quot;: null, &quot;dataset_type&quot;: &quot;io.memory_dataset.MemoryDataset&quot;, &quot;stats&quot;: null}], &quot;edges&quot;: [{&quot;source&quot;: &quot;7075a106&quot;, &quot;target&quot;: &quot;bd9bb7fc&quot;}, {&quot;source&quot;: &quot;cfba0875&quot;, &quot;target&quot;: &quot;0b43e5e7&quot;}, {&quot;source&quot;: &quot;bd9bb7fc&quot;, &quot;target&quot;: &quot;cfba0875&quot;}], &quot;layers&quot;: [], &quot;tags&quot;: [], &quot;pipelines&quot;: [{&quot;id&quot;: &quot;__default__&quot;, &quot;name&quot;: &quot;__default__&quot;}], &quot;modular_pipelines&quot;: {&quot;__root__&quot;: {&quot;id&quot;: &quot;__root__&quot;, &quot;name&quot;: &quot;__root__&quot;, &quot;inputs&quot;: [], &quot;outputs&quot;: [], &quot;children&quot;: [{&quot;id&quot;: &quot;cfba0875&quot;, &quot;type&quot;: &quot;task&quot;}, {&quot;id&quot;: &quot;7075a106&quot;, &quot;type&quot;: &quot;task&quot;}, {&quot;id&quot;: &quot;bd9bb7fc&quot;, &quot;type&quot;: &quot;data&quot;}, {&quot;id&quot;: &quot;0b43e5e7&quot;, &quot;type&quot;: &quot;data&quot;}]}}, &quot;selected_pipeline&quot;: &quot;__default__&quot;},\n",
       "                            options: {&quot;display&quot;: {&quot;expandPipelinesBtn&quot;: false, &quot;globalNavigation&quot;: false, &quot;exportBtn&quot;: false, &quot;labelBtn&quot;: false, &quot;layerBtn&quot;: false, &quot;metadataPanel&quot;: false, &quot;miniMap&quot;: false, &quot;sidebar&quot;: false, &quot;zoomToolbar&quot;: false}, &quot;expandAllPipelines&quot;: false, &quot;behaviour&quot;: {&quot;reFocus&quot;: false}, &quot;theme&quot;: &quot;dark&quot;, &quot;width&quot;: &quot;100%&quot;, &quot;height&quot;: &quot;600px&quot;}\n",
       "                        })\n",
       "                    );\n",
       "                }\n",
       "            </script>\n",
       "        </body>\n",
       "        </html>\"  style=\"width:100%; height:600px; border:none;\" sandbox=\"allow-scripts\"></iframe>"
      ],
      "text/plain": [
       "\u001b[1m<\u001b[0m\u001b[1;95mIPython.core.display.HTML\u001b[0m\u001b[39m object\u001b[0m\u001b[1m>\u001b[0m"
      ]
     },
     "metadata": {},
     "output_type": "display_data"
    }
   ],
   "source": [
    "# Step 2: Clean Customer Data\n",
    "# Content: Now we add a node to clean the data (e.g., remove missing names).\n",
    "\n",
    "def clean_customers(data):\n",
    "    return [c for c in data if c[\"name\"]]\n",
    "\n",
    "pipeline_2 = pipeline([\n",
    "    node(load_customers, None, \"raw_customers\", name=\"load_customers\"),\n",
    "    node(clean_customers, \"raw_customers\", \"cleaned_customers\", name=\"clean_customers\"),\n",
    "])\n",
    "\n",
    "NotebookVisualizer(pipeline_2).show()\n"
   ]
  },
  {
   "cell_type": "code",
   "execution_count": 8,
   "id": "05256220-c829-4b1a-873e-9d2bcb75ec6b",
   "metadata": {},
   "outputs": [
    {
     "name": "stdout",
     "output_type": "stream",
     "text": [
      "                        "
     ]
    },
    {
     "data": {
      "text/html": [
       "<pre style=\"white-space:pre;overflow-x:auto;line-height:normal;font-family:Menlo,'DejaVu Sans Mono',consolas,'Courier New',monospace\"></pre>\n"
      ],
      "text/plain": []
     },
     "metadata": {},
     "output_type": "display_data"
    },
    {
     "data": {
      "text/html": [
       "<iframe srcdoc=\"<!DOCTYPE html>\n",
       "        <html lang='en'>\n",
       "        <head>\n",
       "            <meta charset='UTF-8'>\n",
       "            <meta name='viewport' content='width=device-width, initial-scale=1.0'>\n",
       "            <title>Kedro-Viz</title>\n",
       "        </head>\n",
       "        <body>\n",
       "            <div id=kedro-viz-87de99c7 style='height: 600px'></div>\n",
       "            <script type=&quot;module&quot;>\n",
       "                import { KedroViz, React, createRoot } from 'https://cdn.jsdelivr.net/gh/kedro-org/kedro-viz@main/esm/kedro-viz.production.mjs';\n",
       "                const viz_container = document.getElementById('kedro-viz-87de99c7');\n",
       "\n",
       "                if (createRoot && viz_container) {\n",
       "                    const viz_root = createRoot(viz_container);\n",
       "                    viz_root.render(\n",
       "                        React.createElement(KedroViz, {\n",
       "                            data: {&quot;nodes&quot;: [{&quot;id&quot;: &quot;7075a106&quot;, &quot;name&quot;: &quot;load_customers&quot;, &quot;tags&quot;: [], &quot;pipelines&quot;: [&quot;__default__&quot;], &quot;type&quot;: &quot;task&quot;, &quot;modular_pipelines&quot;: null, &quot;parameters&quot;: {}}, {&quot;id&quot;: &quot;bd9bb7fc&quot;, &quot;name&quot;: &quot;raw_customers&quot;, &quot;tags&quot;: [], &quot;pipelines&quot;: [&quot;__default__&quot;], &quot;type&quot;: &quot;data&quot;, &quot;modular_pipelines&quot;: null, &quot;layer&quot;: null, &quot;dataset_type&quot;: &quot;io.memory_dataset.MemoryDataset&quot;, &quot;stats&quot;: null}, {&quot;id&quot;: &quot;903a79e1&quot;, &quot;name&quot;: &quot;load_geo_data&quot;, &quot;tags&quot;: [], &quot;pipelines&quot;: [&quot;__default__&quot;], &quot;type&quot;: &quot;task&quot;, &quot;modular_pipelines&quot;: null, &quot;parameters&quot;: {}}, {&quot;id&quot;: &quot;61c7ad04&quot;, &quot;name&quot;: &quot;geo_data&quot;, &quot;tags&quot;: [], &quot;pipelines&quot;: [&quot;__default__&quot;], &quot;type&quot;: &quot;data&quot;, &quot;modular_pipelines&quot;: null, &quot;layer&quot;: null, &quot;dataset_type&quot;: &quot;io.memory_dataset.MemoryDataset&quot;, &quot;stats&quot;: null}, {&quot;id&quot;: &quot;cfba0875&quot;, &quot;name&quot;: &quot;clean_customers&quot;, &quot;tags&quot;: [], &quot;pipelines&quot;: [&quot;__default__&quot;], &quot;type&quot;: &quot;task&quot;, &quot;modular_pipelines&quot;: null, &quot;parameters&quot;: {}}, {&quot;id&quot;: &quot;0b43e5e7&quot;, &quot;name&quot;: &quot;cleaned_customers&quot;, &quot;tags&quot;: [], &quot;pipelines&quot;: [&quot;__default__&quot;], &quot;type&quot;: &quot;data&quot;, &quot;modular_pipelines&quot;: null, &quot;layer&quot;: null, &quot;dataset_type&quot;: &quot;io.memory_dataset.MemoryDataset&quot;, &quot;stats&quot;: null}, {&quot;id&quot;: &quot;bda73a40&quot;, &quot;name&quot;: &quot;enrich_customers&quot;, &quot;tags&quot;: [], &quot;pipelines&quot;: [&quot;__default__&quot;], &quot;type&quot;: &quot;task&quot;, &quot;modular_pipelines&quot;: null, &quot;parameters&quot;: {}}, {&quot;id&quot;: &quot;37dacc5a&quot;, &quot;name&quot;: &quot;enriched_customers&quot;, &quot;tags&quot;: [], &quot;pipelines&quot;: [&quot;__default__&quot;], &quot;type&quot;: &quot;data&quot;, &quot;modular_pipelines&quot;: null, &quot;layer&quot;: null, &quot;dataset_type&quot;: &quot;io.memory_dataset.MemoryDataset&quot;, &quot;stats&quot;: null}], &quot;edges&quot;: [{&quot;source&quot;: &quot;7075a106&quot;, &quot;target&quot;: &quot;bd9bb7fc&quot;}, {&quot;source&quot;: &quot;bd9bb7fc&quot;, &quot;target&quot;: &quot;cfba0875&quot;}, {&quot;source&quot;: &quot;0b43e5e7&quot;, &quot;target&quot;: &quot;bda73a40&quot;}, {&quot;source&quot;: &quot;903a79e1&quot;, &quot;target&quot;: &quot;61c7ad04&quot;}, {&quot;source&quot;: &quot;61c7ad04&quot;, &quot;target&quot;: &quot;bda73a40&quot;}, {&quot;source&quot;: &quot;cfba0875&quot;, &quot;target&quot;: &quot;0b43e5e7&quot;}, {&quot;source&quot;: &quot;bda73a40&quot;, &quot;target&quot;: &quot;37dacc5a&quot;}], &quot;layers&quot;: [], &quot;tags&quot;: [], &quot;pipelines&quot;: [{&quot;id&quot;: &quot;__default__&quot;, &quot;name&quot;: &quot;__default__&quot;}], &quot;modular_pipelines&quot;: {&quot;__root__&quot;: {&quot;id&quot;: &quot;__root__&quot;, &quot;name&quot;: &quot;__root__&quot;, &quot;inputs&quot;: [], &quot;outputs&quot;: [], &quot;children&quot;: [{&quot;id&quot;: &quot;cfba0875&quot;, &quot;type&quot;: &quot;task&quot;}, {&quot;id&quot;: &quot;0b43e5e7&quot;, &quot;type&quot;: &quot;data&quot;}, {&quot;id&quot;: &quot;7075a106&quot;, &quot;type&quot;: &quot;task&quot;}, {&quot;id&quot;: &quot;bd9bb7fc&quot;, &quot;type&quot;: &quot;data&quot;}, {&quot;id&quot;: &quot;61c7ad04&quot;, &quot;type&quot;: &quot;data&quot;}, {&quot;id&quot;: &quot;903a79e1&quot;, &quot;type&quot;: &quot;task&quot;}, {&quot;id&quot;: &quot;bda73a40&quot;, &quot;type&quot;: &quot;task&quot;}, {&quot;id&quot;: &quot;37dacc5a&quot;, &quot;type&quot;: &quot;data&quot;}]}}, &quot;selected_pipeline&quot;: &quot;__default__&quot;},\n",
       "                            options: {&quot;display&quot;: {&quot;expandPipelinesBtn&quot;: false, &quot;globalNavigation&quot;: false, &quot;exportBtn&quot;: false, &quot;labelBtn&quot;: false, &quot;layerBtn&quot;: false, &quot;metadataPanel&quot;: false, &quot;miniMap&quot;: false, &quot;sidebar&quot;: false, &quot;zoomToolbar&quot;: false}, &quot;expandAllPipelines&quot;: false, &quot;behaviour&quot;: {&quot;reFocus&quot;: false}, &quot;theme&quot;: &quot;dark&quot;, &quot;width&quot;: &quot;100%&quot;, &quot;height&quot;: &quot;600px&quot;}\n",
       "                        })\n",
       "                    );\n",
       "                }\n",
       "            </script>\n",
       "        </body>\n",
       "        </html>\"  style=\"width:100%; height:600px; border:none;\" sandbox=\"allow-scripts\"></iframe>"
      ],
      "text/plain": [
       "\u001b[1m<\u001b[0m\u001b[1;95mIPython.core.display.HTML\u001b[0m\u001b[39m object\u001b[0m\u001b[1m>\u001b[0m"
      ]
     },
     "metadata": {},
     "output_type": "display_data"
    }
   ],
   "source": [
    "# Step 3: Enrich Customers with Geolocation\n",
    "# Content: We simulate loading geolocation info and enrich customer records using it.\n",
    "\n",
    "def enrich_customers(customers, geo_data):\n",
    "    for c in customers:\n",
    "        c[\"location\"] = geo_data.get(c[\"id\"], \"Unknown\")\n",
    "    return customers\n",
    "\n",
    "def load_geo_data():\n",
    "    return {1: \"NY\", 2: \"CA\"}\n",
    "\n",
    "pipeline_3 = pipeline([\n",
    "    node(load_customers, None, \"raw_customers\", name=\"load_customers\"),\n",
    "    node(clean_customers, \"raw_customers\", \"cleaned_customers\", name=\"clean_customers\"),\n",
    "    node(load_geo_data, None, \"geo_data\", name=\"load_geo_data\"),\n",
    "    node(enrich_customers, [\"cleaned_customers\", \"geo_data\"], \"enriched_customers\", name=\"enrich_customers\"),\n",
    "])\n",
    "\n",
    "NotebookVisualizer(pipeline_3).show()"
   ]
  },
  {
   "cell_type": "code",
   "execution_count": 10,
   "id": "253b693b-58a5-4fca-940d-d216d997f000",
   "metadata": {},
   "outputs": [
    {
     "name": "stdout",
     "output_type": "stream",
     "text": [
      "                        "
     ]
    },
    {
     "data": {
      "text/html": [
       "<pre style=\"white-space:pre;overflow-x:auto;line-height:normal;font-family:Menlo,'DejaVu Sans Mono',consolas,'Courier New',monospace\"></pre>\n"
      ],
      "text/plain": []
     },
     "metadata": {},
     "output_type": "display_data"
    },
    {
     "data": {
      "text/html": [
       "<iframe srcdoc=\"<!DOCTYPE html>\n",
       "        <html lang='en'>\n",
       "        <head>\n",
       "            <meta charset='UTF-8'>\n",
       "            <meta name='viewport' content='width=device-width, initial-scale=1.0'>\n",
       "            <title>Kedro-Viz</title>\n",
       "        </head>\n",
       "        <body>\n",
       "            <div id=kedro-viz-06eb0fe1 style='height: 600px'></div>\n",
       "            <script type=&quot;module&quot;>\n",
       "                import { KedroViz, React, createRoot } from 'https://cdn.jsdelivr.net/gh/kedro-org/kedro-viz@main/esm/kedro-viz.production.mjs';\n",
       "                const viz_container = document.getElementById('kedro-viz-06eb0fe1');\n",
       "\n",
       "                if (createRoot && viz_container) {\n",
       "                    const viz_root = createRoot(viz_container);\n",
       "                    viz_root.render(\n",
       "                        React.createElement(KedroViz, {\n",
       "                            data: {&quot;nodes&quot;: [{&quot;id&quot;: &quot;7075a106&quot;, &quot;name&quot;: &quot;load_customers&quot;, &quot;tags&quot;: [], &quot;pipelines&quot;: [&quot;__default__&quot;], &quot;type&quot;: &quot;task&quot;, &quot;modular_pipelines&quot;: null, &quot;parameters&quot;: {}}, {&quot;id&quot;: &quot;bd9bb7fc&quot;, &quot;name&quot;: &quot;raw_customers&quot;, &quot;tags&quot;: [], &quot;pipelines&quot;: [&quot;__default__&quot;], &quot;type&quot;: &quot;data&quot;, &quot;modular_pipelines&quot;: null, &quot;layer&quot;: null, &quot;dataset_type&quot;: &quot;io.memory_dataset.MemoryDataset&quot;, &quot;stats&quot;: null}, {&quot;id&quot;: &quot;903a79e1&quot;, &quot;name&quot;: &quot;load_geo_data&quot;, &quot;tags&quot;: [], &quot;pipelines&quot;: [&quot;__default__&quot;], &quot;type&quot;: &quot;task&quot;, &quot;modular_pipelines&quot;: null, &quot;parameters&quot;: {}}, {&quot;id&quot;: &quot;61c7ad04&quot;, &quot;name&quot;: &quot;geo_data&quot;, &quot;tags&quot;: [], &quot;pipelines&quot;: [&quot;__default__&quot;], &quot;type&quot;: &quot;data&quot;, &quot;modular_pipelines&quot;: null, &quot;layer&quot;: null, &quot;dataset_type&quot;: &quot;io.memory_dataset.MemoryDataset&quot;, &quot;stats&quot;: null}, {&quot;id&quot;: &quot;cfba0875&quot;, &quot;name&quot;: &quot;clean_customers&quot;, &quot;tags&quot;: [], &quot;pipelines&quot;: [&quot;__default__&quot;], &quot;type&quot;: &quot;task&quot;, &quot;modular_pipelines&quot;: null, &quot;parameters&quot;: {}}, {&quot;id&quot;: &quot;0b43e5e7&quot;, &quot;name&quot;: &quot;cleaned_customers&quot;, &quot;tags&quot;: [], &quot;pipelines&quot;: [&quot;__default__&quot;], &quot;type&quot;: &quot;data&quot;, &quot;modular_pipelines&quot;: null, &quot;layer&quot;: null, &quot;dataset_type&quot;: &quot;io.memory_dataset.MemoryDataset&quot;, &quot;stats&quot;: null}, {&quot;id&quot;: &quot;bda73a40&quot;, &quot;name&quot;: &quot;enrich_customers&quot;, &quot;tags&quot;: [], &quot;pipelines&quot;: [&quot;__default__&quot;], &quot;type&quot;: &quot;task&quot;, &quot;modular_pipelines&quot;: null, &quot;parameters&quot;: {}}, {&quot;id&quot;: &quot;37dacc5a&quot;, &quot;name&quot;: &quot;enriched_customers&quot;, &quot;tags&quot;: [], &quot;pipelines&quot;: [&quot;__default__&quot;], &quot;type&quot;: &quot;data&quot;, &quot;modular_pipelines&quot;: null, &quot;layer&quot;: null, &quot;dataset_type&quot;: &quot;io.memory_dataset.MemoryDataset&quot;, &quot;stats&quot;: null}, {&quot;id&quot;: &quot;7ae2796f&quot;, &quot;name&quot;: &quot;compute_stats&quot;, &quot;tags&quot;: [], &quot;pipelines&quot;: [&quot;__default__&quot;], &quot;type&quot;: &quot;task&quot;, &quot;modular_pipelines&quot;: null, &quot;parameters&quot;: {}}, {&quot;id&quot;: &quot;e1914486&quot;, &quot;name&quot;: &quot;customer_stats&quot;, &quot;tags&quot;: [], &quot;pipelines&quot;: [&quot;__default__&quot;], &quot;type&quot;: &quot;data&quot;, &quot;modular_pipelines&quot;: null, &quot;layer&quot;: null, &quot;dataset_type&quot;: &quot;io.memory_dataset.MemoryDataset&quot;, &quot;stats&quot;: null}], &quot;edges&quot;: [{&quot;source&quot;: &quot;7075a106&quot;, &quot;target&quot;: &quot;bd9bb7fc&quot;}, {&quot;source&quot;: &quot;37dacc5a&quot;, &quot;target&quot;: &quot;7ae2796f&quot;}, {&quot;source&quot;: &quot;bd9bb7fc&quot;, &quot;target&quot;: &quot;cfba0875&quot;}, {&quot;source&quot;: &quot;0b43e5e7&quot;, &quot;target&quot;: &quot;bda73a40&quot;}, {&quot;source&quot;: &quot;903a79e1&quot;, &quot;target&quot;: &quot;61c7ad04&quot;}, {&quot;source&quot;: &quot;7ae2796f&quot;, &quot;target&quot;: &quot;e1914486&quot;}, {&quot;source&quot;: &quot;61c7ad04&quot;, &quot;target&quot;: &quot;bda73a40&quot;}, {&quot;source&quot;: &quot;cfba0875&quot;, &quot;target&quot;: &quot;0b43e5e7&quot;}, {&quot;source&quot;: &quot;bda73a40&quot;, &quot;target&quot;: &quot;37dacc5a&quot;}], &quot;layers&quot;: [], &quot;tags&quot;: [], &quot;pipelines&quot;: [{&quot;id&quot;: &quot;__default__&quot;, &quot;name&quot;: &quot;__default__&quot;}], &quot;modular_pipelines&quot;: {&quot;__root__&quot;: {&quot;id&quot;: &quot;__root__&quot;, &quot;name&quot;: &quot;__root__&quot;, &quot;inputs&quot;: [], &quot;outputs&quot;: [], &quot;children&quot;: [{&quot;id&quot;: &quot;cfba0875&quot;, &quot;type&quot;: &quot;task&quot;}, {&quot;id&quot;: &quot;0b43e5e7&quot;, &quot;type&quot;: &quot;data&quot;}, {&quot;id&quot;: &quot;7075a106&quot;, &quot;type&quot;: &quot;task&quot;}, {&quot;id&quot;: &quot;bd9bb7fc&quot;, &quot;type&quot;: &quot;data&quot;}, {&quot;id&quot;: &quot;61c7ad04&quot;, &quot;type&quot;: &quot;data&quot;}, {&quot;id&quot;: &quot;903a79e1&quot;, &quot;type&quot;: &quot;task&quot;}, {&quot;id&quot;: &quot;7ae2796f&quot;, &quot;type&quot;: &quot;task&quot;}, {&quot;id&quot;: &quot;bda73a40&quot;, &quot;type&quot;: &quot;task&quot;}, {&quot;id&quot;: &quot;e1914486&quot;, &quot;type&quot;: &quot;data&quot;}, {&quot;id&quot;: &quot;37dacc5a&quot;, &quot;type&quot;: &quot;data&quot;}]}}, &quot;selected_pipeline&quot;: &quot;__default__&quot;},\n",
       "                            options: {&quot;display&quot;: {&quot;expandPipelinesBtn&quot;: false, &quot;globalNavigation&quot;: false, &quot;exportBtn&quot;: false, &quot;labelBtn&quot;: false, &quot;layerBtn&quot;: false, &quot;metadataPanel&quot;: false, &quot;miniMap&quot;: false, &quot;sidebar&quot;: false, &quot;zoomToolbar&quot;: false}, &quot;expandAllPipelines&quot;: false, &quot;behaviour&quot;: {&quot;reFocus&quot;: false}, &quot;theme&quot;: &quot;dark&quot;, &quot;width&quot;: &quot;100%&quot;, &quot;height&quot;: &quot;600px&quot;}\n",
       "                        })\n",
       "                    );\n",
       "                }\n",
       "            </script>\n",
       "        </body>\n",
       "        </html>\"  style=\"width:100%; height:600px; border:none;\" sandbox=\"allow-scripts\"></iframe>"
      ],
      "text/plain": [
       "\u001b[1m<\u001b[0m\u001b[1;95mIPython.core.display.HTML\u001b[0m\u001b[39m object\u001b[0m\u001b[1m>\u001b[0m"
      ]
     },
     "metadata": {},
     "output_type": "display_data"
    }
   ],
   "source": [
    "# Step 4: Compute Summary Statistics\n",
    "# Content: We compute simple stats on the enriched dataset.\n",
    "\n",
    "def compute_stats(data):\n",
    "    return {\"count\": len(data)}\n",
    "\n",
    "pipeline_4 = pipeline([\n",
    "    node(load_customers, None, \"raw_customers\", name=\"load_customers\"),\n",
    "    node(clean_customers, \"raw_customers\", \"cleaned_customers\", name=\"clean_customers\"),\n",
    "    node(load_geo_data, None, \"geo_data\", name=\"load_geo_data\"),\n",
    "    node(enrich_customers, [\"cleaned_customers\", \"geo_data\"], \"enriched_customers\", name=\"enrich_customers\"),\n",
    "    node(compute_stats, \"enriched_customers\", \"customer_stats\", name=\"compute_stats\"),\n",
    "])\n",
    "\n",
    "NotebookVisualizer(pipeline_4).show()"
   ]
  },
  {
   "cell_type": "code",
   "execution_count": 20,
   "id": "adf2f3e3-53a5-4f03-995c-0176f07b57a6",
   "metadata": {},
   "outputs": [
    {
     "name": "stdout",
     "output_type": "stream",
     "text": [
      "                        "
     ]
    },
    {
     "data": {
      "text/html": [
       "<pre style=\"white-space:pre;overflow-x:auto;line-height:normal;font-family:Menlo,'DejaVu Sans Mono',consolas,'Courier New',monospace\"></pre>\n"
      ],
      "text/plain": []
     },
     "metadata": {},
     "output_type": "display_data"
    },
    {
     "data": {
      "text/html": [
       "<iframe srcdoc=\"<!DOCTYPE html>\n",
       "        <html lang='en'>\n",
       "        <head>\n",
       "            <meta charset='UTF-8'>\n",
       "            <meta name='viewport' content='width=device-width, initial-scale=1.0'>\n",
       "            <title>Kedro-Viz</title>\n",
       "        </head>\n",
       "        <body>\n",
       "            <div id=kedro-viz-eecf4bbe style='height: 600px'></div>\n",
       "            <script type=&quot;module&quot;>\n",
       "                import { KedroViz, React, createRoot } from 'https://cdn.jsdelivr.net/gh/kedro-org/kedro-viz@main/esm/kedro-viz.production.mjs';\n",
       "                const viz_container = document.getElementById('kedro-viz-eecf4bbe');\n",
       "\n",
       "                if (createRoot && viz_container) {\n",
       "                    const viz_root = createRoot(viz_container);\n",
       "                    viz_root.render(\n",
       "                        React.createElement(KedroViz, {\n",
       "                            data: {&quot;nodes&quot;: [{&quot;id&quot;: &quot;7075a106&quot;, &quot;name&quot;: &quot;load_customers&quot;, &quot;tags&quot;: [], &quot;pipelines&quot;: [&quot;__default__&quot;], &quot;type&quot;: &quot;task&quot;, &quot;modular_pipelines&quot;: null, &quot;parameters&quot;: {}}, {&quot;id&quot;: &quot;bd9bb7fc&quot;, &quot;name&quot;: &quot;raw_customers&quot;, &quot;tags&quot;: [], &quot;pipelines&quot;: [&quot;__default__&quot;], &quot;type&quot;: &quot;data&quot;, &quot;modular_pipelines&quot;: null, &quot;layer&quot;: null, &quot;dataset_type&quot;: &quot;io.memory_dataset.MemoryDataset&quot;, &quot;stats&quot;: null}, {&quot;id&quot;: &quot;903a79e1&quot;, &quot;name&quot;: &quot;load_geo_data&quot;, &quot;tags&quot;: [], &quot;pipelines&quot;: [&quot;__default__&quot;], &quot;type&quot;: &quot;task&quot;, &quot;modular_pipelines&quot;: null, &quot;parameters&quot;: {}}, {&quot;id&quot;: &quot;61c7ad04&quot;, &quot;name&quot;: &quot;geo_data&quot;, &quot;tags&quot;: [], &quot;pipelines&quot;: [&quot;__default__&quot;], &quot;type&quot;: &quot;data&quot;, &quot;modular_pipelines&quot;: null, &quot;layer&quot;: null, &quot;dataset_type&quot;: &quot;io.memory_dataset.MemoryDataset&quot;, &quot;stats&quot;: null}, {&quot;id&quot;: &quot;cfba0875&quot;, &quot;name&quot;: &quot;clean_customers&quot;, &quot;tags&quot;: [], &quot;pipelines&quot;: [&quot;__default__&quot;], &quot;type&quot;: &quot;task&quot;, &quot;modular_pipelines&quot;: null, &quot;parameters&quot;: {}}, {&quot;id&quot;: &quot;0b43e5e7&quot;, &quot;name&quot;: &quot;cleaned_customers&quot;, &quot;tags&quot;: [], &quot;pipelines&quot;: [&quot;__default__&quot;], &quot;type&quot;: &quot;data&quot;, &quot;modular_pipelines&quot;: null, &quot;layer&quot;: null, &quot;dataset_type&quot;: &quot;io.memory_dataset.MemoryDataset&quot;, &quot;stats&quot;: null}, {&quot;id&quot;: &quot;bda73a40&quot;, &quot;name&quot;: &quot;enrich_customers&quot;, &quot;tags&quot;: [], &quot;pipelines&quot;: [&quot;__default__&quot;], &quot;type&quot;: &quot;task&quot;, &quot;modular_pipelines&quot;: null, &quot;parameters&quot;: {}}, {&quot;id&quot;: &quot;37dacc5a&quot;, &quot;name&quot;: &quot;enriched_customers&quot;, &quot;tags&quot;: [], &quot;pipelines&quot;: [&quot;__default__&quot;], &quot;type&quot;: &quot;data&quot;, &quot;modular_pipelines&quot;: null, &quot;layer&quot;: null, &quot;dataset_type&quot;: &quot;io.memory_dataset.MemoryDataset&quot;, &quot;stats&quot;: null}, {&quot;id&quot;: &quot;7ae2796f&quot;, &quot;name&quot;: &quot;compute_stats&quot;, &quot;tags&quot;: [], &quot;pipelines&quot;: [&quot;__default__&quot;], &quot;type&quot;: &quot;task&quot;, &quot;modular_pipelines&quot;: null, &quot;parameters&quot;: {}}, {&quot;id&quot;: &quot;e1914486&quot;, &quot;name&quot;: &quot;customer_stats&quot;, &quot;tags&quot;: [], &quot;pipelines&quot;: [&quot;__default__&quot;], &quot;type&quot;: &quot;data&quot;, &quot;modular_pipelines&quot;: null, &quot;layer&quot;: null, &quot;dataset_type&quot;: &quot;io.memory_dataset.MemoryDataset&quot;, &quot;stats&quot;: null}, {&quot;id&quot;: &quot;c85486da&quot;, &quot;name&quot;: &quot;generate_report&quot;, &quot;tags&quot;: [], &quot;pipelines&quot;: [&quot;__default__&quot;], &quot;type&quot;: &quot;task&quot;, &quot;modular_pipelines&quot;: null, &quot;parameters&quot;: {}}, {&quot;id&quot;: &quot;a27297bd&quot;, &quot;name&quot;: &quot;report&quot;, &quot;tags&quot;: [], &quot;pipelines&quot;: [&quot;__default__&quot;], &quot;type&quot;: &quot;data&quot;, &quot;modular_pipelines&quot;: null, &quot;layer&quot;: null, &quot;dataset_type&quot;: &quot;io.memory_dataset.MemoryDataset&quot;, &quot;stats&quot;: null}], &quot;edges&quot;: [{&quot;source&quot;: &quot;7075a106&quot;, &quot;target&quot;: &quot;bd9bb7fc&quot;}, {&quot;source&quot;: &quot;37dacc5a&quot;, &quot;target&quot;: &quot;7ae2796f&quot;}, {&quot;source&quot;: &quot;bd9bb7fc&quot;, &quot;target&quot;: &quot;cfba0875&quot;}, {&quot;source&quot;: &quot;0b43e5e7&quot;, &quot;target&quot;: &quot;bda73a40&quot;}, {&quot;source&quot;: &quot;903a79e1&quot;, &quot;target&quot;: &quot;61c7ad04&quot;}, {&quot;source&quot;: &quot;7ae2796f&quot;, &quot;target&quot;: &quot;e1914486&quot;}, {&quot;source&quot;: &quot;c85486da&quot;, &quot;target&quot;: &quot;a27297bd&quot;}, {&quot;source&quot;: &quot;61c7ad04&quot;, &quot;target&quot;: &quot;bda73a40&quot;}, {&quot;source&quot;: &quot;cfba0875&quot;, &quot;target&quot;: &quot;0b43e5e7&quot;}, {&quot;source&quot;: &quot;e1914486&quot;, &quot;target&quot;: &quot;c85486da&quot;}, {&quot;source&quot;: &quot;bda73a40&quot;, &quot;target&quot;: &quot;37dacc5a&quot;}], &quot;layers&quot;: [], &quot;tags&quot;: [], &quot;pipelines&quot;: [{&quot;id&quot;: &quot;__default__&quot;, &quot;name&quot;: &quot;__default__&quot;}], &quot;modular_pipelines&quot;: {&quot;__root__&quot;: {&quot;id&quot;: &quot;__root__&quot;, &quot;name&quot;: &quot;__root__&quot;, &quot;inputs&quot;: [], &quot;outputs&quot;: [], &quot;children&quot;: [{&quot;id&quot;: &quot;cfba0875&quot;, &quot;type&quot;: &quot;task&quot;}, {&quot;id&quot;: &quot;0b43e5e7&quot;, &quot;type&quot;: &quot;data&quot;}, {&quot;id&quot;: &quot;7075a106&quot;, &quot;type&quot;: &quot;task&quot;}, {&quot;id&quot;: &quot;bd9bb7fc&quot;, &quot;type&quot;: &quot;data&quot;}, {&quot;id&quot;: &quot;61c7ad04&quot;, &quot;type&quot;: &quot;data&quot;}, {&quot;id&quot;: &quot;903a79e1&quot;, &quot;type&quot;: &quot;task&quot;}, {&quot;id&quot;: &quot;7ae2796f&quot;, &quot;type&quot;: &quot;task&quot;}, {&quot;id&quot;: &quot;bda73a40&quot;, &quot;type&quot;: &quot;task&quot;}, {&quot;id&quot;: &quot;a27297bd&quot;, &quot;type&quot;: &quot;data&quot;}, {&quot;id&quot;: &quot;e1914486&quot;, &quot;type&quot;: &quot;data&quot;}, {&quot;id&quot;: &quot;c85486da&quot;, &quot;type&quot;: &quot;task&quot;}, {&quot;id&quot;: &quot;37dacc5a&quot;, &quot;type&quot;: &quot;data&quot;}]}}, &quot;selected_pipeline&quot;: &quot;__default__&quot;},\n",
       "                            options: {&quot;display&quot;: {&quot;expandPipelinesBtn&quot;: true, &quot;globalNavigation&quot;: false, &quot;exportBtn&quot;: true, &quot;labelBtn&quot;: true, &quot;layerBtn&quot;: true, &quot;metadataPanel&quot;: false, &quot;miniMap&quot;: true, &quot;sidebar&quot;: true, &quot;zoomToolbar&quot;: true}, &quot;expandAllPipelines&quot;: true, &quot;behaviour&quot;: {&quot;reFocus&quot;: false}, &quot;theme&quot;: &quot;dark&quot;, &quot;width&quot;: &quot;100%&quot;, &quot;height&quot;: &quot;600px&quot;}\n",
       "                        })\n",
       "                    );\n",
       "                }\n",
       "            </script>\n",
       "        </body>\n",
       "        </html>\"  style=\"width:100%; height:600px; border:none;\" sandbox=\"allow-scripts\"></iframe>"
      ],
      "text/plain": [
       "\u001b[1m<\u001b[0m\u001b[1;95mIPython.core.display.HTML\u001b[0m\u001b[39m object\u001b[0m\u001b[1m>\u001b[0m"
      ]
     },
     "metadata": {},
     "output_type": "display_data"
    }
   ],
   "source": [
    "# Step 5: Generate a Report\n",
    "# Content: The final node turns stats into a human-readable report.\n",
    "\n",
    "def generate_report(stats):\n",
    "    return f\"Report: Total customers = {stats['count']}\"\n",
    "\n",
    "pipeline_5 = pipeline([\n",
    "    node(load_customers, None, \"raw_customers\", name=\"load_customers\"),\n",
    "    node(clean_customers, \"raw_customers\", \"cleaned_customers\", name=\"clean_customers\"),\n",
    "    node(load_geo_data, None, \"geo_data\", name=\"load_geo_data\"),\n",
    "    node(enrich_customers, [\"cleaned_customers\", \"geo_data\"], \"enriched_customers\", name=\"enrich_customers\"),\n",
    "    node(compute_stats, \"enriched_customers\", \"customer_stats\", name=\"compute_stats\"),\n",
    "    node(generate_report, \"customer_stats\", \"report\", name=\"generate_report\"),\n",
    "])\n",
    "\n",
    "NotebookVisualizer(pipeline_5, options={\n",
    "        \"display\": {\n",
    "            \"expandPipelinesBtn\": True,\n",
    "            \"exportBtn\": True,\n",
    "            \"labelBtn\": True,\n",
    "            \"layerBtn\": True,\n",
    "            \"miniMap\": True,\n",
    "            \"sidebar\": True,\n",
    "            \"zoomToolbar\": True,\n",
    "        },\n",
    "        \"expandAllPipelines\": True,\n",
    "        \"behaviour\": { \n",
    "            \"reFocus\": False,\n",
    "        },\n",
    "        \"theme\": \"dark\",\n",
    "        \"width\": \"100%\",\n",
    "        \"height\": \"600px\",   \n",
    "    }).show()\n"
   ]
  },
  {
   "cell_type": "code",
   "execution_count": null,
   "id": "ffebcc68-3ef1-4cd0-9f20-bb0d8a5c63cb",
   "metadata": {},
   "outputs": [],
   "source": []
  }
 ],
 "metadata": {
  "kernelspec": {
   "display_name": "Python 3 (ipykernel)",
   "language": "python",
   "name": "python3"
  },
  "language_info": {
   "codemirror_mode": {
    "name": "ipython",
    "version": 3
   },
   "file_extension": ".py",
   "mimetype": "text/x-python",
   "name": "python",
   "nbconvert_exporter": "python",
   "pygments_lexer": "ipython3",
   "version": "3.12.8"
  }
 },
 "nbformat": 4,
 "nbformat_minor": 5
}
